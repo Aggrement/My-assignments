{
  "nbformat": 4,
  "nbformat_minor": 0,
  "metadata": {
    "colab": {
      "provenance": []
    },
    "kernelspec": {
      "name": "python3",
      "display_name": "Python 3"
    },
    "language_info": {
      "name": "python"
    }
  },
  "cells": [
    {
      "cell_type": "code",
      "execution_count": 3,
      "metadata": {
        "colab": {
          "base_uri": "https://localhost:8080/"
        },
        "id": "rAvFoOOUQ1KD",
        "outputId": "99fa4751-a8d5-46d6-d799-822a884e33a6"
      },
      "outputs": [
        {
          "output_type": "stream",
          "name": "stdout",
          "text": [
            "Requirement already satisfied: keras in /usr/local/lib/python3.10/dist-packages (2.15.0)\n"
          ]
        }
      ],
      "source": [
        "!pip install keras"
      ]
    },
    {
      "cell_type": "markdown",
      "source": [
        "# New Section"
      ],
      "metadata": {
        "id": "9zRHfio-eVVM"
      }
    },
    {
      "cell_type": "markdown",
      "source": [
        "Create first MLP in cares\n"
      ],
      "metadata": {
        "id": "t4htnJzmRnr4"
      }
    },
    {
      "cell_type": "code",
      "source": [
        "from keras.models import Sequential\n",
        "from keras.layers import Dense\n",
        "import numpy"
      ],
      "metadata": {
        "id": "rhuRqY-gRYDd"
      },
      "execution_count": 4,
      "outputs": []
    },
    {
      "cell_type": "markdown",
      "source": [
        "Fix random seed for reproducibility"
      ],
      "metadata": {
        "id": "qcYRcUceSgIc"
      }
    },
    {
      "cell_type": "code",
      "source": [
        "seed=7\n",
        "numpy.random.seed(seed)"
      ],
      "metadata": {
        "id": "ll2FhswaSYoE"
      },
      "execution_count": 5,
      "outputs": []
    },
    {
      "cell_type": "markdown",
      "source": [
        "Load pima Indians dataset"
      ],
      "metadata": {
        "id": "cY1s1tVTTEeZ"
      }
    },
    {
      "cell_type": "code",
      "source": [
        "dataset=numpy.loadtxt(\"/content/pima-indians-diabetes.data.csv\",delimiter=\",\")"
      ],
      "metadata": {
        "id": "FT8IUSS-TCtZ"
      },
      "execution_count": 8,
      "outputs": []
    },
    {
      "cell_type": "markdown",
      "source": [
        "Split into input (x) and input (y) variable"
      ],
      "metadata": {
        "id": "wxXxh6UrWac7"
      }
    },
    {
      "cell_type": "code",
      "source": [
        "x=dataset[:,0:8]\n",
        "y=dataset[:,8]"
      ],
      "metadata": {
        "id": "6ro-pgEZUVxK"
      },
      "execution_count": 9,
      "outputs": []
    },
    {
      "cell_type": "markdown",
      "source": [
        "Create model"
      ],
      "metadata": {
        "id": "KXe0TDSNXUjU"
      }
    },
    {
      "cell_type": "code",
      "source": [
        "model=Sequential()\n",
        "model.add(Dense(12,input_dim=8,activation='relu')) #1st layer\n",
        "model.add(Dense(8,activation='relu')) #2nd layer\n",
        "model.add(Dense(1,activation='sigmoid')) #3rd layer or top layer"
      ],
      "metadata": {
        "id": "pjm3DDrfXG62"
      },
      "execution_count": 10,
      "outputs": []
    },
    {
      "cell_type": "markdown",
      "source": [
        "Compile model"
      ],
      "metadata": {
        "id": "ZylILSC6ZvhV"
      }
    },
    {
      "cell_type": "code",
      "source": [
        "model.compile(loss='binary_crossentropy',optimizer='adam',metrics=['accuracy'])"
      ],
      "metadata": {
        "id": "RN0hvARGXhQ-"
      },
      "execution_count": 11,
      "outputs": []
    },
    {
      "cell_type": "code",
      "source": [
        "768*0.67"
      ],
      "metadata": {
        "colab": {
          "base_uri": "https://localhost:8080/"
        },
        "id": "78yxCBkJaouS",
        "outputId": "54057eed-9a64-4ed7-9b93-5663a4a74445"
      },
      "execution_count": 12,
      "outputs": [
        {
          "output_type": "execute_result",
          "data": {
            "text/plain": [
              "514.5600000000001"
            ]
          },
          "metadata": {},
          "execution_count": 12
        }
      ]
    },
    {
      "cell_type": "markdown",
      "source": [
        "Fit the model"
      ],
      "metadata": {
        "id": "kO4nC-ezbF1N"
      }
    },
    {
      "cell_type": "code",
      "source": [
        "history=model.fit(x,y,validation_split=0.33,epochs=100,batch_size=100)"
      ],
      "metadata": {
        "colab": {
          "base_uri": "https://localhost:8080/"
        },
        "id": "OJw2i_JtbAN1",
        "outputId": "12e6d112-f3e0-48e1-f279-8eed84d58d5f"
      },
      "execution_count": 13,
      "outputs": [
        {
          "output_type": "stream",
          "name": "stdout",
          "text": [
            "Epoch 1/100\n",
            "6/6 [==============================] - 1s 51ms/step - loss: 12.0234 - accuracy: 0.4514 - val_loss: 10.4884 - val_accuracy: 0.4803\n",
            "Epoch 2/100\n",
            "6/6 [==============================] - 0s 11ms/step - loss: 10.7229 - accuracy: 0.4533 - val_loss: 9.3483 - val_accuracy: 0.4843\n",
            "Epoch 3/100\n",
            "6/6 [==============================] - 0s 13ms/step - loss: 9.5783 - accuracy: 0.4572 - val_loss: 8.3707 - val_accuracy: 0.4803\n",
            "Epoch 4/100\n",
            "6/6 [==============================] - 0s 9ms/step - loss: 8.5955 - accuracy: 0.4630 - val_loss: 7.4822 - val_accuracy: 0.4882\n",
            "Epoch 5/100\n",
            "6/6 [==============================] - 0s 9ms/step - loss: 7.6659 - accuracy: 0.4669 - val_loss: 6.6488 - val_accuracy: 0.4961\n",
            "Epoch 6/100\n",
            "6/6 [==============================] - 0s 8ms/step - loss: 6.8109 - accuracy: 0.4650 - val_loss: 5.8389 - val_accuracy: 0.5000\n",
            "Epoch 7/100\n",
            "6/6 [==============================] - 0s 8ms/step - loss: 5.9629 - accuracy: 0.4747 - val_loss: 5.0153 - val_accuracy: 0.5079\n",
            "Epoch 8/100\n",
            "6/6 [==============================] - 0s 9ms/step - loss: 5.1220 - accuracy: 0.4942 - val_loss: 4.2089 - val_accuracy: 0.5236\n",
            "Epoch 9/100\n",
            "6/6 [==============================] - 0s 12ms/step - loss: 4.3159 - accuracy: 0.5058 - val_loss: 3.4600 - val_accuracy: 0.5394\n",
            "Epoch 10/100\n",
            "6/6 [==============================] - 0s 8ms/step - loss: 3.5729 - accuracy: 0.5156 - val_loss: 2.8409 - val_accuracy: 0.5433\n",
            "Epoch 11/100\n",
            "6/6 [==============================] - 0s 13ms/step - loss: 2.9573 - accuracy: 0.5272 - val_loss: 2.3369 - val_accuracy: 0.5787\n",
            "Epoch 12/100\n",
            "6/6 [==============================] - 0s 12ms/step - loss: 2.4481 - accuracy: 0.5292 - val_loss: 1.9358 - val_accuracy: 0.5984\n",
            "Epoch 13/100\n",
            "6/6 [==============================] - 0s 8ms/step - loss: 2.0548 - accuracy: 0.5584 - val_loss: 1.6416 - val_accuracy: 0.6299\n",
            "Epoch 14/100\n",
            "6/6 [==============================] - 0s 11ms/step - loss: 1.7619 - accuracy: 0.5875 - val_loss: 1.4635 - val_accuracy: 0.6417\n",
            "Epoch 15/100\n",
            "6/6 [==============================] - 0s 12ms/step - loss: 1.6212 - accuracy: 0.6089 - val_loss: 1.3316 - val_accuracy: 0.6772\n",
            "Epoch 16/100\n",
            "6/6 [==============================] - 0s 9ms/step - loss: 1.5259 - accuracy: 0.6245 - val_loss: 1.2519 - val_accuracy: 0.6575\n",
            "Epoch 17/100\n",
            "6/6 [==============================] - 0s 9ms/step - loss: 1.4583 - accuracy: 0.6265 - val_loss: 1.2108 - val_accuracy: 0.6732\n",
            "Epoch 18/100\n",
            "6/6 [==============================] - 0s 9ms/step - loss: 1.4213 - accuracy: 0.6265 - val_loss: 1.1797 - val_accuracy: 0.6654\n",
            "Epoch 19/100\n",
            "6/6 [==============================] - 0s 9ms/step - loss: 1.3900 - accuracy: 0.6362 - val_loss: 1.1525 - val_accuracy: 0.6654\n",
            "Epoch 20/100\n",
            "6/6 [==============================] - 0s 13ms/step - loss: 1.3637 - accuracy: 0.6362 - val_loss: 1.1266 - val_accuracy: 0.6654\n",
            "Epoch 21/100\n",
            "6/6 [==============================] - 0s 9ms/step - loss: 1.3350 - accuracy: 0.6265 - val_loss: 1.1130 - val_accuracy: 0.6575\n",
            "Epoch 22/100\n",
            "6/6 [==============================] - 0s 12ms/step - loss: 1.3080 - accuracy: 0.6284 - val_loss: 1.0987 - val_accuracy: 0.6614\n",
            "Epoch 23/100\n",
            "6/6 [==============================] - 0s 9ms/step - loss: 1.2851 - accuracy: 0.6167 - val_loss: 1.0863 - val_accuracy: 0.6575\n",
            "Epoch 24/100\n",
            "6/6 [==============================] - 0s 12ms/step - loss: 1.2672 - accuracy: 0.6304 - val_loss: 1.0770 - val_accuracy: 0.6575\n",
            "Epoch 25/100\n",
            "6/6 [==============================] - 0s 8ms/step - loss: 1.2465 - accuracy: 0.6245 - val_loss: 1.0519 - val_accuracy: 0.6457\n",
            "Epoch 26/100\n",
            "6/6 [==============================] - 0s 9ms/step - loss: 1.2231 - accuracy: 0.6284 - val_loss: 1.0395 - val_accuracy: 0.6457\n",
            "Epoch 27/100\n",
            "6/6 [==============================] - 0s 9ms/step - loss: 1.1982 - accuracy: 0.6342 - val_loss: 1.0221 - val_accuracy: 0.6417\n",
            "Epoch 28/100\n",
            "6/6 [==============================] - 0s 9ms/step - loss: 1.1745 - accuracy: 0.6323 - val_loss: 1.0040 - val_accuracy: 0.6496\n",
            "Epoch 29/100\n",
            "6/6 [==============================] - 0s 9ms/step - loss: 1.1552 - accuracy: 0.6342 - val_loss: 0.9889 - val_accuracy: 0.6457\n",
            "Epoch 30/100\n",
            "6/6 [==============================] - 0s 11ms/step - loss: 1.1370 - accuracy: 0.6381 - val_loss: 0.9883 - val_accuracy: 0.6575\n",
            "Epoch 31/100\n",
            "6/6 [==============================] - 0s 15ms/step - loss: 1.1339 - accuracy: 0.6537 - val_loss: 0.9830 - val_accuracy: 0.6614\n",
            "Epoch 32/100\n",
            "6/6 [==============================] - 0s 12ms/step - loss: 1.1072 - accuracy: 0.6518 - val_loss: 0.9559 - val_accuracy: 0.6575\n",
            "Epoch 33/100\n",
            "6/6 [==============================] - 0s 11ms/step - loss: 1.0808 - accuracy: 0.6362 - val_loss: 0.9450 - val_accuracy: 0.6339\n",
            "Epoch 34/100\n",
            "6/6 [==============================] - 0s 8ms/step - loss: 1.0677 - accuracy: 0.6284 - val_loss: 0.9343 - val_accuracy: 0.6339\n",
            "Epoch 35/100\n",
            "6/6 [==============================] - 0s 12ms/step - loss: 1.0523 - accuracy: 0.6440 - val_loss: 0.9343 - val_accuracy: 0.6417\n",
            "Epoch 36/100\n",
            "6/6 [==============================] - 0s 14ms/step - loss: 1.0409 - accuracy: 0.6459 - val_loss: 0.9191 - val_accuracy: 0.6339\n",
            "Epoch 37/100\n",
            "6/6 [==============================] - 0s 11ms/step - loss: 1.0234 - accuracy: 0.6420 - val_loss: 0.9013 - val_accuracy: 0.6417\n",
            "Epoch 38/100\n",
            "6/6 [==============================] - 0s 13ms/step - loss: 0.9991 - accuracy: 0.6206 - val_loss: 0.8882 - val_accuracy: 0.6299\n",
            "Epoch 39/100\n",
            "6/6 [==============================] - 0s 11ms/step - loss: 0.9919 - accuracy: 0.5992 - val_loss: 0.8781 - val_accuracy: 0.6299\n",
            "Epoch 40/100\n",
            "6/6 [==============================] - 0s 11ms/step - loss: 0.9803 - accuracy: 0.6012 - val_loss: 0.8624 - val_accuracy: 0.6417\n",
            "Epoch 41/100\n",
            "6/6 [==============================] - 0s 10ms/step - loss: 0.9599 - accuracy: 0.6167 - val_loss: 0.8472 - val_accuracy: 0.6457\n",
            "Epoch 42/100\n",
            "6/6 [==============================] - 0s 13ms/step - loss: 0.9456 - accuracy: 0.6304 - val_loss: 0.8408 - val_accuracy: 0.6535\n",
            "Epoch 43/100\n",
            "6/6 [==============================] - 0s 13ms/step - loss: 0.9337 - accuracy: 0.6440 - val_loss: 0.8280 - val_accuracy: 0.6417\n",
            "Epoch 44/100\n",
            "6/6 [==============================] - 0s 13ms/step - loss: 0.9154 - accuracy: 0.6265 - val_loss: 0.8212 - val_accuracy: 0.6417\n",
            "Epoch 45/100\n",
            "6/6 [==============================] - 0s 10ms/step - loss: 0.9050 - accuracy: 0.6109 - val_loss: 0.8125 - val_accuracy: 0.6496\n",
            "Epoch 46/100\n",
            "6/6 [==============================] - 0s 12ms/step - loss: 0.8870 - accuracy: 0.6323 - val_loss: 0.8070 - val_accuracy: 0.6496\n",
            "Epoch 47/100\n",
            "6/6 [==============================] - 0s 11ms/step - loss: 0.8808 - accuracy: 0.6401 - val_loss: 0.8027 - val_accuracy: 0.6417\n",
            "Epoch 48/100\n",
            "6/6 [==============================] - 0s 13ms/step - loss: 0.8730 - accuracy: 0.6420 - val_loss: 0.8046 - val_accuracy: 0.6417\n",
            "Epoch 49/100\n",
            "6/6 [==============================] - 0s 13ms/step - loss: 0.8719 - accuracy: 0.6459 - val_loss: 0.8074 - val_accuracy: 0.6457\n",
            "Epoch 50/100\n",
            "6/6 [==============================] - 0s 13ms/step - loss: 0.8622 - accuracy: 0.6401 - val_loss: 0.8184 - val_accuracy: 0.6339\n",
            "Epoch 51/100\n",
            "6/6 [==============================] - 0s 10ms/step - loss: 0.8625 - accuracy: 0.6070 - val_loss: 0.8374 - val_accuracy: 0.6181\n",
            "Epoch 52/100\n",
            "6/6 [==============================] - 0s 9ms/step - loss: 0.8651 - accuracy: 0.6089 - val_loss: 0.7891 - val_accuracy: 0.6693\n",
            "Epoch 53/100\n",
            "6/6 [==============================] - 0s 12ms/step - loss: 0.8457 - accuracy: 0.6537 - val_loss: 0.7764 - val_accuracy: 0.6772\n",
            "Epoch 54/100\n",
            "6/6 [==============================] - 0s 11ms/step - loss: 0.8336 - accuracy: 0.6595 - val_loss: 0.7591 - val_accuracy: 0.6732\n",
            "Epoch 55/100\n",
            "6/6 [==============================] - 0s 14ms/step - loss: 0.8121 - accuracy: 0.6556 - val_loss: 0.7542 - val_accuracy: 0.6417\n",
            "Epoch 56/100\n",
            "6/6 [==============================] - 0s 12ms/step - loss: 0.8062 - accuracy: 0.6148 - val_loss: 0.7701 - val_accuracy: 0.6496\n",
            "Epoch 57/100\n",
            "6/6 [==============================] - 0s 9ms/step - loss: 0.8004 - accuracy: 0.6109 - val_loss: 0.7476 - val_accuracy: 0.6378\n",
            "Epoch 58/100\n",
            "6/6 [==============================] - 0s 9ms/step - loss: 0.7946 - accuracy: 0.6576 - val_loss: 0.7460 - val_accuracy: 0.6654\n",
            "Epoch 59/100\n",
            "6/6 [==============================] - 0s 9ms/step - loss: 0.7888 - accuracy: 0.6654 - val_loss: 0.7356 - val_accuracy: 0.6496\n",
            "Epoch 60/100\n",
            "6/6 [==============================] - 0s 16ms/step - loss: 0.7773 - accuracy: 0.6420 - val_loss: 0.7301 - val_accuracy: 0.6457\n",
            "Epoch 61/100\n",
            "6/6 [==============================] - 0s 17ms/step - loss: 0.7725 - accuracy: 0.6576 - val_loss: 0.7241 - val_accuracy: 0.6693\n",
            "Epoch 62/100\n",
            "6/6 [==============================] - 0s 19ms/step - loss: 0.7695 - accuracy: 0.6576 - val_loss: 0.7195 - val_accuracy: 0.6535\n",
            "Epoch 63/100\n",
            "6/6 [==============================] - 0s 14ms/step - loss: 0.7657 - accuracy: 0.6381 - val_loss: 0.7217 - val_accuracy: 0.6575\n",
            "Epoch 64/100\n",
            "6/6 [==============================] - 0s 15ms/step - loss: 0.7574 - accuracy: 0.6304 - val_loss: 0.7090 - val_accuracy: 0.6732\n",
            "Epoch 65/100\n",
            "6/6 [==============================] - 0s 14ms/step - loss: 0.7587 - accuracy: 0.6654 - val_loss: 0.7074 - val_accuracy: 0.6654\n",
            "Epoch 66/100\n",
            "6/6 [==============================] - 0s 15ms/step - loss: 0.7479 - accuracy: 0.6615 - val_loss: 0.7084 - val_accuracy: 0.6772\n",
            "Epoch 67/100\n",
            "6/6 [==============================] - 0s 13ms/step - loss: 0.7469 - accuracy: 0.6420 - val_loss: 0.7050 - val_accuracy: 0.6732\n",
            "Epoch 68/100\n",
            "6/6 [==============================] - 0s 12ms/step - loss: 0.7395 - accuracy: 0.6693 - val_loss: 0.6980 - val_accuracy: 0.6575\n",
            "Epoch 69/100\n",
            "6/6 [==============================] - 0s 15ms/step - loss: 0.7361 - accuracy: 0.6537 - val_loss: 0.6975 - val_accuracy: 0.6614\n",
            "Epoch 70/100\n",
            "6/6 [==============================] - 0s 15ms/step - loss: 0.7247 - accuracy: 0.6615 - val_loss: 0.6961 - val_accuracy: 0.6575\n",
            "Epoch 71/100\n",
            "6/6 [==============================] - 0s 15ms/step - loss: 0.7189 - accuracy: 0.6673 - val_loss: 0.6934 - val_accuracy: 0.6693\n",
            "Epoch 72/100\n",
            "6/6 [==============================] - 0s 17ms/step - loss: 0.7151 - accuracy: 0.6673 - val_loss: 0.6858 - val_accuracy: 0.6614\n",
            "Epoch 73/100\n",
            "6/6 [==============================] - 0s 16ms/step - loss: 0.7136 - accuracy: 0.6673 - val_loss: 0.6816 - val_accuracy: 0.6654\n",
            "Epoch 74/100\n",
            "6/6 [==============================] - 0s 13ms/step - loss: 0.7072 - accuracy: 0.6712 - val_loss: 0.6765 - val_accuracy: 0.6614\n",
            "Epoch 75/100\n",
            "6/6 [==============================] - 0s 13ms/step - loss: 0.7012 - accuracy: 0.6693 - val_loss: 0.6710 - val_accuracy: 0.6654\n",
            "Epoch 76/100\n",
            "6/6 [==============================] - 0s 15ms/step - loss: 0.6978 - accuracy: 0.6712 - val_loss: 0.6688 - val_accuracy: 0.6732\n",
            "Epoch 77/100\n",
            "6/6 [==============================] - 0s 12ms/step - loss: 0.6952 - accuracy: 0.6634 - val_loss: 0.6712 - val_accuracy: 0.6850\n",
            "Epoch 78/100\n",
            "6/6 [==============================] - 0s 12ms/step - loss: 0.6897 - accuracy: 0.6770 - val_loss: 0.6588 - val_accuracy: 0.6614\n",
            "Epoch 79/100\n",
            "6/6 [==============================] - 0s 15ms/step - loss: 0.6885 - accuracy: 0.6848 - val_loss: 0.6578 - val_accuracy: 0.6614\n",
            "Epoch 80/100\n",
            "6/6 [==============================] - 0s 15ms/step - loss: 0.6865 - accuracy: 0.6790 - val_loss: 0.6532 - val_accuracy: 0.6693\n",
            "Epoch 81/100\n",
            "6/6 [==============================] - 0s 12ms/step - loss: 0.6793 - accuracy: 0.6790 - val_loss: 0.6564 - val_accuracy: 0.6693\n",
            "Epoch 82/100\n",
            "6/6 [==============================] - 0s 15ms/step - loss: 0.6793 - accuracy: 0.6770 - val_loss: 0.6508 - val_accuracy: 0.6614\n",
            "Epoch 83/100\n",
            "6/6 [==============================] - 0s 13ms/step - loss: 0.6741 - accuracy: 0.6809 - val_loss: 0.6516 - val_accuracy: 0.6693\n",
            "Epoch 84/100\n",
            "6/6 [==============================] - 0s 14ms/step - loss: 0.6698 - accuracy: 0.6829 - val_loss: 0.6496 - val_accuracy: 0.6693\n",
            "Epoch 85/100\n",
            "6/6 [==============================] - 0s 15ms/step - loss: 0.6657 - accuracy: 0.6848 - val_loss: 0.6414 - val_accuracy: 0.6575\n",
            "Epoch 86/100\n",
            "6/6 [==============================] - 0s 14ms/step - loss: 0.6699 - accuracy: 0.6829 - val_loss: 0.6382 - val_accuracy: 0.6614\n",
            "Epoch 87/100\n",
            "6/6 [==============================] - 0s 16ms/step - loss: 0.6605 - accuracy: 0.6829 - val_loss: 0.6373 - val_accuracy: 0.6693\n",
            "Epoch 88/100\n",
            "6/6 [==============================] - 0s 14ms/step - loss: 0.6576 - accuracy: 0.6829 - val_loss: 0.6347 - val_accuracy: 0.6732\n",
            "Epoch 89/100\n",
            "6/6 [==============================] - 0s 16ms/step - loss: 0.6552 - accuracy: 0.6809 - val_loss: 0.6322 - val_accuracy: 0.6732\n",
            "Epoch 90/100\n",
            "6/6 [==============================] - 0s 20ms/step - loss: 0.6588 - accuracy: 0.6829 - val_loss: 0.6282 - val_accuracy: 0.6654\n",
            "Epoch 91/100\n",
            "6/6 [==============================] - 0s 15ms/step - loss: 0.6523 - accuracy: 0.6868 - val_loss: 0.6398 - val_accuracy: 0.6693\n",
            "Epoch 92/100\n",
            "6/6 [==============================] - 0s 18ms/step - loss: 0.6586 - accuracy: 0.6693 - val_loss: 0.6587 - val_accuracy: 0.6654\n",
            "Epoch 93/100\n",
            "6/6 [==============================] - 0s 18ms/step - loss: 0.6563 - accuracy: 0.6693 - val_loss: 0.6409 - val_accuracy: 0.6693\n",
            "Epoch 94/100\n",
            "6/6 [==============================] - 0s 17ms/step - loss: 0.6452 - accuracy: 0.6907 - val_loss: 0.6348 - val_accuracy: 0.6772\n",
            "Epoch 95/100\n",
            "6/6 [==============================] - 0s 20ms/step - loss: 0.6497 - accuracy: 0.6907 - val_loss: 0.6292 - val_accuracy: 0.6693\n",
            "Epoch 96/100\n",
            "6/6 [==============================] - 0s 16ms/step - loss: 0.6363 - accuracy: 0.6887 - val_loss: 0.6349 - val_accuracy: 0.6614\n",
            "Epoch 97/100\n",
            "6/6 [==============================] - 0s 18ms/step - loss: 0.6411 - accuracy: 0.6790 - val_loss: 0.6250 - val_accuracy: 0.6575\n",
            "Epoch 98/100\n",
            "6/6 [==============================] - 0s 17ms/step - loss: 0.6324 - accuracy: 0.6926 - val_loss: 0.6188 - val_accuracy: 0.6772\n",
            "Epoch 99/100\n",
            "6/6 [==============================] - 0s 14ms/step - loss: 0.6328 - accuracy: 0.7004 - val_loss: 0.6175 - val_accuracy: 0.6614\n",
            "Epoch 100/100\n",
            "6/6 [==============================] - 0s 15ms/step - loss: 0.6301 - accuracy: 0.6907 - val_loss: 0.6187 - val_accuracy: 0.6772\n"
          ]
        }
      ]
    },
    {
      "cell_type": "markdown",
      "source": [
        "Evaluate the model"
      ],
      "metadata": {
        "id": "RSZ-mhl2c9s3"
      }
    },
    {
      "cell_type": "code",
      "source": [
        "scores=model.evaluate(x,y)\n",
        "print(\"%s,%.2f%%\"%(model.metrics_names[1],scores[1]*100))"
      ],
      "metadata": {
        "colab": {
          "base_uri": "https://localhost:8080/"
        },
        "id": "Owxlb4oibnZ-",
        "outputId": "1ff5c9b7-99fc-408a-fda7-4d10df8e3493"
      },
      "execution_count": 14,
      "outputs": [
        {
          "output_type": "stream",
          "name": "stdout",
          "text": [
            "24/24 [==============================] - 0s 2ms/step - loss: 0.6252 - accuracy: 0.6914\n",
            "accuracy,69.14%\n"
          ]
        }
      ]
    },
    {
      "cell_type": "markdown",
      "source": [
        "Visaulize the training history"
      ],
      "metadata": {
        "id": "fllSNUZfsI8S"
      }
    },
    {
      "cell_type": "markdown",
      "source": [
        "List all data in history"
      ],
      "metadata": {
        "id": "kh4Gl2f7syvq"
      }
    },
    {
      "cell_type": "code",
      "source": [
        "history.history.keys()"
      ],
      "metadata": {
        "colab": {
          "base_uri": "https://localhost:8080/"
        },
        "id": "k6Veap1Ts2ld",
        "outputId": "512f576b-a31b-4205-aaf4-59e8e2841e5a"
      },
      "execution_count": 15,
      "outputs": [
        {
          "output_type": "execute_result",
          "data": {
            "text/plain": [
              "dict_keys(['loss', 'accuracy', 'val_loss', 'val_accuracy'])"
            ]
          },
          "metadata": {},
          "execution_count": 15
        }
      ]
    },
    {
      "cell_type": "markdown",
      "source": [
        "Summarize history for accuracy"
      ],
      "metadata": {
        "id": "atFd0ttNudau"
      }
    },
    {
      "cell_type": "code",
      "source": [
        "import matplotlib.pyplot as plt\n",
        "plt.plot(history.history['accuracy'])\n",
        "plt.plot(history.history[\"val_accuracy\"])\n",
        "plt.title('model accuracy')\n",
        "plt.ylabel('accuracy')\n",
        "plt.xlabel('epoch')\n",
        "plt.legend(['train,test'],loc='upper left')\n",
        "plt.show()"
      ],
      "metadata": {
        "colab": {
          "base_uri": "https://localhost:8080/",
          "height": 472
        },
        "id": "HjQXz2oes-6B",
        "outputId": "a9212e99-f1bf-4062-d0d7-0b9c491c984a"
      },
      "execution_count": 25,
      "outputs": [
        {
          "output_type": "display_data",
          "data": {
            "text/plain": [
              "<Figure size 640x480 with 1 Axes>"
            ],
            "image/png": "[encoded data removed]"
          },
          "metadata": {}
        }
      ]
    },
    {
      "cell_type": "markdown",
      "source": [
        "Summarize history for loss"
      ],
      "metadata": {
        "id": "WpUxP61Oy8Fq"
      }
    },
    {
      "cell_type": "code",
      "source": [
        "plt.plot(history.history['loss'])\n",
        "plt.plot(history.history['val_loss'])\n",
        "plt.title('model loss')\n",
        "plt.ylabel('loss')\n",
        "plt.xlabel('epoch')\n",
        "plt.legend(['train','test'],loc='upper left')\n",
        "plt.show()"
      ],
      "metadata": {
        "colab": {
          "base_uri": "https://localhost:8080/",
          "height": 472
        },
        "id": "x0kHOqmHzB3B",
        "outputId": "d3dc295d-d84a-4399-ce21-8ebbd02f6151"
      },
      "execution_count": 27,
      "outputs": [
        {
          "output_type": "display_data",
          "data": {
            "text/plain": [
              "<Figure size 640x480 with 1 Axes>"
            ],
            "image/png": "[encoded data removed]"
          },
          "metadata": {}
        }
      ]
    },
    {
      "cell_type": "code",
      "source": [],
      "metadata": {
        "id": "h874NHF50IYn"
      },
      "execution_count": null,
      "outputs": []
    }
  ]
}