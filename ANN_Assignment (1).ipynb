{
  "nbformat": 4,
  "nbformat_minor": 0,
  "metadata": {
    "colab": {
      "provenance": []
    },
    "kernelspec": {
      "name": "python3",
      "display_name": "Python 3"
    },
    "language_info": {
      "name": "python"
    }
  },
  "cells": [
    {
      "cell_type": "markdown",
      "source": [
        "Step 1 : EDA"
      ],
      "metadata": {
        "id": "bdLZERsLSOaj"
      }
    },
    {
      "cell_type": "markdown",
      "source": [
        "Load the liberaries"
      ],
      "metadata": {
        "id": "umErVtbNSms9"
      }
    },
    {
      "cell_type": "code",
      "execution_count": null,
      "metadata": {
        "id": "NucGJgAiRpOG"
      },
      "outputs": [],
      "source": [
        "import pandas as pd\n",
        "import numpy as np\n",
        "import matplotlib.pyplot as plt\n",
        "%matplotlib inline"
      ]
    },
    {
      "cell_type": "code",
      "source": [
        "data=pd.read_csv(\"Heart_Disease_Prediction.csv\")"
      ],
      "metadata": {
        "id": "6mSvRJqBStBL"
      },
      "execution_count": null,
      "outputs": []
    },
    {
      "cell_type": "markdown",
      "source": [
        "Explore the data type and structure"
      ],
      "metadata": {
        "id": "b5zAPuZ6UGUP"
      }
    },
    {
      "cell_type": "code",
      "source": [
        "data.head()"
      ],
      "metadata": {
        "colab": {
          "base_uri": "https://localhost:8080/",
          "height": 240
        },
        "id": "m69wQjhPTxEK",
        "outputId": "a30a467e-009a-4371-9bcb-c444f1ac0698"
      },
      "execution_count": null,
      "outputs": [
        {
          "output_type": "execute_result",
          "data": {
            "text/plain": [
              "   Age  Sex  Chest pain type   BP  Cholesterol  FBS over 120  EKG results  \\\n",
              "0   70    1                4  130          322             0            2   \n",
              "1   67    0                3  115          564             0            2   \n",
              "2   57    1                2  124          261             0            0   \n",
              "3   64    1                4  128          263             0            0   \n",
              "4   74    0                2  120          269             0            2   \n",
              "\n",
              "   Max HR  Exercise angina  ST depression  Slope of ST  \\\n",
              "0     109                0            2.4            2   \n",
              "1     160                0            1.6            2   \n",
              "2     141                0            0.3            1   \n",
              "3     105                1            0.2            2   \n",
              "4     121                1            0.2            1   \n",
              "\n",
              "   Number of vessels fluro  Thallium Heart Disease  \n",
              "0                        3         3      Presence  \n",
              "1                        0         7       Absence  \n",
              "2                        0         7      Presence  \n",
              "3                        1         7       Absence  \n",
              "4                        1         3       Absence  "
            ],
            "text/html": [
              "\n",
              "  <div id=\"df-94441873-334e-4d23-bf92-d7682f498534\" class=\"colab-df-container\">\n",
              "    <div>\n",
              "<style scoped>\n",
              "    .dataframe tbody tr th:only-of-type {\n",
              "        vertical-align: middle;\n",
              "    }\n",
              "\n",
              "    .dataframe tbody tr th {\n",
              "        vertical-align: top;\n",
              "    }\n",
              "\n",
              "    .dataframe thead th {\n",
              "        text-align: right;\n",
              "    }\n",
              "</style>\n",
              "<table border=\"1\" class=\"dataframe\">\n",
              "  <thead>\n",
              "    <tr style=\"text-align: right;\">\n",
              "      <th></th>\n",
              "      <th>Age</th>\n",
              "      <th>Sex</th>\n",
              "      <th>Chest pain type</th>\n",
              "      <th>BP</th>\n",
              "      <th>Cholesterol</th>\n",
              "      <th>FBS over 120</th>\n",
              "      <th>EKG results</th>\n",
              "      <th>Max HR</th>\n",
              "      <th>Exercise angina</th>\n",
              "      <th>ST depression</th>\n",
              "      <th>Slope of ST</th>\n",
              "      <th>Number of vessels fluro</th>\n",
              "      <th>Thallium</th>\n",
              "      <th>Heart Disease</th>\n",
              "    </tr>\n",
              "  </thead>\n",
              "  <tbody>\n",
              "    <tr>\n",
              "      <th>0</th>\n",
              "      <td>70</td>\n",
              "      <td>1</td>\n",
              "      <td>4</td>\n",
              "      <td>130</td>\n",
              "      <td>322</td>\n",
              "      <td>0</td>\n",
              "      <td>2</td>\n",
              "      <td>109</td>\n",
              "      <td>0</td>\n",
              "      <td>2.4</td>\n",
              "      <td>2</td>\n",
              "      <td>3</td>\n",
              "      <td>3</td>\n",
              "      <td>Presence</td>\n",
              "    </tr>\n",
              "    <tr>\n",
              "      <th>1</th>\n",
              "      <td>67</td>\n",
              "      <td>0</td>\n",
              "      <td>3</td>\n",
              "      <td>115</td>\n",
              "      <td>564</td>\n",
              "      <td>0</td>\n",
              "      <td>2</td>\n",
              "      <td>160</td>\n",
              "      <td>0</td>\n",
              "      <td>1.6</td>\n",
              "      <td>2</td>\n",
              "      <td>0</td>\n",
              "      <td>7</td>\n",
              "      <td>Absence</td>\n",
              "    </tr>\n",
              "    <tr>\n",
              "      <th>2</th>\n",
              "      <td>57</td>\n",
              "      <td>1</td>\n",
              "      <td>2</td>\n",
              "      <td>124</td>\n",
              "      <td>261</td>\n",
              "      <td>0</td>\n",
              "      <td>0</td>\n",
              "      <td>141</td>\n",
              "      <td>0</td>\n",
              "      <td>0.3</td>\n",
              "      <td>1</td>\n",
              "      <td>0</td>\n",
              "      <td>7</td>\n",
              "      <td>Presence</td>\n",
              "    </tr>\n",
              "    <tr>\n",
              "      <th>3</th>\n",
              "      <td>64</td>\n",
              "      <td>1</td>\n",
              "      <td>4</td>\n",
              "      <td>128</td>\n",
              "      <td>263</td>\n",
              "      <td>0</td>\n",
              "      <td>0</td>\n",
              "      <td>105</td>\n",
              "      <td>1</td>\n",
              "      <td>0.2</td>\n",
              "      <td>2</td>\n",
              "      <td>1</td>\n",
              "      <td>7</td>\n",
              "      <td>Absence</td>\n",
              "    </tr>\n",
              "    <tr>\n",
              "      <th>4</th>\n",
              "      <td>74</td>\n",
              "      <td>0</td>\n",
              "      <td>2</td>\n",
              "      <td>120</td>\n",
              "      <td>269</td>\n",
              "      <td>0</td>\n",
              "      <td>2</td>\n",
              "      <td>121</td>\n",
              "      <td>1</td>\n",
              "      <td>0.2</td>\n",
              "      <td>1</td>\n",
              "      <td>1</td>\n",
              "      <td>3</td>\n",
              "      <td>Absence</td>\n",
              "    </tr>\n",
              "  </tbody>\n",
              "</table>\n",
              "</div>\n",
              "    <div class=\"colab-df-buttons\">\n",
              "\n",
              "  <div class=\"colab-df-container\">\n",
              "    <button class=\"colab-df-convert\" onclick=\"convertToInteractive('df-94441873-334e-4d23-bf92-d7682f498534')\"\n",
              "            title=\"Convert this dataframe to an interactive table.\"\n",
              "            style=\"display:none;\">\n",
              "\n",
              "  <svg xmlns=\"http://www.w3.org/2000/svg\" height=\"24px\" viewBox=\"0 -960 960 960\">\n",
              "    <path d=\"M120-120v-720h720v720H120Zm60-500h600v-160H180v160Zm220 220h160v-160H400v160Zm0 220h160v-160H400v160ZM180-400h160v-160H180v160Zm440 0h160v-160H620v160ZM180-180h160v-160H180v160Zm440 0h160v-160H620v160Z\"/>\n",
              "  </svg>\n",
              "    </button>\n",
              "\n",
              "  <style>\n",
              "    .colab-df-container {\n",
              "      display:flex;\n",
              "      gap: 12px;\n",
              "    }\n",
              "\n",
              "    .colab-df-convert {\n",
              "      background-color: #E8F0FE;\n",
              "      border: none;\n",
              "      border-radius: 50%;\n",
              "      cursor: pointer;\n",
              "      display: none;\n",
              "      fill: #1967D2;\n",
              "      height: 32px;\n",
              "      padding: 0 0 0 0;\n",
              "      width: 32px;\n",
              "    }\n",
              "\n",
              "    .colab-df-convert:hover {\n",
              "      background-color: #E2EBFA;\n",
              "      box-shadow: 0px 1px 2px rgba(60, 64, 67, 0.3), 0px 1px 3px 1px rgba(60, 64, 67, 0.15);\n",
              "      fill: #174EA6;\n",
              "    }\n",
              "\n",
              "    .colab-df-buttons div {\n",
              "      margin-bottom: 4px;\n",
              "    }\n",
              "\n",
              "    [theme=dark] .colab-df-convert {\n",
              "      background-color: #3B4455;\n",
              "      fill: #D2E3FC;\n",
              "    }\n",
              "\n",
              "    [theme=dark] .colab-df-convert:hover {\n",
              "      background-color: #434B5C;\n",
              "      box-shadow: 0px 1px 3px 1px rgba(0, 0, 0, 0.15);\n",
              "      filter: drop-shadow(0px 1px 2px rgba(0, 0, 0, 0.3));\n",
              "      fill: #FFFFFF;\n",
              "    }\n",
              "  </style>\n",
              "\n",
              "    <script>\n",
              "      const buttonEl =\n",
              "        document.querySelector('#df-94441873-334e-4d23-bf92-d7682f498534 button.colab-df-convert');\n",
              "      buttonEl.style.display =\n",
              "        google.colab.kernel.accessAllowed ? 'block' : 'none';\n",
              "\n",
              "      async function convertToInteractive(key) {\n",
              "        const element = document.querySelector('#df-94441873-334e-4d23-bf92-d7682f498534');\n",
              "        const dataTable =\n",
              "          await google.colab.kernel.invokeFunction('convertToInteractive',\n",
              "                                                    [key], {});\n",
              "        if (!dataTable) return;\n",
              "\n",
              "        const docLinkHtml = 'Like what you see? Visit the ' +\n",
              "          '<a target=\"_blank\" href=https://colab.research.google.com/notebooks/data_table.ipynb>data table notebook</a>'\n",
              "          + ' to learn more about interactive tables.';\n",
              "        element.innerHTML = '';\n",
              "        dataTable['output_type'] = 'display_data';\n",
              "        await google.colab.output.renderOutput(dataTable, element);\n",
              "        const docLink = document.createElement('div');\n",
              "        docLink.innerHTML = docLinkHtml;\n",
              "        element.appendChild(docLink);\n",
              "      }\n",
              "    </script>\n",
              "  </div>\n",
              "\n",
              "\n",
              "<div id=\"df-eb9cf375-6fdf-4991-bbef-e1275455d8db\">\n",
              "  <button class=\"colab-df-quickchart\" onclick=\"quickchart('df-eb9cf375-6fdf-4991-bbef-e1275455d8db')\"\n",
              "            title=\"Suggest charts\"\n",
              "            style=\"display:none;\">\n",
              "\n",
              "<svg xmlns=\"http://www.w3.org/2000/svg\" height=\"24px\"viewBox=\"0 0 24 24\"\n",
              "     width=\"24px\">\n",
              "    <g>\n",
              "        <path d=\"M19 3H5c-1.1 0-2 .9-2 2v14c0 1.1.9 2 2 2h14c1.1 0 2-.9 2-2V5c0-1.1-.9-2-2-2zM9 17H7v-7h2v7zm4 0h-2V7h2v10zm4 0h-2v-4h2v4z\"/>\n",
              "    </g>\n",
              "</svg>\n",
              "  </button>\n",
              "\n",
              "<style>\n",
              "  .colab-df-quickchart {\n",
              "      --bg-color: #E8F0FE;\n",
              "      --fill-color: #1967D2;\n",
              "      --hover-bg-color: #E2EBFA;\n",
              "      --hover-fill-color: #174EA6;\n",
              "      --disabled-fill-color: #AAA;\n",
              "      --disabled-bg-color: #DDD;\n",
              "  }\n",
              "\n",
              "  [theme=dark] .colab-df-quickchart {\n",
              "      --bg-color: #3B4455;\n",
              "      --fill-color: #D2E3FC;\n",
              "      --hover-bg-color: #434B5C;\n",
              "      --hover-fill-color: #FFFFFF;\n",
              "      --disabled-bg-color: #3B4455;\n",
              "      --disabled-fill-color: #666;\n",
              "  }\n",
              "\n",
              "  .colab-df-quickchart {\n",
              "    background-color: var(--bg-color);\n",
              "    border: none;\n",
              "    border-radius: 50%;\n",
              "    cursor: pointer;\n",
              "    display: none;\n",
              "    fill: var(--fill-color);\n",
              "    height: 32px;\n",
              "    padding: 0;\n",
              "    width: 32px;\n",
              "  }\n",
              "\n",
              "  .colab-df-quickchart:hover {\n",
              "    background-color: var(--hover-bg-color);\n",
              "    box-shadow: 0 1px 2px rgba(60, 64, 67, 0.3), 0 1px 3px 1px rgba(60, 64, 67, 0.15);\n",
              "    fill: var(--button-hover-fill-color);\n",
              "  }\n",
              "\n",
              "  .colab-df-quickchart-complete:disabled,\n",
              "  .colab-df-quickchart-complete:disabled:hover {\n",
              "    background-color: var(--disabled-bg-color);\n",
              "    fill: var(--disabled-fill-color);\n",
              "    box-shadow: none;\n",
              "  }\n",
              "\n",
              "  .colab-df-spinner {\n",
              "    border: 2px solid var(--fill-color);\n",
              "    border-color: transparent;\n",
              "    border-bottom-color: var(--fill-color);\n",
              "    animation:\n",
              "      spin 1s steps(1) infinite;\n",
              "  }\n",
              "\n",
              "  @keyframes spin {\n",
              "    0% {\n",
              "      border-color: transparent;\n",
              "      border-bottom-color: var(--fill-color);\n",
              "      border-left-color: var(--fill-color);\n",
              "    }\n",
              "    20% {\n",
              "      border-color: transparent;\n",
              "      border-left-color: var(--fill-color);\n",
              "      border-top-color: var(--fill-color);\n",
              "    }\n",
              "    30% {\n",
              "      border-color: transparent;\n",
              "      border-left-color: var(--fill-color);\n",
              "      border-top-color: var(--fill-color);\n",
              "      border-right-color: var(--fill-color);\n",
              "    }\n",
              "    40% {\n",
              "      border-color: transparent;\n",
              "      border-right-color: var(--fill-color);\n",
              "      border-top-color: var(--fill-color);\n",
              "    }\n",
              "    60% {\n",
              "      border-color: transparent;\n",
              "      border-right-color: var(--fill-color);\n",
              "    }\n",
              "    80% {\n",
              "      border-color: transparent;\n",
              "      border-right-color: var(--fill-color);\n",
              "      border-bottom-color: var(--fill-color);\n",
              "    }\n",
              "    90% {\n",
              "      border-color: transparent;\n",
              "      border-bottom-color: var(--fill-color);\n",
              "    }\n",
              "  }\n",
              "</style>\n",
              "\n",
              "  <script>\n",
              "    async function quickchart(key) {\n",
              "      const quickchartButtonEl =\n",
              "        document.querySelector('#' + key + ' button');\n",
              "      quickchartButtonEl.disabled = true;  // To prevent multiple clicks.\n",
              "      quickchartButtonEl.classList.add('colab-df-spinner');\n",
              "      try {\n",
              "        const charts = await google.colab.kernel.invokeFunction(\n",
              "            'suggestCharts', [key], {});\n",
              "      } catch (error) {\n",
              "        console.error('Error during call to suggestCharts:', error);\n",
              "      }\n",
              "      quickchartButtonEl.classList.remove('colab-df-spinner');\n",
              "      quickchartButtonEl.classList.add('colab-df-quickchart-complete');\n",
              "    }\n",
              "    (() => {\n",
              "      let quickchartButtonEl =\n",
              "        document.querySelector('#df-eb9cf375-6fdf-4991-bbef-e1275455d8db button');\n",
              "      quickchartButtonEl.style.display =\n",
              "        google.colab.kernel.accessAllowed ? 'block' : 'none';\n",
              "    })();\n",
              "  </script>\n",
              "</div>\n",
              "\n",
              "    </div>\n",
              "  </div>\n"
            ]
          },
          "metadata": {},
          "execution_count": 18
        }
      ]
    },
    {
      "cell_type": "code",
      "source": [
        "data.shape"
      ],
      "metadata": {
        "colab": {
          "base_uri": "https://localhost:8080/"
        },
        "id": "SG5KD8hBT0VP",
        "outputId": "0834902c-4d18-424a-c45f-d6ce68667670"
      },
      "execution_count": null,
      "outputs": [
        {
          "output_type": "execute_result",
          "data": {
            "text/plain": [
              "(270, 14)"
            ]
          },
          "metadata": {},
          "execution_count": 19
        }
      ]
    },
    {
      "cell_type": "code",
      "source": [
        "data.dtypes"
      ],
      "metadata": {
        "colab": {
          "base_uri": "https://localhost:8080/"
        },
        "id": "As-_UVbFUU44",
        "outputId": "c85581b1-31db-43ad-dc5f-019da96ef778"
      },
      "execution_count": null,
      "outputs": [
        {
          "output_type": "execute_result",
          "data": {
            "text/plain": [
              "Age                          int64\n",
              "Sex                          int64\n",
              "Chest pain type              int64\n",
              "BP                           int64\n",
              "Cholesterol                  int64\n",
              "FBS over 120                 int64\n",
              "EKG results                  int64\n",
              "Max HR                       int64\n",
              "Exercise angina              int64\n",
              "ST depression              float64\n",
              "Slope of ST                  int64\n",
              "Number of vessels fluro      int64\n",
              "Thallium                     int64\n",
              "Heart Disease               object\n",
              "dtype: object"
            ]
          },
          "metadata": {},
          "execution_count": 20
        }
      ]
    },
    {
      "cell_type": "code",
      "source": [
        "data.info()"
      ],
      "metadata": {
        "colab": {
          "base_uri": "https://localhost:8080/"
        },
        "id": "i-uMJZpQUdMR",
        "outputId": "689116a3-a8dc-49bc-dfba-8dcbc9317134"
      },
      "execution_count": null,
      "outputs": [
        {
          "output_type": "stream",
          "name": "stdout",
          "text": [
            "<class 'pandas.core.frame.DataFrame'>\n",
            "Int64Index: 270 entries, 70 to 67\n",
            "Data columns (total 13 columns):\n",
            " #   Column                   Non-Null Count  Dtype  \n",
            "---  ------                   --------------  -----  \n",
            " 0   Sex                      270 non-null    int64  \n",
            " 1   Chest pain type          270 non-null    int64  \n",
            " 2   BP                       270 non-null    int64  \n",
            " 3   Cholesterol              270 non-null    int64  \n",
            " 4   FBS over 120             270 non-null    int64  \n",
            " 5   EKG results              270 non-null    int64  \n",
            " 6   Max HR                   270 non-null    int64  \n",
            " 7   Exercise angina          270 non-null    int64  \n",
            " 8   ST depression            270 non-null    float64\n",
            " 9   Slope of ST              270 non-null    int64  \n",
            " 10  Number of vessels fluro  270 non-null    int64  \n",
            " 11  Thallium                 270 non-null    int64  \n",
            " 12  Heart Disease            270 non-null    object \n",
            "dtypes: float64(1), int64(11), object(1)\n",
            "memory usage: 29.5+ KB\n"
          ]
        }
      ]
    },
    {
      "cell_type": "markdown",
      "source": [
        "OneNote coding of column 12 (Heart disease)"
      ],
      "metadata": {
        "id": "Vtl2FgTUV0AH"
      }
    },
    {
      "cell_type": "markdown",
      "source": [
        "Inport liberary"
      ],
      "metadata": {
        "id": "o7OJoKr6ZWoD"
      }
    },
    {
      "cell_type": "code",
      "source": [
        "from sklearn.preprocessing import LabelEncoder\n",
        "labelencoder=LabelEncoder()"
      ],
      "metadata": {
        "id": "QC0ke6N3ZiMP"
      },
      "execution_count": null,
      "outputs": []
    },
    {
      "cell_type": "code",
      "source": [
        "data[\"Heart Disease\"].unique()"
      ],
      "metadata": {
        "colab": {
          "base_uri": "https://localhost:8080/"
        },
        "id": "g4qPBtq-VIKO",
        "outputId": "c4a28c32-b8bb-4d95-9fa9-1a1c874fb147"
      },
      "execution_count": null,
      "outputs": [
        {
          "output_type": "execute_result",
          "data": {
            "text/plain": [
              "array(['Presence', 'Absence'], dtype=object)"
            ]
          },
          "metadata": {},
          "execution_count": 23
        }
      ]
    },
    {
      "cell_type": "code",
      "source": [
        "data[\"Heart Disease\"]=labelencoder.fit_transform(data[\"Heart Disease\"])"
      ],
      "metadata": {
        "id": "SABmvxG6WFP3"
      },
      "execution_count": null,
      "outputs": []
    },
    {
      "cell_type": "code",
      "source": [
        "data[\"Heart Disease\"].unique()"
      ],
      "metadata": {
        "colab": {
          "base_uri": "https://localhost:8080/"
        },
        "id": "S4woxUBIZ3UF",
        "outputId": "81e552fe-95d3-4b52-8df4-069d78a9a6ca"
      },
      "execution_count": null,
      "outputs": [
        {
          "output_type": "execute_result",
          "data": {
            "text/plain": [
              "array([1, 0])"
            ]
          },
          "metadata": {},
          "execution_count": 26
        }
      ]
    },
    {
      "cell_type": "markdown",
      "source": [
        "Step2: Neural Network"
      ],
      "metadata": {
        "id": "0Z8FZ2PdaySq"
      }
    },
    {
      "cell_type": "code",
      "source": [
        "!pip install keras"
      ],
      "metadata": {
        "colab": {
          "base_uri": "https://localhost:8080/"
        },
        "id": "DZssS4aeaVSu",
        "outputId": "02e9deb9-4cc6-415f-ee79-eb823000d46e"
      },
      "execution_count": null,
      "outputs": [
        {
          "output_type": "stream",
          "name": "stdout",
          "text": [
            "Requirement already satisfied: keras in /usr/local/lib/python3.10/dist-packages (2.15.0)\n"
          ]
        }
      ]
    },
    {
      "cell_type": "markdown",
      "source": [
        "Creat MLP inkeras"
      ],
      "metadata": {
        "id": "M3SdyY1wbCyl"
      }
    },
    {
      "cell_type": "code",
      "source": [
        "from keras.models import Sequential\n",
        "from keras.layers import Dense\n"
      ],
      "metadata": {
        "id": "CBGFTRgba7q1"
      },
      "execution_count": null,
      "outputs": []
    },
    {
      "cell_type": "markdown",
      "source": [
        "Fix random seed for reproducibility"
      ],
      "metadata": {
        "id": "HiRDkuWdb30d"
      }
    },
    {
      "cell_type": "code",
      "source": [
        "seed=7\n",
        "np.random.seed(seed)"
      ],
      "metadata": {
        "id": "DYqbIaWybzGT"
      },
      "execution_count": null,
      "outputs": []
    },
    {
      "cell_type": "markdown",
      "source": [
        "Split dataset into input (x) and input (y) variables"
      ],
      "metadata": {
        "id": "H6EhEXxAcJE3"
      }
    },
    {
      "cell_type": "code",
      "source": [
        "x=data.iloc[:, :11]\n",
        "y=data.iloc[:,8]"
      ],
      "metadata": {
        "id": "fAqp2agXcCia"
      },
      "execution_count": null,
      "outputs": []
    },
    {
      "cell_type": "markdown",
      "source": [
        "Create model"
      ],
      "metadata": {
        "id": "pz4isWbMfTua"
      }
    },
    {
      "cell_type": "code",
      "source": [
        "model=Sequential()\n",
        "model.add(Dense(12,input_dim=11,activation='relu')) #1st layer\n",
        "model.add(Dense(8,activation='relu')) #2nd layer\n",
        "model.add(Dense(1,activation='sigmoid')) #3rd layer or top layer"
      ],
      "metadata": {
        "id": "aFDabwIncpk3"
      },
      "execution_count": null,
      "outputs": []
    },
    {
      "cell_type": "markdown",
      "source": [
        "Complete model"
      ],
      "metadata": {
        "id": "qYEHHPiHfrir"
      }
    },
    {
      "cell_type": "code",
      "source": [
        "model.compile(loss='binary_crossentropy',optimizer='adam',metrics=['accuracy'])"
      ],
      "metadata": {
        "id": "sxFDTU1Ufnfl"
      },
      "execution_count": null,
      "outputs": []
    },
    {
      "cell_type": "code",
      "source": [
        "786*0.67"
      ],
      "metadata": {
        "colab": {
          "base_uri": "https://localhost:8080/"
        },
        "id": "kD2Ew8MTf3Gx",
        "outputId": "52ae3b5f-c385-41a5-f4c4-0ee12b26fc55"
      },
      "execution_count": null,
      "outputs": [
        {
          "output_type": "execute_result",
          "data": {
            "text/plain": [
              "526.62"
            ]
          },
          "metadata": {},
          "execution_count": 50
        }
      ]
    },
    {
      "cell_type": "markdown",
      "source": [
        "Fit the model"
      ],
      "metadata": {
        "id": "4wVEBWi3gmsP"
      }
    },
    {
      "cell_type": "code",
      "source": [
        "history=model.fit(x,y,validation_split=0.25,epochs=100,batch_size=100)"
      ],
      "metadata": {
        "colab": {
          "base_uri": "https://localhost:8080/"
        },
        "id": "5Y5McsLAgOuA",
        "outputId": "38162471-255c-41d7-c577-64497b26c085"
      },
      "execution_count": null,
      "outputs": [
        {
          "output_type": "stream",
          "name": "stdout",
          "text": [
            "Epoch 1/100\n",
            "3/3 [==============================] - 0s 42ms/step - loss: 0.9689 - accuracy: 0.6782 - val_loss: 1.1507 - val_accuracy: 0.6324\n",
            "Epoch 2/100\n",
            "3/3 [==============================] - 0s 16ms/step - loss: 0.9543 - accuracy: 0.6832 - val_loss: 1.1602 - val_accuracy: 0.6176\n",
            "Epoch 3/100\n",
            "3/3 [==============================] - 0s 16ms/step - loss: 0.9477 - accuracy: 0.6881 - val_loss: 1.1298 - val_accuracy: 0.6324\n",
            "Epoch 4/100\n",
            "3/3 [==============================] - 0s 16ms/step - loss: 0.9437 - accuracy: 0.6980 - val_loss: 1.1286 - val_accuracy: 0.6471\n",
            "Epoch 5/100\n",
            "3/3 [==============================] - 0s 17ms/step - loss: 0.9535 - accuracy: 0.7277 - val_loss: 1.1303 - val_accuracy: 0.6765\n",
            "Epoch 6/100\n",
            "3/3 [==============================] - 0s 16ms/step - loss: 0.9780 - accuracy: 0.7574 - val_loss: 1.2079 - val_accuracy: 0.6912\n",
            "Epoch 7/100\n",
            "3/3 [==============================] - 0s 17ms/step - loss: 1.0639 - accuracy: 0.7525 - val_loss: 1.1945 - val_accuracy: 0.7059\n",
            "Epoch 8/100\n",
            "3/3 [==============================] - 0s 25ms/step - loss: 1.0397 - accuracy: 0.7525 - val_loss: 1.0807 - val_accuracy: 0.7206\n",
            "Epoch 9/100\n",
            "3/3 [==============================] - 0s 16ms/step - loss: 0.9338 - accuracy: 0.7327 - val_loss: 1.0428 - val_accuracy: 0.6471\n",
            "Epoch 10/100\n",
            "3/3 [==============================] - 0s 16ms/step - loss: 0.9327 - accuracy: 0.6931 - val_loss: 1.0610 - val_accuracy: 0.6471\n",
            "Epoch 11/100\n",
            "3/3 [==============================] - 0s 17ms/step - loss: 0.8937 - accuracy: 0.7079 - val_loss: 1.1099 - val_accuracy: 0.6471\n",
            "Epoch 12/100\n",
            "3/3 [==============================] - 0s 16ms/step - loss: 0.9313 - accuracy: 0.7475 - val_loss: 1.1673 - val_accuracy: 0.6324\n",
            "Epoch 13/100\n",
            "3/3 [==============================] - 0s 16ms/step - loss: 0.9471 - accuracy: 0.7178 - val_loss: 1.1718 - val_accuracy: 0.6324\n",
            "Epoch 14/100\n",
            "3/3 [==============================] - 0s 17ms/step - loss: 0.9247 - accuracy: 0.6980 - val_loss: 1.1650 - val_accuracy: 0.6029\n",
            "Epoch 15/100\n",
            "3/3 [==============================] - 0s 22ms/step - loss: 0.9134 - accuracy: 0.6782 - val_loss: 1.1563 - val_accuracy: 0.5882\n",
            "Epoch 16/100\n",
            "3/3 [==============================] - 0s 17ms/step - loss: 0.8854 - accuracy: 0.6980 - val_loss: 1.1090 - val_accuracy: 0.6176\n",
            "Epoch 17/100\n",
            "3/3 [==============================] - 0s 17ms/step - loss: 0.8902 - accuracy: 0.7129 - val_loss: 1.1313 - val_accuracy: 0.6765\n",
            "Epoch 18/100\n",
            "3/3 [==============================] - 0s 16ms/step - loss: 0.9620 - accuracy: 0.7475 - val_loss: 1.0709 - val_accuracy: 0.6765\n",
            "Epoch 19/100\n",
            "3/3 [==============================] - 0s 17ms/step - loss: 0.8952 - accuracy: 0.7376 - val_loss: 0.9607 - val_accuracy: 0.6618\n",
            "Epoch 20/100\n",
            "3/3 [==============================] - 0s 16ms/step - loss: 0.8325 - accuracy: 0.7079 - val_loss: 0.9364 - val_accuracy: 0.6912\n",
            "Epoch 21/100\n",
            "3/3 [==============================] - 0s 16ms/step - loss: 0.8575 - accuracy: 0.7228 - val_loss: 0.9318 - val_accuracy: 0.6765\n",
            "Epoch 22/100\n",
            "3/3 [==============================] - 0s 26ms/step - loss: 0.8775 - accuracy: 0.7277 - val_loss: 0.9669 - val_accuracy: 0.6324\n",
            "Epoch 23/100\n",
            "3/3 [==============================] - 0s 46ms/step - loss: 0.9555 - accuracy: 0.6832 - val_loss: 1.0893 - val_accuracy: 0.6471\n",
            "Epoch 24/100\n",
            "3/3 [==============================] - 0s 54ms/step - loss: 1.0046 - accuracy: 0.6980 - val_loss: 0.9442 - val_accuracy: 0.6765\n",
            "Epoch 25/100\n",
            "3/3 [==============================] - 0s 55ms/step - loss: 0.8945 - accuracy: 0.7030 - val_loss: 0.9676 - val_accuracy: 0.7206\n",
            "Epoch 26/100\n",
            "3/3 [==============================] - 0s 80ms/step - loss: 0.9193 - accuracy: 0.7277 - val_loss: 0.9830 - val_accuracy: 0.7353\n",
            "Epoch 27/100\n",
            "3/3 [==============================] - 0s 53ms/step - loss: 0.8960 - accuracy: 0.7376 - val_loss: 0.9525 - val_accuracy: 0.7059\n",
            "Epoch 28/100\n",
            "3/3 [==============================] - 0s 82ms/step - loss: 0.8562 - accuracy: 0.7426 - val_loss: 0.9689 - val_accuracy: 0.7206\n",
            "Epoch 29/100\n",
            "3/3 [==============================] - 0s 69ms/step - loss: 0.8563 - accuracy: 0.7327 - val_loss: 0.9178 - val_accuracy: 0.7059\n",
            "Epoch 30/100\n",
            "3/3 [==============================] - 0s 88ms/step - loss: 0.7745 - accuracy: 0.7475 - val_loss: 0.9228 - val_accuracy: 0.6618\n",
            "Epoch 31/100\n",
            "3/3 [==============================] - 0s 47ms/step - loss: 0.7549 - accuracy: 0.7426 - val_loss: 0.9077 - val_accuracy: 0.6765\n",
            "Epoch 32/100\n",
            "3/3 [==============================] - 0s 69ms/step - loss: 0.7508 - accuracy: 0.7327 - val_loss: 0.9439 - val_accuracy: 0.6765\n",
            "Epoch 33/100\n",
            "3/3 [==============================] - 0s 83ms/step - loss: 0.8020 - accuracy: 0.7624 - val_loss: 0.9526 - val_accuracy: 0.6765\n",
            "Epoch 34/100\n",
            "3/3 [==============================] - 0s 85ms/step - loss: 0.7851 - accuracy: 0.7772 - val_loss: 0.9015 - val_accuracy: 0.6912\n",
            "Epoch 35/100\n",
            "3/3 [==============================] - 0s 61ms/step - loss: 0.7250 - accuracy: 0.7376 - val_loss: 0.8936 - val_accuracy: 0.6765\n",
            "Epoch 36/100\n",
            "3/3 [==============================] - 0s 43ms/step - loss: 0.7159 - accuracy: 0.7426 - val_loss: 0.8917 - val_accuracy: 0.7059\n",
            "Epoch 37/100\n",
            "3/3 [==============================] - 0s 99ms/step - loss: 0.7219 - accuracy: 0.7525 - val_loss: 0.9044 - val_accuracy: 0.6765\n",
            "Epoch 38/100\n",
            "3/3 [==============================] - 0s 70ms/step - loss: 0.7615 - accuracy: 0.7822 - val_loss: 0.8878 - val_accuracy: 0.6765\n",
            "Epoch 39/100\n",
            "3/3 [==============================] - 0s 34ms/step - loss: 0.7267 - accuracy: 0.7475 - val_loss: 0.8992 - val_accuracy: 0.6324\n",
            "Epoch 40/100\n",
            "3/3 [==============================] - 0s 37ms/step - loss: 0.7137 - accuracy: 0.6980 - val_loss: 1.0273 - val_accuracy: 0.6324\n",
            "Epoch 41/100\n",
            "3/3 [==============================] - 0s 25ms/step - loss: 0.7721 - accuracy: 0.6881 - val_loss: 0.8565 - val_accuracy: 0.6618\n",
            "Epoch 42/100\n",
            "3/3 [==============================] - 0s 16ms/step - loss: 0.6718 - accuracy: 0.7525 - val_loss: 0.9243 - val_accuracy: 0.6912\n",
            "Epoch 43/100\n",
            "3/3 [==============================] - 0s 16ms/step - loss: 0.8242 - accuracy: 0.7228 - val_loss: 0.9355 - val_accuracy: 0.7059\n",
            "Epoch 44/100\n",
            "3/3 [==============================] - 0s 22ms/step - loss: 0.7926 - accuracy: 0.7525 - val_loss: 0.8136 - val_accuracy: 0.7206\n",
            "Epoch 45/100\n",
            "3/3 [==============================] - 0s 16ms/step - loss: 0.6820 - accuracy: 0.7525 - val_loss: 0.8409 - val_accuracy: 0.6471\n",
            "Epoch 46/100\n",
            "3/3 [==============================] - 0s 16ms/step - loss: 0.7117 - accuracy: 0.7079 - val_loss: 0.8115 - val_accuracy: 0.6618\n",
            "Epoch 47/100\n",
            "3/3 [==============================] - 0s 19ms/step - loss: 0.6871 - accuracy: 0.7624 - val_loss: 0.9123 - val_accuracy: 0.7059\n",
            "Epoch 48/100\n",
            "3/3 [==============================] - 0s 17ms/step - loss: 0.8982 - accuracy: 0.7426 - val_loss: 1.1795 - val_accuracy: 0.7059\n",
            "Epoch 49/100\n",
            "3/3 [==============================] - 0s 16ms/step - loss: 1.1017 - accuracy: 0.7327 - val_loss: 0.9724 - val_accuracy: 0.7059\n",
            "Epoch 50/100\n",
            "3/3 [==============================] - 0s 16ms/step - loss: 0.8237 - accuracy: 0.7426 - val_loss: 0.8031 - val_accuracy: 0.7059\n",
            "Epoch 51/100\n",
            "3/3 [==============================] - 0s 17ms/step - loss: 0.7272 - accuracy: 0.7327 - val_loss: 0.9319 - val_accuracy: 0.6765\n",
            "Epoch 52/100\n",
            "3/3 [==============================] - 0s 17ms/step - loss: 0.8376 - accuracy: 0.6832 - val_loss: 1.0064 - val_accuracy: 0.6324\n",
            "Epoch 53/100\n",
            "3/3 [==============================] - 0s 25ms/step - loss: 0.8089 - accuracy: 0.6683 - val_loss: 0.8516 - val_accuracy: 0.6471\n",
            "Epoch 54/100\n",
            "3/3 [==============================] - 0s 17ms/step - loss: 0.6759 - accuracy: 0.7475 - val_loss: 0.8075 - val_accuracy: 0.7206\n",
            "Epoch 55/100\n",
            "3/3 [==============================] - 0s 17ms/step - loss: 0.6586 - accuracy: 0.7970 - val_loss: 0.8880 - val_accuracy: 0.6912\n",
            "Epoch 56/100\n",
            "3/3 [==============================] - 0s 18ms/step - loss: 0.7867 - accuracy: 0.7475 - val_loss: 1.0165 - val_accuracy: 0.6912\n",
            "Epoch 57/100\n",
            "3/3 [==============================] - 0s 17ms/step - loss: 0.8519 - accuracy: 0.7426 - val_loss: 0.8741 - val_accuracy: 0.6765\n",
            "Epoch 58/100\n",
            "3/3 [==============================] - 0s 18ms/step - loss: 0.6506 - accuracy: 0.7772 - val_loss: 0.9730 - val_accuracy: 0.6471\n",
            "Epoch 59/100\n",
            "3/3 [==============================] - 0s 16ms/step - loss: 0.7261 - accuracy: 0.6683 - val_loss: 1.2178 - val_accuracy: 0.4853\n",
            "Epoch 60/100\n",
            "3/3 [==============================] - 0s 16ms/step - loss: 0.8318 - accuracy: 0.6436 - val_loss: 0.9314 - val_accuracy: 0.6618\n",
            "Epoch 61/100\n",
            "3/3 [==============================] - 0s 18ms/step - loss: 0.6228 - accuracy: 0.7129 - val_loss: 0.8185 - val_accuracy: 0.6765\n",
            "Epoch 62/100\n",
            "3/3 [==============================] - 0s 17ms/step - loss: 0.6440 - accuracy: 0.7723 - val_loss: 0.8413 - val_accuracy: 0.6765\n",
            "Epoch 63/100\n",
            "3/3 [==============================] - 0s 18ms/step - loss: 0.6783 - accuracy: 0.7822 - val_loss: 0.8107 - val_accuracy: 0.6912\n",
            "Epoch 64/100\n",
            "3/3 [==============================] - 0s 17ms/step - loss: 0.6376 - accuracy: 0.7574 - val_loss: 0.7970 - val_accuracy: 0.6618\n",
            "Epoch 65/100\n",
            "3/3 [==============================] - 0s 16ms/step - loss: 0.6174 - accuracy: 0.7673 - val_loss: 0.8082 - val_accuracy: 0.6618\n",
            "Epoch 66/100\n",
            "3/3 [==============================] - 0s 23ms/step - loss: 0.6091 - accuracy: 0.7178 - val_loss: 0.9542 - val_accuracy: 0.6471\n",
            "Epoch 67/100\n",
            "3/3 [==============================] - 0s 17ms/step - loss: 0.6859 - accuracy: 0.6782 - val_loss: 0.8115 - val_accuracy: 0.6765\n",
            "Epoch 68/100\n",
            "3/3 [==============================] - 0s 16ms/step - loss: 0.6362 - accuracy: 0.7525 - val_loss: 0.8756 - val_accuracy: 0.7059\n",
            "Epoch 69/100\n",
            "3/3 [==============================] - 0s 16ms/step - loss: 0.7414 - accuracy: 0.7426 - val_loss: 0.7830 - val_accuracy: 0.6912\n",
            "Epoch 70/100\n",
            "3/3 [==============================] - 0s 19ms/step - loss: 0.6016 - accuracy: 0.7673 - val_loss: 0.8340 - val_accuracy: 0.7059\n",
            "Epoch 71/100\n",
            "3/3 [==============================] - 0s 18ms/step - loss: 0.6095 - accuracy: 0.7228 - val_loss: 0.8792 - val_accuracy: 0.6618\n",
            "Epoch 72/100\n",
            "3/3 [==============================] - 0s 17ms/step - loss: 0.6226 - accuracy: 0.7178 - val_loss: 0.7874 - val_accuracy: 0.6912\n",
            "Epoch 73/100\n",
            "3/3 [==============================] - 0s 17ms/step - loss: 0.5661 - accuracy: 0.7525 - val_loss: 0.7485 - val_accuracy: 0.7059\n",
            "Epoch 74/100\n",
            "3/3 [==============================] - 0s 17ms/step - loss: 0.6157 - accuracy: 0.7723 - val_loss: 0.8065 - val_accuracy: 0.7059\n",
            "Epoch 75/100\n",
            "3/3 [==============================] - 0s 17ms/step - loss: 0.6716 - accuracy: 0.7574 - val_loss: 0.7378 - val_accuracy: 0.7059\n",
            "Epoch 76/100\n",
            "3/3 [==============================] - 0s 18ms/step - loss: 0.5823 - accuracy: 0.8020 - val_loss: 0.7466 - val_accuracy: 0.6912\n",
            "Epoch 77/100\n",
            "3/3 [==============================] - 0s 17ms/step - loss: 0.5981 - accuracy: 0.7277 - val_loss: 0.8766 - val_accuracy: 0.6765\n",
            "Epoch 78/100\n",
            "3/3 [==============================] - 0s 17ms/step - loss: 0.7501 - accuracy: 0.6782 - val_loss: 0.9636 - val_accuracy: 0.6471\n",
            "Epoch 79/100\n",
            "3/3 [==============================] - 0s 17ms/step - loss: 0.7443 - accuracy: 0.6832 - val_loss: 0.6919 - val_accuracy: 0.6912\n",
            "Epoch 80/100\n",
            "3/3 [==============================] - 0s 17ms/step - loss: 0.5988 - accuracy: 0.7673 - val_loss: 0.8124 - val_accuracy: 0.7059\n",
            "Epoch 81/100\n",
            "3/3 [==============================] - 0s 17ms/step - loss: 0.7384 - accuracy: 0.7574 - val_loss: 0.8643 - val_accuracy: 0.7059\n",
            "Epoch 82/100\n",
            "3/3 [==============================] - 0s 16ms/step - loss: 0.7314 - accuracy: 0.7673 - val_loss: 0.7542 - val_accuracy: 0.6912\n",
            "Epoch 83/100\n",
            "3/3 [==============================] - 0s 18ms/step - loss: 0.5769 - accuracy: 0.7723 - val_loss: 0.8536 - val_accuracy: 0.7059\n",
            "Epoch 84/100\n",
            "3/3 [==============================] - 0s 18ms/step - loss: 0.6414 - accuracy: 0.7030 - val_loss: 0.9614 - val_accuracy: 0.7206\n",
            "Epoch 85/100\n",
            "3/3 [==============================] - 0s 18ms/step - loss: 0.6753 - accuracy: 0.6832 - val_loss: 0.8430 - val_accuracy: 0.6765\n",
            "Epoch 86/100\n",
            "3/3 [==============================] - 0s 16ms/step - loss: 0.5815 - accuracy: 0.7327 - val_loss: 0.8022 - val_accuracy: 0.6912\n",
            "Epoch 87/100\n",
            "3/3 [==============================] - 0s 16ms/step - loss: 0.6331 - accuracy: 0.7673 - val_loss: 0.7981 - val_accuracy: 0.7353\n",
            "Epoch 88/100\n",
            "3/3 [==============================] - 0s 20ms/step - loss: 0.6337 - accuracy: 0.7673 - val_loss: 0.7000 - val_accuracy: 0.6912\n",
            "Epoch 89/100\n",
            "3/3 [==============================] - 0s 18ms/step - loss: 0.5548 - accuracy: 0.7327 - val_loss: 0.9487 - val_accuracy: 0.6324\n",
            "Epoch 90/100\n",
            "3/3 [==============================] - 0s 24ms/step - loss: 0.7182 - accuracy: 0.6683 - val_loss: 0.8673 - val_accuracy: 0.6618\n",
            "Epoch 91/100\n",
            "3/3 [==============================] - 0s 16ms/step - loss: 0.6348 - accuracy: 0.6980 - val_loss: 0.6709 - val_accuracy: 0.7353\n",
            "Epoch 92/100\n",
            "3/3 [==============================] - 0s 16ms/step - loss: 0.5422 - accuracy: 0.7822 - val_loss: 0.6699 - val_accuracy: 0.7206\n",
            "Epoch 93/100\n",
            "3/3 [==============================] - 0s 16ms/step - loss: 0.5811 - accuracy: 0.7772 - val_loss: 0.6765 - val_accuracy: 0.7206\n",
            "Epoch 94/100\n",
            "3/3 [==============================] - 0s 16ms/step - loss: 0.5692 - accuracy: 0.7772 - val_loss: 0.6413 - val_accuracy: 0.7059\n",
            "Epoch 95/100\n",
            "3/3 [==============================] - 0s 18ms/step - loss: 0.5164 - accuracy: 0.7871 - val_loss: 0.6709 - val_accuracy: 0.7206\n",
            "Epoch 96/100\n",
            "3/3 [==============================] - 0s 25ms/step - loss: 0.5224 - accuracy: 0.7723 - val_loss: 0.6597 - val_accuracy: 0.7353\n",
            "Epoch 97/100\n",
            "3/3 [==============================] - 0s 25ms/step - loss: 0.5166 - accuracy: 0.7921 - val_loss: 0.6663 - val_accuracy: 0.7206\n",
            "Epoch 98/100\n",
            "3/3 [==============================] - 0s 17ms/step - loss: 0.5528 - accuracy: 0.7772 - val_loss: 0.6881 - val_accuracy: 0.7206\n",
            "Epoch 99/100\n",
            "3/3 [==============================] - 0s 17ms/step - loss: 0.5578 - accuracy: 0.7921 - val_loss: 0.6671 - val_accuracy: 0.7206\n",
            "Epoch 100/100\n",
            "3/3 [==============================] - 0s 18ms/step - loss: 0.5040 - accuracy: 0.7921 - val_loss: 0.6893 - val_accuracy: 0.7206\n"
          ]
        }
      ]
    },
    {
      "cell_type": "markdown",
      "source": [
        "Evaluate the model"
      ],
      "metadata": {
        "id": "2fnjX-Uvimvg"
      }
    },
    {
      "cell_type": "code",
      "source": [
        "scores=model.evaluate(x,y)"
      ],
      "metadata": {
        "colab": {
          "base_uri": "https://localhost:8080/"
        },
        "id": "AsyWv6PkhPZ9",
        "outputId": "c608427a-2f0a-4094-e7e6-9f1d21faadcd"
      },
      "execution_count": null,
      "outputs": [
        {
          "output_type": "stream",
          "name": "stdout",
          "text": [
            "9/9 [==============================] - 0s 3ms/step - loss: 0.5479 - accuracy: 0.7741\n"
          ]
        }
      ]
    },
    {
      "cell_type": "code",
      "source": [
        "print(\"%s,%.2f%%\"%(model.metrics_names[1],scores[1]*100))"
      ],
      "metadata": {
        "colab": {
          "base_uri": "https://localhost:8080/"
        },
        "id": "y1vJFQ3Mizkm",
        "outputId": "5b278e4e-895c-4d99-8d50-eeadc75a0895"
      },
      "execution_count": null,
      "outputs": [
        {
          "output_type": "stream",
          "name": "stdout",
          "text": [
            "accuracy,77.41%\n"
          ]
        }
      ]
    },
    {
      "cell_type": "markdown",
      "source": [
        "Visaulize the training history\n",
        "\n",
        "List all data in history"
      ],
      "metadata": {
        "id": "_kYXXvAlkLcy"
      }
    },
    {
      "cell_type": "code",
      "source": [
        "history.history.keys()"
      ],
      "metadata": {
        "colab": {
          "base_uri": "https://localhost:8080/"
        },
        "id": "AMOagag6jjjM",
        "outputId": "fce5f8af-175f-40e2-fced-b43e70feb5c7"
      },
      "execution_count": null,
      "outputs": [
        {
          "output_type": "execute_result",
          "data": {
            "text/plain": [
              "dict_keys(['loss', 'accuracy', 'val_loss', 'val_accuracy'])"
            ]
          },
          "metadata": {},
          "execution_count": 57
        }
      ]
    },
    {
      "cell_type": "markdown",
      "source": [
        "Summarize history for accuracy"
      ],
      "metadata": {
        "id": "1OtEmCcwkdSi"
      }
    },
    {
      "cell_type": "code",
      "source": [
        "plt.plot(history.history['accuracy'])\n",
        "plt.plot(history.history[\"val_accuracy\"])\n",
        "plt.title('model accuracy')\n",
        "plt.ylabel('accuracy')\n",
        "plt.xlabel('epoch')\n",
        "plt.legend(['train,test'],loc='upper left')\n",
        "plt.show()"
      ],
      "metadata": {
        "colab": {
          "base_uri": "https://localhost:8080/",
          "height": 472
        },
        "id": "wAPUW7fukUyc",
        "outputId": "38768e3a-4896-43ce-ac63-64d5b678acab"
      },
      "execution_count": null,
      "outputs": [
        {
          "output_type": "display_data",
          "data": {
            "text/plain": [
              "<Figure size 640x480 with 1 Axes>"
            ],
            "image/png": "[encoded data removed]"
          },
          "metadata": {}
        }
      ]
    },
    {
      "cell_type": "markdown",
      "source": [
        "Summarize history for loss"
      ],
      "metadata": {
        "id": "B46KKVy4k6ce"
      }
    },
    {
      "cell_type": "code",
      "source": [
        "plt.plot(history.history['loss'])\n",
        "plt.plot(history.history['val_loss'])\n",
        "plt.title('model loss')\n",
        "plt.ylabel('loss')\n",
        "plt.xlabel('epoch')\n",
        "plt.legend(['train','test'],loc='upper left')\n",
        "plt.show()"
      ],
      "metadata": {
        "colab": {
          "base_uri": "https://localhost:8080/",
          "height": 472
        },
        "id": "iSB8k1YykyWe",
        "outputId": "7507846b-effd-4742-f77d-78789c731039"
      },
      "execution_count": null,
      "outputs": [
        {
          "output_type": "display_data",
          "data": {
            "text/plain": [
              "<Figure size 640x480 with 1 Axes>"
            ],
            "image/png": "[encoded data removed]"
          },
          "metadata": {}
        }
      ]
    },
    {
      "cell_type": "code",
      "source": [],
      "metadata": {
        "id": "ga8ZigZhlBWG"
      },
      "execution_count": null,
      "outputs": []
    }
  ]
}