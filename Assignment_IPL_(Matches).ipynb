{
  "nbformat": 4,
  "nbformat_minor": 0,
  "metadata": {
    "colab": {
      "provenance": []
    },
    "kernelspec": {
      "name": "python3",
      "display_name": "Python 3"
    },
    "language_info": {
      "name": "python"
    }
  },
  "cells": [
    {
      "cell_type": "markdown",
      "source": [
        "Import liberaries"
      ],
      "metadata": {
        "id": "TqaKrT-bfdMm"
      }
    },
    {
      "cell_type": "code",
      "execution_count": null,
      "metadata": {
        "id": "PH3YIMDcfUXU"
      },
      "outputs": [],
      "source": [
        "import pandas as pd\n",
        "import numpy as np\n",
        "import matplotlib.pyplot as plt"
      ]
    },
    {
      "cell_type": "code",
      "source": [
        "df=pd.read_csv(\"IPL Matches 2008-2020.csv\")"
      ],
      "metadata": {
        "id": "sOO_UJTUf2ix"
      },
      "execution_count": null,
      "outputs": []
    },
    {
      "cell_type": "code",
      "source": [
        "df.head()"
      ],
      "metadata": {
        "colab": {
          "base_uri": "https://localhost:8080/",
          "height": 417
        },
        "id": "N1a0I8bWgFSq",
        "outputId": "b274147b-f055-425d-fc6e-1204a20b5b4c"
      },
      "execution_count": null,
      "outputs": [
        {
          "output_type": "execute_result",
          "data": {
            "text/plain": [
              "       id        city        date player_of_match  \\\n",
              "0  335982   Bangalore  2008-04-18     BB McCullum   \n",
              "1  335983  Chandigarh  2008-04-19      MEK Hussey   \n",
              "2  335984       Delhi  2008-04-19     MF Maharoof   \n",
              "3  335985      Mumbai  2008-04-20      MV Boucher   \n",
              "4  335986     Kolkata  2008-04-20       DJ Hussey   \n",
              "\n",
              "                                        venue  neutral_venue  \\\n",
              "0                       M Chinnaswamy Stadium              0   \n",
              "1  Punjab Cricket Association Stadium, Mohali              0   \n",
              "2                            Feroz Shah Kotla              0   \n",
              "3                            Wankhede Stadium              0   \n",
              "4                                Eden Gardens              0   \n",
              "\n",
              "                         team1                        team2  \\\n",
              "0  Royal Challengers Bangalore        Kolkata Knight Riders   \n",
              "1              Kings XI Punjab          Chennai Super Kings   \n",
              "2             Delhi Daredevils             Rajasthan Royals   \n",
              "3               Mumbai Indians  Royal Challengers Bangalore   \n",
              "4        Kolkata Knight Riders              Deccan Chargers   \n",
              "\n",
              "                   toss_winner toss_decision                       winner  \\\n",
              "0  Royal Challengers Bangalore         field        Kolkata Knight Riders   \n",
              "1          Chennai Super Kings           bat          Chennai Super Kings   \n",
              "2             Rajasthan Royals           bat             Delhi Daredevils   \n",
              "3               Mumbai Indians           bat  Royal Challengers Bangalore   \n",
              "4              Deccan Chargers           bat        Kolkata Knight Riders   \n",
              "\n",
              "    result  result_margin eliminator method    umpire1         umpire2  \n",
              "0     runs          140.0          N    NaN  Asad Rauf     RE Koertzen  \n",
              "1     runs           33.0          N    NaN  MR Benson      SL Shastri  \n",
              "2  wickets            9.0          N    NaN  Aleem Dar  GA Pratapkumar  \n",
              "3  wickets            5.0          N    NaN   SJ Davis       DJ Harper  \n",
              "4  wickets            5.0          N    NaN  BF Bowden     K Hariharan  "
            ],
            "text/html": [
              "\n",
              "  <div id=\"df-88ac3f7d-32a5-4479-95f2-175fe99dfa28\" class=\"colab-df-container\">\n",
              "    <div>\n",
              "<style scoped>\n",
              "    .dataframe tbody tr th:only-of-type {\n",
              "        vertical-align: middle;\n",
              "    }\n",
              "\n",
              "    .dataframe tbody tr th {\n",
              "        vertical-align: top;\n",
              "    }\n",
              "\n",
              "    .dataframe thead th {\n",
              "        text-align: right;\n",
              "    }\n",
              "</style>\n",
              "<table border=\"1\" class=\"dataframe\">\n",
              "  <thead>\n",
              "    <tr style=\"text-align: right;\">\n",
              "      <th></th>\n",
              "      <th>id</th>\n",
              "      <th>city</th>\n",
              "      <th>date</th>\n",
              "      <th>player_of_match</th>\n",
              "      <th>venue</th>\n",
              "      <th>neutral_venue</th>\n",
              "      <th>team1</th>\n",
              "      <th>team2</th>\n",
              "      <th>toss_winner</th>\n",
              "      <th>toss_decision</th>\n",
              "      <th>winner</th>\n",
              "      <th>result</th>\n",
              "      <th>result_margin</th>\n",
              "      <th>eliminator</th>\n",
              "      <th>method</th>\n",
              "      <th>umpire1</th>\n",
              "      <th>umpire2</th>\n",
              "    </tr>\n",
              "  </thead>\n",
              "  <tbody>\n",
              "    <tr>\n",
              "      <th>0</th>\n",
              "      <td>335982</td>\n",
              "      <td>Bangalore</td>\n",
              "      <td>2008-04-18</td>\n",
              "      <td>BB McCullum</td>\n",
              "      <td>M Chinnaswamy Stadium</td>\n",
              "      <td>0</td>\n",
              "      <td>Royal Challengers Bangalore</td>\n",
              "      <td>Kolkata Knight Riders</td>\n",
              "      <td>Royal Challengers Bangalore</td>\n",
              "      <td>field</td>\n",
              "      <td>Kolkata Knight Riders</td>\n",
              "      <td>runs</td>\n",
              "      <td>140.0</td>\n",
              "      <td>N</td>\n",
              "      <td>NaN</td>\n",
              "      <td>Asad Rauf</td>\n",
              "      <td>RE Koertzen</td>\n",
              "    </tr>\n",
              "    <tr>\n",
              "      <th>1</th>\n",
              "      <td>335983</td>\n",
              "      <td>Chandigarh</td>\n",
              "      <td>2008-04-19</td>\n",
              "      <td>MEK Hussey</td>\n",
              "      <td>Punjab Cricket Association Stadium, Mohali</td>\n",
              "      <td>0</td>\n",
              "      <td>Kings XI Punjab</td>\n",
              "      <td>Chennai Super Kings</td>\n",
              "      <td>Chennai Super Kings</td>\n",
              "      <td>bat</td>\n",
              "      <td>Chennai Super Kings</td>\n",
              "      <td>runs</td>\n",
              "      <td>33.0</td>\n",
              "      <td>N</td>\n",
              "      <td>NaN</td>\n",
              "      <td>MR Benson</td>\n",
              "      <td>SL Shastri</td>\n",
              "    </tr>\n",
              "    <tr>\n",
              "      <th>2</th>\n",
              "      <td>335984</td>\n",
              "      <td>Delhi</td>\n",
              "      <td>2008-04-19</td>\n",
              "      <td>MF Maharoof</td>\n",
              "      <td>Feroz Shah Kotla</td>\n",
              "      <td>0</td>\n",
              "      <td>Delhi Daredevils</td>\n",
              "      <td>Rajasthan Royals</td>\n",
              "      <td>Rajasthan Royals</td>\n",
              "      <td>bat</td>\n",
              "      <td>Delhi Daredevils</td>\n",
              "      <td>wickets</td>\n",
              "      <td>9.0</td>\n",
              "      <td>N</td>\n",
              "      <td>NaN</td>\n",
              "      <td>Aleem Dar</td>\n",
              "      <td>GA Pratapkumar</td>\n",
              "    </tr>\n",
              "    <tr>\n",
              "      <th>3</th>\n",
              "      <td>335985</td>\n",
              "      <td>Mumbai</td>\n",
              "      <td>2008-04-20</td>\n",
              "      <td>MV Boucher</td>\n",
              "      <td>Wankhede Stadium</td>\n",
              "      <td>0</td>\n",
              "      <td>Mumbai Indians</td>\n",
              "      <td>Royal Challengers Bangalore</td>\n",
              "      <td>Mumbai Indians</td>\n",
              "      <td>bat</td>\n",
              "      <td>Royal Challengers Bangalore</td>\n",
              "      <td>wickets</td>\n",
              "      <td>5.0</td>\n",
              "      <td>N</td>\n",
              "      <td>NaN</td>\n",
              "      <td>SJ Davis</td>\n",
              "      <td>DJ Harper</td>\n",
              "    </tr>\n",
              "    <tr>\n",
              "      <th>4</th>\n",
              "      <td>335986</td>\n",
              "      <td>Kolkata</td>\n",
              "      <td>2008-04-20</td>\n",
              "      <td>DJ Hussey</td>\n",
              "      <td>Eden Gardens</td>\n",
              "      <td>0</td>\n",
              "      <td>Kolkata Knight Riders</td>\n",
              "      <td>Deccan Chargers</td>\n",
              "      <td>Deccan Chargers</td>\n",
              "      <td>bat</td>\n",
              "      <td>Kolkata Knight Riders</td>\n",
              "      <td>wickets</td>\n",
              "      <td>5.0</td>\n",
              "      <td>N</td>\n",
              "      <td>NaN</td>\n",
              "      <td>BF Bowden</td>\n",
              "      <td>K Hariharan</td>\n",
              "    </tr>\n",
              "  </tbody>\n",
              "</table>\n",
              "</div>\n",
              "    <div class=\"colab-df-buttons\">\n",
              "\n",
              "  <div class=\"colab-df-container\">\n",
              "    <button class=\"colab-df-convert\" onclick=\"convertToInteractive('df-88ac3f7d-32a5-4479-95f2-175fe99dfa28')\"\n",
              "            title=\"Convert this dataframe to an interactive table.\"\n",
              "            style=\"display:none;\">\n",
              "\n",
              "  <svg xmlns=\"http://www.w3.org/2000/svg\" height=\"24px\" viewBox=\"0 -960 960 960\">\n",
              "    <path d=\"M120-120v-720h720v720H120Zm60-500h600v-160H180v160Zm220 220h160v-160H400v160Zm0 220h160v-160H400v160ZM180-400h160v-160H180v160Zm440 0h160v-160H620v160ZM180-180h160v-160H180v160Zm440 0h160v-160H620v160Z\"/>\n",
              "  </svg>\n",
              "    </button>\n",
              "\n",
              "  <style>\n",
              "    .colab-df-container {\n",
              "      display:flex;\n",
              "      gap: 12px;\n",
              "    }\n",
              "\n",
              "    .colab-df-convert {\n",
              "      background-color: #E8F0FE;\n",
              "      border: none;\n",
              "      border-radius: 50%;\n",
              "      cursor: pointer;\n",
              "      display: none;\n",
              "      fill: #1967D2;\n",
              "      height: 32px;\n",
              "      padding: 0 0 0 0;\n",
              "      width: 32px;\n",
              "    }\n",
              "\n",
              "    .colab-df-convert:hover {\n",
              "      background-color: #E2EBFA;\n",
              "      box-shadow: 0px 1px 2px rgba(60, 64, 67, 0.3), 0px 1px 3px 1px rgba(60, 64, 67, 0.15);\n",
              "      fill: #174EA6;\n",
              "    }\n",
              "\n",
              "    .colab-df-buttons div {\n",
              "      margin-bottom: 4px;\n",
              "    }\n",
              "\n",
              "    [theme=dark] .colab-df-convert {\n",
              "      background-color: #3B4455;\n",
              "      fill: #D2E3FC;\n",
              "    }\n",
              "\n",
              "    [theme=dark] .colab-df-convert:hover {\n",
              "      background-color: #434B5C;\n",
              "      box-shadow: 0px 1px 3px 1px rgba(0, 0, 0, 0.15);\n",
              "      filter: drop-shadow(0px 1px 2px rgba(0, 0, 0, 0.3));\n",
              "      fill: #FFFFFF;\n",
              "    }\n",
              "  </style>\n",
              "\n",
              "    <script>\n",
              "      const buttonEl =\n",
              "        document.querySelector('#df-88ac3f7d-32a5-4479-95f2-175fe99dfa28 button.colab-df-convert');\n",
              "      buttonEl.style.display =\n",
              "        google.colab.kernel.accessAllowed ? 'block' : 'none';\n",
              "\n",
              "      async function convertToInteractive(key) {\n",
              "        const element = document.querySelector('#df-88ac3f7d-32a5-4479-95f2-175fe99dfa28');\n",
              "        const dataTable =\n",
              "          await google.colab.kernel.invokeFunction('convertToInteractive',\n",
              "                                                    [key], {});\n",
              "        if (!dataTable) return;\n",
              "\n",
              "        const docLinkHtml = 'Like what you see? Visit the ' +\n",
              "          '<a target=\"_blank\" href=https://colab.research.google.com/notebooks/data_table.ipynb>data table notebook</a>'\n",
              "          + ' to learn more about interactive tables.';\n",
              "        element.innerHTML = '';\n",
              "        dataTable['output_type'] = 'display_data';\n",
              "        await google.colab.output.renderOutput(dataTable, element);\n",
              "        const docLink = document.createElement('div');\n",
              "        docLink.innerHTML = docLinkHtml;\n",
              "        element.appendChild(docLink);\n",
              "      }\n",
              "    </script>\n",
              "  </div>\n",
              "\n",
              "\n",
              "<div id=\"df-1d48b84e-63f9-48d4-a592-e672c227f5a6\">\n",
              "  <button class=\"colab-df-quickchart\" onclick=\"quickchart('df-1d48b84e-63f9-48d4-a592-e672c227f5a6')\"\n",
              "            title=\"Suggest charts\"\n",
              "            style=\"display:none;\">\n",
              "\n",
              "<svg xmlns=\"http://www.w3.org/2000/svg\" height=\"24px\"viewBox=\"0 0 24 24\"\n",
              "     width=\"24px\">\n",
              "    <g>\n",
              "        <path d=\"M19 3H5c-1.1 0-2 .9-2 2v14c0 1.1.9 2 2 2h14c1.1 0 2-.9 2-2V5c0-1.1-.9-2-2-2zM9 17H7v-7h2v7zm4 0h-2V7h2v10zm4 0h-2v-4h2v4z\"/>\n",
              "    </g>\n",
              "</svg>\n",
              "  </button>\n",
              "\n",
              "<style>\n",
              "  .colab-df-quickchart {\n",
              "      --bg-color: #E8F0FE;\n",
              "      --fill-color: #1967D2;\n",
              "      --hover-bg-color: #E2EBFA;\n",
              "      --hover-fill-color: #174EA6;\n",
              "      --disabled-fill-color: #AAA;\n",
              "      --disabled-bg-color: #DDD;\n",
              "  }\n",
              "\n",
              "  [theme=dark] .colab-df-quickchart {\n",
              "      --bg-color: #3B4455;\n",
              "      --fill-color: #D2E3FC;\n",
              "      --hover-bg-color: #434B5C;\n",
              "      --hover-fill-color: #FFFFFF;\n",
              "      --disabled-bg-color: #3B4455;\n",
              "      --disabled-fill-color: #666;\n",
              "  }\n",
              "\n",
              "  .colab-df-quickchart {\n",
              "    background-color: var(--bg-color);\n",
              "    border: none;\n",
              "    border-radius: 50%;\n",
              "    cursor: pointer;\n",
              "    display: none;\n",
              "    fill: var(--fill-color);\n",
              "    height: 32px;\n",
              "    padding: 0;\n",
              "    width: 32px;\n",
              "  }\n",
              "\n",
              "  .colab-df-quickchart:hover {\n",
              "    background-color: var(--hover-bg-color);\n",
              "    box-shadow: 0 1px 2px rgba(60, 64, 67, 0.3), 0 1px 3px 1px rgba(60, 64, 67, 0.15);\n",
              "    fill: var(--button-hover-fill-color);\n",
              "  }\n",
              "\n",
              "  .colab-df-quickchart-complete:disabled,\n",
              "  .colab-df-quickchart-complete:disabled:hover {\n",
              "    background-color: var(--disabled-bg-color);\n",
              "    fill: var(--disabled-fill-color);\n",
              "    box-shadow: none;\n",
              "  }\n",
              "\n",
              "  .colab-df-spinner {\n",
              "    border: 2px solid var(--fill-color);\n",
              "    border-color: transparent;\n",
              "    border-bottom-color: var(--fill-color);\n",
              "    animation:\n",
              "      spin 1s steps(1) infinite;\n",
              "  }\n",
              "\n",
              "  @keyframes spin {\n",
              "    0% {\n",
              "      border-color: transparent;\n",
              "      border-bottom-color: var(--fill-color);\n",
              "      border-left-color: var(--fill-color);\n",
              "    }\n",
              "    20% {\n",
              "      border-color: transparent;\n",
              "      border-left-color: var(--fill-color);\n",
              "      border-top-color: var(--fill-color);\n",
              "    }\n",
              "    30% {\n",
              "      border-color: transparent;\n",
              "      border-left-color: var(--fill-color);\n",
              "      border-top-color: var(--fill-color);\n",
              "      border-right-color: var(--fill-color);\n",
              "    }\n",
              "    40% {\n",
              "      border-color: transparent;\n",
              "      border-right-color: var(--fill-color);\n",
              "      border-top-color: var(--fill-color);\n",
              "    }\n",
              "    60% {\n",
              "      border-color: transparent;\n",
              "      border-right-color: var(--fill-color);\n",
              "    }\n",
              "    80% {\n",
              "      border-color: transparent;\n",
              "      border-right-color: var(--fill-color);\n",
              "      border-bottom-color: var(--fill-color);\n",
              "    }\n",
              "    90% {\n",
              "      border-color: transparent;\n",
              "      border-bottom-color: var(--fill-color);\n",
              "    }\n",
              "  }\n",
              "</style>\n",
              "\n",
              "  <script>\n",
              "    async function quickchart(key) {\n",
              "      const quickchartButtonEl =\n",
              "        document.querySelector('#' + key + ' button');\n",
              "      quickchartButtonEl.disabled = true;  // To prevent multiple clicks.\n",
              "      quickchartButtonEl.classList.add('colab-df-spinner');\n",
              "      try {\n",
              "        const charts = await google.colab.kernel.invokeFunction(\n",
              "            'suggestCharts', [key], {});\n",
              "      } catch (error) {\n",
              "        console.error('Error during call to suggestCharts:', error);\n",
              "      }\n",
              "      quickchartButtonEl.classList.remove('colab-df-spinner');\n",
              "      quickchartButtonEl.classList.add('colab-df-quickchart-complete');\n",
              "    }\n",
              "    (() => {\n",
              "      let quickchartButtonEl =\n",
              "        document.querySelector('#df-1d48b84e-63f9-48d4-a592-e672c227f5a6 button');\n",
              "      quickchartButtonEl.style.display =\n",
              "        google.colab.kernel.accessAllowed ? 'block' : 'none';\n",
              "    })();\n",
              "  </script>\n",
              "</div>\n",
              "\n",
              "    </div>\n",
              "  </div>\n"
            ]
          },
          "metadata": {},
          "execution_count": 4
        }
      ]
    },
    {
      "cell_type": "code",
      "source": [
        "df.info()"
      ],
      "metadata": {
        "colab": {
          "base_uri": "https://localhost:8080/"
        },
        "id": "3z-zs-hpgMsL",
        "outputId": "34d2c95f-be8e-4485-93d5-b5ea54806a4f"
      },
      "execution_count": null,
      "outputs": [
        {
          "output_type": "stream",
          "name": "stdout",
          "text": [
            "<class 'pandas.core.frame.DataFrame'>\n",
            "RangeIndex: 816 entries, 0 to 815\n",
            "Data columns (total 17 columns):\n",
            " #   Column           Non-Null Count  Dtype  \n",
            "---  ------           --------------  -----  \n",
            " 0   id               816 non-null    int64  \n",
            " 1   city             803 non-null    object \n",
            " 2   date             816 non-null    object \n",
            " 3   player_of_match  812 non-null    object \n",
            " 4   venue            816 non-null    object \n",
            " 5   neutral_venue    816 non-null    int64  \n",
            " 6   team1            816 non-null    object \n",
            " 7   team2            816 non-null    object \n",
            " 8   toss_winner      816 non-null    object \n",
            " 9   toss_decision    816 non-null    object \n",
            " 10  winner           812 non-null    object \n",
            " 11  result           812 non-null    object \n",
            " 12  result_margin    799 non-null    float64\n",
            " 13  eliminator       812 non-null    object \n",
            " 14  method           19 non-null     object \n",
            " 15  umpire1          816 non-null    object \n",
            " 16  umpire2          816 non-null    object \n",
            "dtypes: float64(1), int64(2), object(14)\n",
            "memory usage: 108.5+ KB\n"
          ]
        }
      ]
    },
    {
      "cell_type": "markdown",
      "source": [
        "*Q 1. What was the count of matches played in each season?*\n",
        "\n",
        "Ans: In this dataset we have the date of each match. So I first converted the column \"date\" to datetime and then grouped the year using the below codes.\n",
        "\n",
        "Maximum matches were played in the year of 2013."
      ],
      "metadata": {
        "id": "hhRACBNqr3g4"
      }
    },
    {
      "cell_type": "code",
      "source": [
        "df['date'] = pd.to_datetime(df['date'])\n",
        "df['year']=df['date'].dt.year"
      ],
      "metadata": {
        "id": "LbGxDd6AlTrI"
      },
      "execution_count": null,
      "outputs": []
    },
    {
      "cell_type": "markdown",
      "source": [
        "to find the matches played in each season, I grouped the years using the below code."
      ],
      "metadata": {
        "id": "FpJIpLJwkiNv"
      }
    },
    {
      "cell_type": "code",
      "source": [
        "matches_played = df.groupby('year').size()\n",
        "print(matches_played)"
      ],
      "metadata": {
        "colab": {
          "base_uri": "https://localhost:8080/"
        },
        "id": "wmFtfFmvG8c9",
        "outputId": "bf66ea35-733a-4859-e589-95eb1203c69b"
      },
      "execution_count": null,
      "outputs": [
        {
          "output_type": "stream",
          "name": "stdout",
          "text": [
            "year\n",
            "2008    58\n",
            "2009    57\n",
            "2010    60\n",
            "2011    73\n",
            "2012    74\n",
            "2013    76\n",
            "2014    60\n",
            "2015    59\n",
            "2016    60\n",
            "2017    59\n",
            "2018    60\n",
            "2019    60\n",
            "2020    60\n",
            "dtype: int64\n"
          ]
        }
      ]
    },
    {
      "cell_type": "markdown",
      "source": [
        "to visulaize the results, I ploted bar chart"
      ],
      "metadata": {
        "id": "O3qQKRIzk2fr"
      }
    },
    {
      "cell_type": "code",
      "source": [
        "matches_played.plot(kind='bar')\n",
        "plt.title('Matches played in each season')\n",
        "plt.xlabel('Year')\n",
        "plt.ylabel('Count')\n",
        "plt.show()"
      ],
      "metadata": {
        "colab": {
          "base_uri": "https://localhost:8080/",
          "height": 493
        },
        "id": "arhpQzw-qWTX",
        "outputId": "9f327a5f-c371-49aa-a8a0-a54ed725061b"
      },
      "execution_count": null,
      "outputs": [
        {
          "output_type": "display_data",
          "data": {
            "text/plain": [
              "<Figure size 640x480 with 1 Axes>"
            ],
            "image/png": "[encoded data removed]"
          },
          "metadata": {}
        }
      ]
    },
    {
      "cell_type": "markdown",
      "source": [
        "**Q4. Who has umpired the most?**"
      ],
      "metadata": {
        "id": "ktAzvrQIPPZA"
      }
    },
    {
      "cell_type": "markdown",
      "source": [
        "Ans.\n",
        "Result by column \"umpire1\" and \"umpire2\""
      ],
      "metadata": {
        "id": "_dmBBObUUM6b"
      }
    },
    {
      "cell_type": "code",
      "source": [
        "umpire1_count=df['umpire1'].value_counts()\n",
        "umpire1_the_most = umpire1_count.idxmax()\n",
        "print(f\"umpire1 the most: {umpire1_the_most}, Number of matches: {umpire1_count[umpire1_the_most]}\")"
      ],
      "metadata": {
        "id": "cefJJCWgzDlV",
        "colab": {
          "base_uri": "https://localhost:8080/"
        },
        "outputId": "bf7f15b9-9b8d-4353-c77b-a5d7f88b85e4"
      },
      "execution_count": null,
      "outputs": [
        {
          "output_type": "stream",
          "name": "stdout",
          "text": [
            "umpire1 the most: HDPK Dharmasena, Number of matches: 78\n"
          ]
        }
      ]
    },
    {
      "cell_type": "markdown",
      "source": [
        "Result by column \"umpire2\""
      ],
      "metadata": {
        "id": "vnDsCwRMlTGl"
      }
    },
    {
      "cell_type": "code",
      "source": [
        "umpire2_count=df['umpire2'].value_counts()\n",
        "umpire2_the_most = umpire2_count.idxmax()\n",
        "print(f\"umpire2 the most: {umpire2_the_most}, Number of matches: {umpire2_count[umpire2_the_most]}\")"
      ],
      "metadata": {
        "colab": {
          "base_uri": "https://localhost:8080/"
        },
        "id": "qr3wbCJHlhAO",
        "outputId": "51f72ece-f084-4a06-80c8-f3150f66e7e0"
      },
      "execution_count": null,
      "outputs": [
        {
          "output_type": "stream",
          "name": "stdout",
          "text": [
            "umpire2 the most: S Ravi, Number of matches: 84\n"
          ]
        }
      ]
    },
    {
      "cell_type": "markdown",
      "source": [
        "Overall result of both columns"
      ],
      "metadata": {
        "id": "oFpsKnf7U2o8"
      }
    },
    {
      "cell_type": "code",
      "source": [
        "combined_values = pd.concat([df['umpire1'], df['umpire2']])\n",
        "total=combined_values.value_counts()\n",
        "Umpire_the_most=total.idxmax()\n",
        "print(f\"Umpire in most of the matches: {Umpire_the_most}, Number of matches: {total[Umpire_the_most]}\")"
      ],
      "metadata": {
        "colab": {
          "base_uri": "https://localhost:8080/"
        },
        "id": "GccDxjF9VAnY",
        "outputId": "2973902b-d3c0-408b-8bad-5c2f7ce9b2ab"
      },
      "execution_count": null,
      "outputs": [
        {
          "output_type": "stream",
          "name": "stdout",
          "text": [
            "Umpire in most of the matches: S Ravi, Number of matches: 121\n"
          ]
        }
      ]
    },
    {
      "cell_type": "markdown",
      "source": [
        "**Q 5. Which team has won the most tosses?**"
      ],
      "metadata": {
        "id": "-EerlZQZdY_E"
      }
    },
    {
      "cell_type": "code",
      "source": [
        "toss_winner=df[\"toss_winner\"].value_counts()\n",
        "Team_max_toss_winner=toss_winner.idxmax()\n",
        "print(f\"Team that won the maximum tosses: {Team_max_toss_winner}, Number of matches: {toss_winner[Team_max_toss_winner]}\")"
      ],
      "metadata": {
        "colab": {
          "base_uri": "https://localhost:8080/"
        },
        "id": "xxCZ5a4gPl-0",
        "outputId": "b0c3a091-5afb-4e6f-97a3-73101f329d9b"
      },
      "execution_count": null,
      "outputs": [
        {
          "output_type": "stream",
          "name": "stdout",
          "text": [
            "Team that won the maximum tosses: Mumbai Indians, Number of matches: 106\n"
          ]
        }
      ]
    },
    {
      "cell_type": "code",
      "source": [
        "toss_winner.plot(kind='bar')\n",
        "plt.title('Number of times the teams won the toss')\n",
        "plt.xlabel('toss_winner')\n",
        "plt.ylabel('Count')\n",
        "plt.show()"
      ],
      "metadata": {
        "colab": {
          "base_uri": "https://localhost:8080/",
          "height": 658
        },
        "id": "2LKRXtjZRpao",
        "outputId": "338f83b1-c1f6-4a31-ec7c-269c330fd65f"
      },
      "execution_count": null,
      "outputs": [
        {
          "output_type": "display_data",
          "data": {
            "text/plain": [
              "<Figure size 640x480 with 1 Axes>"
            ],
            "image/png": "[encoded data removed]"
          },
          "metadata": {}
        }
      ]
    },
    {
      "cell_type": "markdown",
      "source": [
        "**Q 6. What does the team decide after winning the toss?**"
      ],
      "metadata": {
        "id": "mDaZwYCKN708"
      }
    },
    {
      "cell_type": "markdown",
      "source": [
        "Ans: to check the team decision, I used the query functioin for Mumbai Indian in column \"toss_winner\" and check the corresponding values in column \"toss decision\". Then I counted the decisions using value_count() code."
      ],
      "metadata": {
        "id": "O6_5XVNDdNB7"
      }
    },
    {
      "cell_type": "code",
      "source": [
        "team_decision=df.query(\"toss_winner=='Mumbai Indians'\")['toss_decision'].value_counts()\n",
        "print(team_decision)"
      ],
      "metadata": {
        "colab": {
          "base_uri": "https://localhost:8080/"
        },
        "id": "5-8fYaWojTf5",
        "outputId": "e509166b-26c0-43d8-c257-711c0e1f06aa"
      },
      "execution_count": null,
      "outputs": [
        {
          "output_type": "stream",
          "name": "stdout",
          "text": [
            "field    58\n",
            "bat      48\n",
            "Name: toss_decision, dtype: int64\n"
          ]
        }
      ]
    },
    {
      "cell_type": "markdown",
      "source": [
        "**Q 8. Does winning the toss imply winning the game?**"
      ],
      "metadata": {
        "id": "_238aoD9eIR7"
      }
    },
    {
      "cell_type": "markdown",
      "source": [
        "Ans: to check this relation, I compare 2 columns \"toss_winner\" and \"winner\", and calculated the percentage of matched values.\n",
        "The result is 51%. Therefore, winning the toss does not always imply winnig the game."
      ],
      "metadata": {
        "id": "-Ny_CrlBflnT"
      }
    },
    {
      "cell_type": "code",
      "source": [
        "tosswin_vs_matchwin=df[df['toss_winner']==df['winner']]\n",
        "percentage_tosswin_vs_matchwin=(len(tosswin_vs_matchwin)/len(df))*100\n",
        "print(f\"{len(tosswin_vs_matchwin)}, {percentage_tosswin_vs_matchwin}%\")"
      ],
      "metadata": {
        "colab": {
          "base_uri": "https://localhost:8080/"
        },
        "id": "PtBdpzEIeaYv",
        "outputId": "a6cf4d84-368b-4a31-dda0-2450bcb0244d"
      },
      "execution_count": null,
      "outputs": [
        {
          "output_type": "stream",
          "name": "stdout",
          "text": [
            "418, 51.225490196078425%\n"
          ]
        }
      ]
    },
    {
      "cell_type": "markdown",
      "source": [
        "**Q 9. How many times has the chasing team won the match?**"
      ],
      "metadata": {
        "id": "AWXEcmOlN7Pa"
      }
    },
    {
      "cell_type": "markdown",
      "source": [
        "Ans: To check this relation, I have used the same approach as that of Q 8 above.\n",
        "\n",
        "\n",
        "Onlly in 367 matches (aprox 45%), the chasing team won the match."
      ],
      "metadata": {
        "id": "0jRmJnEsiR50"
      }
    },
    {
      "cell_type": "code",
      "source": [
        "chasingteam_winner=df[df['team2']==df['winner']]\n",
        "percentage_chasingteam_winner=(len(chasingteam_winner)/len(df))*100\n",
        "print(f\"Number of matches where chasing team won: {len(chasingteam_winner)}, Percentage: {percentage_chasingteam_winner}%\")"
      ],
      "metadata": {
        "colab": {
          "base_uri": "https://localhost:8080/"
        },
        "id": "VfNjNMtbiNgq",
        "outputId": "1c6ae485-f316-42c1-c273-ac6436405fc5"
      },
      "execution_count": null,
      "outputs": [
        {
          "output_type": "stream",
          "name": "stdout",
          "text": [
            "Number of matches where chasing team won: 367, Percentage: 44.97549019607843%\n"
          ]
        }
      ]
    },
    {
      "cell_type": "markdown",
      "source": [
        "**Q 11. Which team has played the most number of matches?**"
      ],
      "metadata": {
        "id": "eVtUaSrYqbLf"
      }
    },
    {
      "cell_type": "markdown",
      "source": [
        "Ans: To find the team with maximum matches, I combined the columns \"team1\" and \"team2\", and then identify the team with maximum occurrence. I used the below code."
      ],
      "metadata": {
        "id": "POdekGG2vdxP"
      }
    },
    {
      "cell_type": "code",
      "source": [
        "combined_team1_team2 = pd.concat([df['team1'], df['team2']])\n",
        "count_team1_team2=combined_team1_team2.value_counts()\n",
        "team_max_matches=count_team1_team2.idxmax()\n",
        "print(f\"Name of team that played max matches: {team_max_matches}, Number of matches played: {count_team1_team2[team_max_matches]}\")"
      ],
      "metadata": {
        "colab": {
          "base_uri": "https://localhost:8080/"
        },
        "id": "KWNZmy1rjIYb",
        "outputId": "688ffa8f-d731-4cc1-b779-3629c2a017de"
      },
      "execution_count": null,
      "outputs": [
        {
          "output_type": "stream",
          "name": "stdout",
          "text": [
            "Name of team that played max matches: Mumbai Indians, Number of matches played: 203\n"
          ]
        }
      ]
    },
    {
      "cell_type": "code",
      "source": [
        "count_team1_team2.plot(kind='bar')\n",
        "plt.title('Number of matches played by eachh team')\n",
        "plt.xlabel('Name of team')\n",
        "plt.ylabel('Numbeer of matches')\n",
        "plt.show()"
      ],
      "metadata": {
        "colab": {
          "base_uri": "https://localhost:8080/",
          "height": 658
        },
        "id": "oHUZXd5HsjQQ",
        "outputId": "8e3eab6d-2cf7-4a1b-d565-9e4413ea2f4c"
      },
      "execution_count": null,
      "outputs": [
        {
          "output_type": "display_data",
          "data": {
            "text/plain": [
              "<Figure size 640x480 with 1 Axes>"
            ],
            "image/png": "[encoded data removed]"
          },
          "metadata": {}
        }
      ]
    },
    {
      "cell_type": "markdown",
      "source": [
        "**Q 12. Which team has won the most number of times?**"
      ],
      "metadata": {
        "id": "cBbUUc3PwspZ"
      }
    },
    {
      "cell_type": "markdown",
      "source": [
        "Ans: The most winning team is Mumbai Indians."
      ],
      "metadata": {
        "id": "CGsrOuaFynyp"
      }
    },
    {
      "cell_type": "code",
      "source": [
        "winner_teams=df[\"winner\"].value_counts()\n",
        "most_winner=winner_teams.idxmax()\n",
        "print(f\"Most winning team: {most_winner}, Number of matches won: {winner_teams[most_winner]}\")"
      ],
      "metadata": {
        "colab": {
          "base_uri": "https://localhost:8080/"
        },
        "id": "AMF92RVzuzAv",
        "outputId": "36c060a2-e755-4b14-c8b7-4ed24268714b"
      },
      "execution_count": null,
      "outputs": [
        {
          "output_type": "stream",
          "name": "stdout",
          "text": [
            "Most winning team: Mumbai Indians, Number of matches won: 120\n"
          ]
        }
      ]
    },
    {
      "cell_type": "code",
      "source": [
        "winner_teams.plot(kind='bar')\n",
        "plt.title('Number of matches won by eachh team')\n",
        "plt.xlabel('Name of team')\n",
        "plt.ylabel('Numbeer of matches won')\n",
        "plt.show()"
      ],
      "metadata": {
        "colab": {
          "base_uri": "https://localhost:8080/",
          "height": 658
        },
        "id": "m0AbVnVT7aPD",
        "outputId": "417a501f-2e79-47ab-a012-26f896338172"
      },
      "execution_count": null,
      "outputs": [
        {
          "output_type": "display_data",
          "data": {
            "text/plain": [
              "<Figure size 640x480 with 1 Axes>"
            ],
            "image/png": "[encoded data removed]"
          },
          "metadata": {}
        }
      ]
    },
    {
      "cell_type": "markdown",
      "source": [
        "Q 7. How does the toss decision vary across seasons?"
      ],
      "metadata": {
        "id": "ZOkRaMeup5OT"
      }
    },
    {
      "cell_type": "markdown",
      "source": [
        "To solve this query I grouped the toss decision by year."
      ],
      "metadata": {
        "id": "B1W1pf6b44xT"
      }
    },
    {
      "cell_type": "code",
      "source": [
        "TossDecision_season=df.groupby('year')['toss_decision'].value_counts()\n",
        "print(TossDecision_season)"
      ],
      "metadata": {
        "colab": {
          "base_uri": "https://localhost:8080/"
        },
        "id": "WnpS2K9Up9Zk",
        "outputId": "ee889064-f63e-4236-88e4-62c3363b1872"
      },
      "execution_count": null,
      "outputs": [
        {
          "output_type": "stream",
          "name": "stdout",
          "text": [
            "year  toss_decision\n",
            "2008  field            32\n",
            "      bat              26\n",
            "2009  bat              35\n",
            "      field            22\n",
            "2010  bat              39\n",
            "      field            21\n",
            "2011  field            48\n",
            "      bat              25\n",
            "2012  bat              37\n",
            "      field            37\n",
            "2013  bat              45\n",
            "      field            31\n",
            "2014  field            41\n",
            "      bat              19\n",
            "2015  field            34\n",
            "      bat              25\n",
            "2016  field            49\n",
            "      bat              11\n",
            "2017  field            48\n",
            "      bat              11\n",
            "2018  field            50\n",
            "      bat              10\n",
            "2019  field            50\n",
            "      bat              10\n",
            "2020  field            33\n",
            "      bat              27\n",
            "Name: toss_decision, dtype: int64\n"
          ]
        }
      ]
    },
    {
      "cell_type": "markdown",
      "source": [
        "Rearange the results"
      ],
      "metadata": {
        "id": "B-Ghy0P_7WaY"
      }
    },
    {
      "cell_type": "code",
      "source": [
        "TossDecision_season2=TossDecision_season.unstack(fill_value=0)\n",
        "print(TossDecision_season2)"
      ],
      "metadata": {
        "colab": {
          "base_uri": "https://localhost:8080/"
        },
        "id": "_KwDYXbg7a_d",
        "outputId": "5ea5fd41-436c-4577-e9d6-42a5c533b2c7"
      },
      "execution_count": null,
      "outputs": [
        {
          "output_type": "stream",
          "name": "stdout",
          "text": [
            "toss_decision  bat  field\n",
            "year                     \n",
            "2008            26     32\n",
            "2009            35     22\n",
            "2010            39     21\n",
            "2011            25     48\n",
            "2012            37     37\n",
            "2013            45     31\n",
            "2014            19     41\n",
            "2015            25     34\n",
            "2016            11     49\n",
            "2017            11     48\n",
            "2018            10     50\n",
            "2019            10     50\n",
            "2020            27     33\n"
          ]
        }
      ]
    },
    {
      "cell_type": "markdown",
      "source": [
        "Plot the results using bar chart"
      ],
      "metadata": {
        "id": "r21VBRFC9MiD"
      }
    },
    {
      "cell_type": "code",
      "source": [
        "TossDecision_season2.plot(kind='bar')\n",
        "plt.title('Toss decision in each seasons')\n",
        "plt.xlabel('Seasons')\n",
        "plt.show()"
      ],
      "metadata": {
        "colab": {
          "base_uri": "https://localhost:8080/",
          "height": 493
        },
        "id": "zOOhvbzlso1s",
        "outputId": "cefe8c36-5b70-4595-fe8a-a6b1934cdfa2"
      },
      "execution_count": null,
      "outputs": [
        {
          "output_type": "display_data",
          "data": {
            "text/plain": [
              "<Figure size 640x480 with 1 Axes>"
            ],
            "image/png": "[encoded data removed]"
          },
          "metadata": {}
        }
      ]
    },
    {
      "cell_type": "markdown",
      "source": [
        "**Q 19. Which is the biggest win in terms of run margin?**"
      ],
      "metadata": {
        "id": "n0-0XYIYTQsJ"
      }
    },
    {
      "cell_type": "markdown",
      "source": [
        "Biggest win in terms of run margin"
      ],
      "metadata": {
        "id": "hpp_2CkiOQRJ"
      }
    },
    {
      "cell_type": "code",
      "source": [
        "big_win_runs=df.query(\"result=='runs'\")['result_margin'].max()\n",
        "print(big_win_runs)"
      ],
      "metadata": {
        "colab": {
          "base_uri": "https://localhost:8080/"
        },
        "id": "TucMYJogN8Zm",
        "outputId": "ce8c3feb-d9c0-47b0-9cac-63f4074b27fc"
      },
      "execution_count": null,
      "outputs": [
        {
          "output_type": "stream",
          "name": "stdout",
          "text": [
            "146.0\n"
          ]
        }
      ]
    },
    {
      "cell_type": "markdown",
      "source": [
        "Find the teams and winner of this match.\n",
        "\n",
        "To find this, I extracted the values corresponding to 146 in other columns."
      ],
      "metadata": {
        "id": "ARC7PxGAzXpy"
      }
    },
    {
      "cell_type": "code",
      "source": [
        "team_big_win_runs=df[df['result_margin'] == 146][['city','venue','team1','team2','winner']]\n",
        "print(team_big_win_runs)"
      ],
      "metadata": {
        "colab": {
          "base_uri": "https://localhost:8080/"
        },
        "id": "-Zig8XEqxcxg",
        "outputId": "9db02e58-ce0e-40c4-bb16-d4e8634ff9e1"
      },
      "execution_count": null,
      "outputs": [
        {
          "output_type": "stream",
          "name": "stdout",
          "text": [
            "      city             venue             team1           team2          winner\n",
            "620  Delhi  Feroz Shah Kotla  Delhi Daredevils  Mumbai Indians  Mumbai Indians\n"
          ]
        }
      ]
    },
    {
      "cell_type": "markdown",
      "source": [
        "\n",
        "This macth was played b/w Delhi Daredevils and Mumbai Indians at Delhi (Feroz Shah Kotla stadium) and the winner was Mumbai Indians."
      ],
      "metadata": {
        "id": "QeeBq5NI0mWg"
      }
    },
    {
      "cell_type": "markdown",
      "source": [
        "Biggest win in terms of wickets"
      ],
      "metadata": {
        "id": "RT2gmPc5OgU1"
      }
    },
    {
      "cell_type": "code",
      "source": [
        "win_by_wickets=df.query(\"result=='wickets'\")['result_margin'].value_counts()\n",
        "print(win_by_wickets)"
      ],
      "metadata": {
        "colab": {
          "base_uri": "https://localhost:8080/"
        },
        "id": "SDpUpNeIOnIQ",
        "outputId": "1a3d9151-596e-45bd-e248-e7a36ee9fefc"
      },
      "execution_count": null,
      "outputs": [
        {
          "output_type": "stream",
          "name": "stdout",
          "text": [
            "6.0     88\n",
            "7.0     84\n",
            "5.0     79\n",
            "8.0     62\n",
            "4.0     42\n",
            "9.0     39\n",
            "3.0     18\n",
            "10.0    14\n",
            "2.0      6\n",
            "1.0      3\n",
            "Name: result_margin, dtype: int64\n"
          ]
        }
      ]
    },
    {
      "cell_type": "markdown",
      "source": [
        "As we can see from the results, max wickets win was win by 10 wickets. In total 14 matches the team won by 10 wickets."
      ],
      "metadata": {
        "id": "EiLwPaB3QeWC"
      }
    },
    {
      "cell_type": "markdown",
      "source": [
        "**Q 26. Which stadium has hosted the most number of matches?**"
      ],
      "metadata": {
        "id": "34VQmtg01SaC"
      }
    },
    {
      "cell_type": "code",
      "source": [
        "stadium_host_max = df['venue'].value_counts().idxmax()\n",
        "stadium_host_max_matches = df['venue'].value_counts().max()\n",
        "print(f'Name of stadium: {stadium_host_max}, Number of matches hosted: {stadium_host_max_matches}')"
      ],
      "metadata": {
        "colab": {
          "base_uri": "https://localhost:8080/"
        },
        "id": "ojodEzVD1p9n",
        "outputId": "811c8f1c-4f95-4a09-9356-95791a7f6202"
      },
      "execution_count": null,
      "outputs": [
        {
          "output_type": "stream",
          "name": "stdout",
          "text": [
            "Name of stadium: Eden Gardens, Number of matches hosted: 77\n"
          ]
        }
      ]
    },
    {
      "cell_type": "markdown",
      "source": [
        "**Q 27. Who has won the most MOM awards?**"
      ],
      "metadata": {
        "id": "0TatpDaw3-cZ"
      }
    },
    {
      "cell_type": "markdown",
      "source": [
        "Ans. AB de Villiers\n",
        "MOM in 23 matches."
      ],
      "metadata": {
        "id": "LXpKY0yYe-Lg"
      }
    },
    {
      "cell_type": "code",
      "source": [
        "MaxMOM_player=df['player_of_match'].value_counts().idxmax()\n",
        "MOM_count=df['player_of_match'].value_counts().max()\n",
        "print(MaxMOM_player)\n",
        "print(MOM_count)"
      ],
      "metadata": {
        "colab": {
          "base_uri": "https://localhost:8080/"
        },
        "id": "dVf-Mwht4IRm",
        "outputId": "d7116938-cbc3-4985-9136-6c5bfff5abaf"
      },
      "execution_count": null,
      "outputs": [
        {
          "output_type": "stream",
          "name": "stdout",
          "text": [
            "AB de Villiers\n",
            "23\n"
          ]
        }
      ]
    },
    {
      "cell_type": "code",
      "source": [],
      "metadata": {
        "id": "MNHyluZERHKb"
      },
      "execution_count": null,
      "outputs": []
    }
  ]
}