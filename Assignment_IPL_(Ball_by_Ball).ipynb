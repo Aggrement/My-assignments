{
  "nbformat": 4,
  "nbformat_minor": 0,
  "metadata": {
    "colab": {
      "provenance": []
    },
    "kernelspec": {
      "name": "python3",
      "display_name": "Python 3"
    },
    "language_info": {
      "name": "python"
    }
  },
  "cells": [
    {
      "cell_type": "markdown",
      "source": [
        "Import liberaries"
      ],
      "metadata": {
        "id": "9DVh6mgtgcls"
      }
    },
    {
      "cell_type": "code",
      "execution_count": 1,
      "metadata": {
        "id": "5IcgI9B4gHnj"
      },
      "outputs": [],
      "source": [
        "import pandas as pd\n",
        "import numpy as np\n",
        "import matplotlib.pyplot as plt"
      ]
    },
    {
      "cell_type": "markdown",
      "source": [
        "Load the required dataset"
      ],
      "metadata": {
        "id": "BZCoPG8eglrM"
      }
    },
    {
      "cell_type": "code",
      "source": [
        "df=pd.read_csv(\"IPL Ball-by-Ball 2008-2020.csv\")"
      ],
      "metadata": {
        "id": "mK-fK2mKgiIk"
      },
      "execution_count": 2,
      "outputs": []
    },
    {
      "cell_type": "code",
      "source": [
        "df.head()"
      ],
      "metadata": {
        "colab": {
          "base_uri": "https://localhost:8080/",
          "height": 399
        },
        "id": "BU3bIsUqyuS0",
        "outputId": "69dbc6a4-43d5-4448-99a6-dbb1fe169df8"
      },
      "execution_count": 3,
      "outputs": [
        {
          "output_type": "execute_result",
          "data": {
            "text/plain": [
              "       id  inning  over  ball      batsman  non_striker     bowler  \\\n",
              "0  335982       1     6     5   RT Ponting  BB McCullum  AA Noffke   \n",
              "1  335982       1     6     6  BB McCullum   RT Ponting  AA Noffke   \n",
              "2  335982       1     7     1  BB McCullum   RT Ponting     Z Khan   \n",
              "3  335982       1     7     2  BB McCullum   RT Ponting     Z Khan   \n",
              "4  335982       1     7     3   RT Ponting  BB McCullum     Z Khan   \n",
              "\n",
              "   batsman_runs  extra_runs  total_runs  non_boundary  is_wicket  \\\n",
              "0             1           0           1             0          0   \n",
              "1             1           0           1             0          0   \n",
              "2             0           0           0             0          0   \n",
              "3             1           0           1             0          0   \n",
              "4             1           0           1             0          0   \n",
              "\n",
              "  dismissal_kind player_dismissed fielder extras_type           batting_team  \\\n",
              "0            NaN              NaN     NaN         NaN  Kolkata Knight Riders   \n",
              "1            NaN              NaN     NaN         NaN  Kolkata Knight Riders   \n",
              "2            NaN              NaN     NaN         NaN  Kolkata Knight Riders   \n",
              "3            NaN              NaN     NaN         NaN  Kolkata Knight Riders   \n",
              "4            NaN              NaN     NaN         NaN  Kolkata Knight Riders   \n",
              "\n",
              "                  bowling_team  \n",
              "0  Royal Challengers Bangalore  \n",
              "1  Royal Challengers Bangalore  \n",
              "2  Royal Challengers Bangalore  \n",
              "3  Royal Challengers Bangalore  \n",
              "4  Royal Challengers Bangalore  "
            ],
            "text/html": [
              "\n",
              "  <div id=\"df-3ee8bdd4-d997-40cb-bb78-b82972088bf2\" class=\"colab-df-container\">\n",
              "    <div>\n",
              "<style scoped>\n",
              "    .dataframe tbody tr th:only-of-type {\n",
              "        vertical-align: middle;\n",
              "    }\n",
              "\n",
              "    .dataframe tbody tr th {\n",
              "        vertical-align: top;\n",
              "    }\n",
              "\n",
              "    .dataframe thead th {\n",
              "        text-align: right;\n",
              "    }\n",
              "</style>\n",
              "<table border=\"1\" class=\"dataframe\">\n",
              "  <thead>\n",
              "    <tr style=\"text-align: right;\">\n",
              "      <th></th>\n",
              "      <th>id</th>\n",
              "      <th>inning</th>\n",
              "      <th>over</th>\n",
              "      <th>ball</th>\n",
              "      <th>batsman</th>\n",
              "      <th>non_striker</th>\n",
              "      <th>bowler</th>\n",
              "      <th>batsman_runs</th>\n",
              "      <th>extra_runs</th>\n",
              "      <th>total_runs</th>\n",
              "      <th>non_boundary</th>\n",
              "      <th>is_wicket</th>\n",
              "      <th>dismissal_kind</th>\n",
              "      <th>player_dismissed</th>\n",
              "      <th>fielder</th>\n",
              "      <th>extras_type</th>\n",
              "      <th>batting_team</th>\n",
              "      <th>bowling_team</th>\n",
              "    </tr>\n",
              "  </thead>\n",
              "  <tbody>\n",
              "    <tr>\n",
              "      <th>0</th>\n",
              "      <td>335982</td>\n",
              "      <td>1</td>\n",
              "      <td>6</td>\n",
              "      <td>5</td>\n",
              "      <td>RT Ponting</td>\n",
              "      <td>BB McCullum</td>\n",
              "      <td>AA Noffke</td>\n",
              "      <td>1</td>\n",
              "      <td>0</td>\n",
              "      <td>1</td>\n",
              "      <td>0</td>\n",
              "      <td>0</td>\n",
              "      <td>NaN</td>\n",
              "      <td>NaN</td>\n",
              "      <td>NaN</td>\n",
              "      <td>NaN</td>\n",
              "      <td>Kolkata Knight Riders</td>\n",
              "      <td>Royal Challengers Bangalore</td>\n",
              "    </tr>\n",
              "    <tr>\n",
              "      <th>1</th>\n",
              "      <td>335982</td>\n",
              "      <td>1</td>\n",
              "      <td>6</td>\n",
              "      <td>6</td>\n",
              "      <td>BB McCullum</td>\n",
              "      <td>RT Ponting</td>\n",
              "      <td>AA Noffke</td>\n",
              "      <td>1</td>\n",
              "      <td>0</td>\n",
              "      <td>1</td>\n",
              "      <td>0</td>\n",
              "      <td>0</td>\n",
              "      <td>NaN</td>\n",
              "      <td>NaN</td>\n",
              "      <td>NaN</td>\n",
              "      <td>NaN</td>\n",
              "      <td>Kolkata Knight Riders</td>\n",
              "      <td>Royal Challengers Bangalore</td>\n",
              "    </tr>\n",
              "    <tr>\n",
              "      <th>2</th>\n",
              "      <td>335982</td>\n",
              "      <td>1</td>\n",
              "      <td>7</td>\n",
              "      <td>1</td>\n",
              "      <td>BB McCullum</td>\n",
              "      <td>RT Ponting</td>\n",
              "      <td>Z Khan</td>\n",
              "      <td>0</td>\n",
              "      <td>0</td>\n",
              "      <td>0</td>\n",
              "      <td>0</td>\n",
              "      <td>0</td>\n",
              "      <td>NaN</td>\n",
              "      <td>NaN</td>\n",
              "      <td>NaN</td>\n",
              "      <td>NaN</td>\n",
              "      <td>Kolkata Knight Riders</td>\n",
              "      <td>Royal Challengers Bangalore</td>\n",
              "    </tr>\n",
              "    <tr>\n",
              "      <th>3</th>\n",
              "      <td>335982</td>\n",
              "      <td>1</td>\n",
              "      <td>7</td>\n",
              "      <td>2</td>\n",
              "      <td>BB McCullum</td>\n",
              "      <td>RT Ponting</td>\n",
              "      <td>Z Khan</td>\n",
              "      <td>1</td>\n",
              "      <td>0</td>\n",
              "      <td>1</td>\n",
              "      <td>0</td>\n",
              "      <td>0</td>\n",
              "      <td>NaN</td>\n",
              "      <td>NaN</td>\n",
              "      <td>NaN</td>\n",
              "      <td>NaN</td>\n",
              "      <td>Kolkata Knight Riders</td>\n",
              "      <td>Royal Challengers Bangalore</td>\n",
              "    </tr>\n",
              "    <tr>\n",
              "      <th>4</th>\n",
              "      <td>335982</td>\n",
              "      <td>1</td>\n",
              "      <td>7</td>\n",
              "      <td>3</td>\n",
              "      <td>RT Ponting</td>\n",
              "      <td>BB McCullum</td>\n",
              "      <td>Z Khan</td>\n",
              "      <td>1</td>\n",
              "      <td>0</td>\n",
              "      <td>1</td>\n",
              "      <td>0</td>\n",
              "      <td>0</td>\n",
              "      <td>NaN</td>\n",
              "      <td>NaN</td>\n",
              "      <td>NaN</td>\n",
              "      <td>NaN</td>\n",
              "      <td>Kolkata Knight Riders</td>\n",
              "      <td>Royal Challengers Bangalore</td>\n",
              "    </tr>\n",
              "  </tbody>\n",
              "</table>\n",
              "</div>\n",
              "    <div class=\"colab-df-buttons\">\n",
              "\n",
              "  <div class=\"colab-df-container\">\n",
              "    <button class=\"colab-df-convert\" onclick=\"convertToInteractive('df-3ee8bdd4-d997-40cb-bb78-b82972088bf2')\"\n",
              "            title=\"Convert this dataframe to an interactive table.\"\n",
              "            style=\"display:none;\">\n",
              "\n",
              "  <svg xmlns=\"http://www.w3.org/2000/svg\" height=\"24px\" viewBox=\"0 -960 960 960\">\n",
              "    <path d=\"M120-120v-720h720v720H120Zm60-500h600v-160H180v160Zm220 220h160v-160H400v160Zm0 220h160v-160H400v160ZM180-400h160v-160H180v160Zm440 0h160v-160H620v160ZM180-180h160v-160H180v160Zm440 0h160v-160H620v160Z\"/>\n",
              "  </svg>\n",
              "    </button>\n",
              "\n",
              "  <style>\n",
              "    .colab-df-container {\n",
              "      display:flex;\n",
              "      gap: 12px;\n",
              "    }\n",
              "\n",
              "    .colab-df-convert {\n",
              "      background-color: #E8F0FE;\n",
              "      border: none;\n",
              "      border-radius: 50%;\n",
              "      cursor: pointer;\n",
              "      display: none;\n",
              "      fill: #1967D2;\n",
              "      height: 32px;\n",
              "      padding: 0 0 0 0;\n",
              "      width: 32px;\n",
              "    }\n",
              "\n",
              "    .colab-df-convert:hover {\n",
              "      background-color: #E2EBFA;\n",
              "      box-shadow: 0px 1px 2px rgba(60, 64, 67, 0.3), 0px 1px 3px 1px rgba(60, 64, 67, 0.15);\n",
              "      fill: #174EA6;\n",
              "    }\n",
              "\n",
              "    .colab-df-buttons div {\n",
              "      margin-bottom: 4px;\n",
              "    }\n",
              "\n",
              "    [theme=dark] .colab-df-convert {\n",
              "      background-color: #3B4455;\n",
              "      fill: #D2E3FC;\n",
              "    }\n",
              "\n",
              "    [theme=dark] .colab-df-convert:hover {\n",
              "      background-color: #434B5C;\n",
              "      box-shadow: 0px 1px 3px 1px rgba(0, 0, 0, 0.15);\n",
              "      filter: drop-shadow(0px 1px 2px rgba(0, 0, 0, 0.3));\n",
              "      fill: #FFFFFF;\n",
              "    }\n",
              "  </style>\n",
              "\n",
              "    <script>\n",
              "      const buttonEl =\n",
              "        document.querySelector('#df-3ee8bdd4-d997-40cb-bb78-b82972088bf2 button.colab-df-convert');\n",
              "      buttonEl.style.display =\n",
              "        google.colab.kernel.accessAllowed ? 'block' : 'none';\n",
              "\n",
              "      async function convertToInteractive(key) {\n",
              "        const element = document.querySelector('#df-3ee8bdd4-d997-40cb-bb78-b82972088bf2');\n",
              "        const dataTable =\n",
              "          await google.colab.kernel.invokeFunction('convertToInteractive',\n",
              "                                                    [key], {});\n",
              "        if (!dataTable) return;\n",
              "\n",
              "        const docLinkHtml = 'Like what you see? Visit the ' +\n",
              "          '<a target=\"_blank\" href=https://colab.research.google.com/notebooks/data_table.ipynb>data table notebook</a>'\n",
              "          + ' to learn more about interactive tables.';\n",
              "        element.innerHTML = '';\n",
              "        dataTable['output_type'] = 'display_data';\n",
              "        await google.colab.output.renderOutput(dataTable, element);\n",
              "        const docLink = document.createElement('div');\n",
              "        docLink.innerHTML = docLinkHtml;\n",
              "        element.appendChild(docLink);\n",
              "      }\n",
              "    </script>\n",
              "  </div>\n",
              "\n",
              "\n",
              "<div id=\"df-be864f8a-e6d3-4fa1-a392-4b042149a6c1\">\n",
              "  <button class=\"colab-df-quickchart\" onclick=\"quickchart('df-be864f8a-e6d3-4fa1-a392-4b042149a6c1')\"\n",
              "            title=\"Suggest charts\"\n",
              "            style=\"display:none;\">\n",
              "\n",
              "<svg xmlns=\"http://www.w3.org/2000/svg\" height=\"24px\"viewBox=\"0 0 24 24\"\n",
              "     width=\"24px\">\n",
              "    <g>\n",
              "        <path d=\"M19 3H5c-1.1 0-2 .9-2 2v14c0 1.1.9 2 2 2h14c1.1 0 2-.9 2-2V5c0-1.1-.9-2-2-2zM9 17H7v-7h2v7zm4 0h-2V7h2v10zm4 0h-2v-4h2v4z\"/>\n",
              "    </g>\n",
              "</svg>\n",
              "  </button>\n",
              "\n",
              "<style>\n",
              "  .colab-df-quickchart {\n",
              "      --bg-color: #E8F0FE;\n",
              "      --fill-color: #1967D2;\n",
              "      --hover-bg-color: #E2EBFA;\n",
              "      --hover-fill-color: #174EA6;\n",
              "      --disabled-fill-color: #AAA;\n",
              "      --disabled-bg-color: #DDD;\n",
              "  }\n",
              "\n",
              "  [theme=dark] .colab-df-quickchart {\n",
              "      --bg-color: #3B4455;\n",
              "      --fill-color: #D2E3FC;\n",
              "      --hover-bg-color: #434B5C;\n",
              "      --hover-fill-color: #FFFFFF;\n",
              "      --disabled-bg-color: #3B4455;\n",
              "      --disabled-fill-color: #666;\n",
              "  }\n",
              "\n",
              "  .colab-df-quickchart {\n",
              "    background-color: var(--bg-color);\n",
              "    border: none;\n",
              "    border-radius: 50%;\n",
              "    cursor: pointer;\n",
              "    display: none;\n",
              "    fill: var(--fill-color);\n",
              "    height: 32px;\n",
              "    padding: 0;\n",
              "    width: 32px;\n",
              "  }\n",
              "\n",
              "  .colab-df-quickchart:hover {\n",
              "    background-color: var(--hover-bg-color);\n",
              "    box-shadow: 0 1px 2px rgba(60, 64, 67, 0.3), 0 1px 3px 1px rgba(60, 64, 67, 0.15);\n",
              "    fill: var(--button-hover-fill-color);\n",
              "  }\n",
              "\n",
              "  .colab-df-quickchart-complete:disabled,\n",
              "  .colab-df-quickchart-complete:disabled:hover {\n",
              "    background-color: var(--disabled-bg-color);\n",
              "    fill: var(--disabled-fill-color);\n",
              "    box-shadow: none;\n",
              "  }\n",
              "\n",
              "  .colab-df-spinner {\n",
              "    border: 2px solid var(--fill-color);\n",
              "    border-color: transparent;\n",
              "    border-bottom-color: var(--fill-color);\n",
              "    animation:\n",
              "      spin 1s steps(1) infinite;\n",
              "  }\n",
              "\n",
              "  @keyframes spin {\n",
              "    0% {\n",
              "      border-color: transparent;\n",
              "      border-bottom-color: var(--fill-color);\n",
              "      border-left-color: var(--fill-color);\n",
              "    }\n",
              "    20% {\n",
              "      border-color: transparent;\n",
              "      border-left-color: var(--fill-color);\n",
              "      border-top-color: var(--fill-color);\n",
              "    }\n",
              "    30% {\n",
              "      border-color: transparent;\n",
              "      border-left-color: var(--fill-color);\n",
              "      border-top-color: var(--fill-color);\n",
              "      border-right-color: var(--fill-color);\n",
              "    }\n",
              "    40% {\n",
              "      border-color: transparent;\n",
              "      border-right-color: var(--fill-color);\n",
              "      border-top-color: var(--fill-color);\n",
              "    }\n",
              "    60% {\n",
              "      border-color: transparent;\n",
              "      border-right-color: var(--fill-color);\n",
              "    }\n",
              "    80% {\n",
              "      border-color: transparent;\n",
              "      border-right-color: var(--fill-color);\n",
              "      border-bottom-color: var(--fill-color);\n",
              "    }\n",
              "    90% {\n",
              "      border-color: transparent;\n",
              "      border-bottom-color: var(--fill-color);\n",
              "    }\n",
              "  }\n",
              "</style>\n",
              "\n",
              "  <script>\n",
              "    async function quickchart(key) {\n",
              "      const quickchartButtonEl =\n",
              "        document.querySelector('#' + key + ' button');\n",
              "      quickchartButtonEl.disabled = true;  // To prevent multiple clicks.\n",
              "      quickchartButtonEl.classList.add('colab-df-spinner');\n",
              "      try {\n",
              "        const charts = await google.colab.kernel.invokeFunction(\n",
              "            'suggestCharts', [key], {});\n",
              "      } catch (error) {\n",
              "        console.error('Error during call to suggestCharts:', error);\n",
              "      }\n",
              "      quickchartButtonEl.classList.remove('colab-df-spinner');\n",
              "      quickchartButtonEl.classList.add('colab-df-quickchart-complete');\n",
              "    }\n",
              "    (() => {\n",
              "      let quickchartButtonEl =\n",
              "        document.querySelector('#df-be864f8a-e6d3-4fa1-a392-4b042149a6c1 button');\n",
              "      quickchartButtonEl.style.display =\n",
              "        google.colab.kernel.accessAllowed ? 'block' : 'none';\n",
              "    })();\n",
              "  </script>\n",
              "</div>\n",
              "\n",
              "    </div>\n",
              "  </div>\n"
            ],
            "application/vnd.google.colaboratory.intrinsic+json": {
              "type": "dataframe",
              "variable_name": "df"
            }
          },
          "metadata": {},
          "execution_count": 3
        }
      ]
    },
    {
      "cell_type": "code",
      "source": [
        "df.info()"
      ],
      "metadata": {
        "colab": {
          "base_uri": "https://localhost:8080/"
        },
        "id": "ig85FAy575ui",
        "outputId": "4b48233b-bca3-459c-d14f-8c55f796f825"
      },
      "execution_count": 4,
      "outputs": [
        {
          "output_type": "stream",
          "name": "stdout",
          "text": [
            "<class 'pandas.core.frame.DataFrame'>\n",
            "RangeIndex: 193468 entries, 0 to 193467\n",
            "Data columns (total 18 columns):\n",
            " #   Column            Non-Null Count   Dtype \n",
            "---  ------            --------------   ----- \n",
            " 0   id                193468 non-null  int64 \n",
            " 1   inning            193468 non-null  int64 \n",
            " 2   over              193468 non-null  int64 \n",
            " 3   ball              193468 non-null  int64 \n",
            " 4   batsman           193468 non-null  object\n",
            " 5   non_striker       193468 non-null  object\n",
            " 6   bowler            193468 non-null  object\n",
            " 7   batsman_runs      193468 non-null  int64 \n",
            " 8   extra_runs        193468 non-null  int64 \n",
            " 9   total_runs        193468 non-null  int64 \n",
            " 10  non_boundary      193468 non-null  int64 \n",
            " 11  is_wicket         193468 non-null  int64 \n",
            " 12  dismissal_kind    9495 non-null    object\n",
            " 13  player_dismissed  9495 non-null    object\n",
            " 14  fielder           6784 non-null    object\n",
            " 15  extras_type       10233 non-null   object\n",
            " 16  batting_team      193468 non-null  object\n",
            " 17  bowling_team      193277 non-null  object\n",
            "dtypes: int64(9), object(9)\n",
            "memory usage: 26.6+ MB\n"
          ]
        }
      ]
    },
    {
      "cell_type": "code",
      "source": [
        "df.describe()"
      ],
      "metadata": {
        "colab": {
          "base_uri": "https://localhost:8080/",
          "height": 320
        },
        "id": "89N7ld7a0OBU",
        "outputId": "4e93d56c-d6fd-4df2-b24d-69ace768a39d"
      },
      "execution_count": 5,
      "outputs": [
        {
          "output_type": "execute_result",
          "data": {
            "text/plain": [
              "                 id         inning           over           ball  \\\n",
              "count  1.934680e+05  193468.000000  193468.000000  193468.000000   \n",
              "mean   7.567688e+05       1.482131       9.177027       3.615967   \n",
              "std    3.060971e+05       0.499682       5.676848       1.807128   \n",
              "min    3.359820e+05       1.000000       0.000000       1.000000   \n",
              "25%    5.012270e+05       1.000000       4.000000       2.000000   \n",
              "50%    7.292970e+05       1.000000       9.000000       4.000000   \n",
              "75%    1.082628e+06       2.000000      14.000000       5.000000   \n",
              "max    1.237181e+06       2.000000      19.000000       9.000000   \n",
              "\n",
              "        batsman_runs     extra_runs     total_runs   non_boundary  \\\n",
              "count  193468.000000  193468.000000  193468.000000  193468.000000   \n",
              "mean        1.240231       0.066414       1.306645       0.000083   \n",
              "std         1.610867       0.339991       1.598802       0.009094   \n",
              "min         0.000000       0.000000       0.000000       0.000000   \n",
              "25%         0.000000       0.000000       0.000000       0.000000   \n",
              "50%         1.000000       0.000000       1.000000       0.000000   \n",
              "75%         1.000000       0.000000       1.000000       0.000000   \n",
              "max         6.000000       7.000000       7.000000       1.000000   \n",
              "\n",
              "           is_wicket  \n",
              "count  193468.000000  \n",
              "mean        0.049078  \n",
              "std         0.216031  \n",
              "min         0.000000  \n",
              "25%         0.000000  \n",
              "50%         0.000000  \n",
              "75%         0.000000  \n",
              "max         1.000000  "
            ],
            "text/html": [
              "\n",
              "  <div id=\"df-a8e20c89-72a2-4e3b-98b8-f92a533c40b2\" class=\"colab-df-container\">\n",
              "    <div>\n",
              "<style scoped>\n",
              "    .dataframe tbody tr th:only-of-type {\n",
              "        vertical-align: middle;\n",
              "    }\n",
              "\n",
              "    .dataframe tbody tr th {\n",
              "        vertical-align: top;\n",
              "    }\n",
              "\n",
              "    .dataframe thead th {\n",
              "        text-align: right;\n",
              "    }\n",
              "</style>\n",
              "<table border=\"1\" class=\"dataframe\">\n",
              "  <thead>\n",
              "    <tr style=\"text-align: right;\">\n",
              "      <th></th>\n",
              "      <th>id</th>\n",
              "      <th>inning</th>\n",
              "      <th>over</th>\n",
              "      <th>ball</th>\n",
              "      <th>batsman_runs</th>\n",
              "      <th>extra_runs</th>\n",
              "      <th>total_runs</th>\n",
              "      <th>non_boundary</th>\n",
              "      <th>is_wicket</th>\n",
              "    </tr>\n",
              "  </thead>\n",
              "  <tbody>\n",
              "    <tr>\n",
              "      <th>count</th>\n",
              "      <td>1.934680e+05</td>\n",
              "      <td>193468.000000</td>\n",
              "      <td>193468.000000</td>\n",
              "      <td>193468.000000</td>\n",
              "      <td>193468.000000</td>\n",
              "      <td>193468.000000</td>\n",
              "      <td>193468.000000</td>\n",
              "      <td>193468.000000</td>\n",
              "      <td>193468.000000</td>\n",
              "    </tr>\n",
              "    <tr>\n",
              "      <th>mean</th>\n",
              "      <td>7.567688e+05</td>\n",
              "      <td>1.482131</td>\n",
              "      <td>9.177027</td>\n",
              "      <td>3.615967</td>\n",
              "      <td>1.240231</td>\n",
              "      <td>0.066414</td>\n",
              "      <td>1.306645</td>\n",
              "      <td>0.000083</td>\n",
              "      <td>0.049078</td>\n",
              "    </tr>\n",
              "    <tr>\n",
              "      <th>std</th>\n",
              "      <td>3.060971e+05</td>\n",
              "      <td>0.499682</td>\n",
              "      <td>5.676848</td>\n",
              "      <td>1.807128</td>\n",
              "      <td>1.610867</td>\n",
              "      <td>0.339991</td>\n",
              "      <td>1.598802</td>\n",
              "      <td>0.009094</td>\n",
              "      <td>0.216031</td>\n",
              "    </tr>\n",
              "    <tr>\n",
              "      <th>min</th>\n",
              "      <td>3.359820e+05</td>\n",
              "      <td>1.000000</td>\n",
              "      <td>0.000000</td>\n",
              "      <td>1.000000</td>\n",
              "      <td>0.000000</td>\n",
              "      <td>0.000000</td>\n",
              "      <td>0.000000</td>\n",
              "      <td>0.000000</td>\n",
              "      <td>0.000000</td>\n",
              "    </tr>\n",
              "    <tr>\n",
              "      <th>25%</th>\n",
              "      <td>5.012270e+05</td>\n",
              "      <td>1.000000</td>\n",
              "      <td>4.000000</td>\n",
              "      <td>2.000000</td>\n",
              "      <td>0.000000</td>\n",
              "      <td>0.000000</td>\n",
              "      <td>0.000000</td>\n",
              "      <td>0.000000</td>\n",
              "      <td>0.000000</td>\n",
              "    </tr>\n",
              "    <tr>\n",
              "      <th>50%</th>\n",
              "      <td>7.292970e+05</td>\n",
              "      <td>1.000000</td>\n",
              "      <td>9.000000</td>\n",
              "      <td>4.000000</td>\n",
              "      <td>1.000000</td>\n",
              "      <td>0.000000</td>\n",
              "      <td>1.000000</td>\n",
              "      <td>0.000000</td>\n",
              "      <td>0.000000</td>\n",
              "    </tr>\n",
              "    <tr>\n",
              "      <th>75%</th>\n",
              "      <td>1.082628e+06</td>\n",
              "      <td>2.000000</td>\n",
              "      <td>14.000000</td>\n",
              "      <td>5.000000</td>\n",
              "      <td>1.000000</td>\n",
              "      <td>0.000000</td>\n",
              "      <td>1.000000</td>\n",
              "      <td>0.000000</td>\n",
              "      <td>0.000000</td>\n",
              "    </tr>\n",
              "    <tr>\n",
              "      <th>max</th>\n",
              "      <td>1.237181e+06</td>\n",
              "      <td>2.000000</td>\n",
              "      <td>19.000000</td>\n",
              "      <td>9.000000</td>\n",
              "      <td>6.000000</td>\n",
              "      <td>7.000000</td>\n",
              "      <td>7.000000</td>\n",
              "      <td>1.000000</td>\n",
              "      <td>1.000000</td>\n",
              "    </tr>\n",
              "  </tbody>\n",
              "</table>\n",
              "</div>\n",
              "    <div class=\"colab-df-buttons\">\n",
              "\n",
              "  <div class=\"colab-df-container\">\n",
              "    <button class=\"colab-df-convert\" onclick=\"convertToInteractive('df-a8e20c89-72a2-4e3b-98b8-f92a533c40b2')\"\n",
              "            title=\"Convert this dataframe to an interactive table.\"\n",
              "            style=\"display:none;\">\n",
              "\n",
              "  <svg xmlns=\"http://www.w3.org/2000/svg\" height=\"24px\" viewBox=\"0 -960 960 960\">\n",
              "    <path d=\"M120-120v-720h720v720H120Zm60-500h600v-160H180v160Zm220 220h160v-160H400v160Zm0 220h160v-160H400v160ZM180-400h160v-160H180v160Zm440 0h160v-160H620v160ZM180-180h160v-160H180v160Zm440 0h160v-160H620v160Z\"/>\n",
              "  </svg>\n",
              "    </button>\n",
              "\n",
              "  <style>\n",
              "    .colab-df-container {\n",
              "      display:flex;\n",
              "      gap: 12px;\n",
              "    }\n",
              "\n",
              "    .colab-df-convert {\n",
              "      background-color: #E8F0FE;\n",
              "      border: none;\n",
              "      border-radius: 50%;\n",
              "      cursor: pointer;\n",
              "      display: none;\n",
              "      fill: #1967D2;\n",
              "      height: 32px;\n",
              "      padding: 0 0 0 0;\n",
              "      width: 32px;\n",
              "    }\n",
              "\n",
              "    .colab-df-convert:hover {\n",
              "      background-color: #E2EBFA;\n",
              "      box-shadow: 0px 1px 2px rgba(60, 64, 67, 0.3), 0px 1px 3px 1px rgba(60, 64, 67, 0.15);\n",
              "      fill: #174EA6;\n",
              "    }\n",
              "\n",
              "    .colab-df-buttons div {\n",
              "      margin-bottom: 4px;\n",
              "    }\n",
              "\n",
              "    [theme=dark] .colab-df-convert {\n",
              "      background-color: #3B4455;\n",
              "      fill: #D2E3FC;\n",
              "    }\n",
              "\n",
              "    [theme=dark] .colab-df-convert:hover {\n",
              "      background-color: #434B5C;\n",
              "      box-shadow: 0px 1px 3px 1px rgba(0, 0, 0, 0.15);\n",
              "      filter: drop-shadow(0px 1px 2px rgba(0, 0, 0, 0.3));\n",
              "      fill: #FFFFFF;\n",
              "    }\n",
              "  </style>\n",
              "\n",
              "    <script>\n",
              "      const buttonEl =\n",
              "        document.querySelector('#df-a8e20c89-72a2-4e3b-98b8-f92a533c40b2 button.colab-df-convert');\n",
              "      buttonEl.style.display =\n",
              "        google.colab.kernel.accessAllowed ? 'block' : 'none';\n",
              "\n",
              "      async function convertToInteractive(key) {\n",
              "        const element = document.querySelector('#df-a8e20c89-72a2-4e3b-98b8-f92a533c40b2');\n",
              "        const dataTable =\n",
              "          await google.colab.kernel.invokeFunction('convertToInteractive',\n",
              "                                                    [key], {});\n",
              "        if (!dataTable) return;\n",
              "\n",
              "        const docLinkHtml = 'Like what you see? Visit the ' +\n",
              "          '<a target=\"_blank\" href=https://colab.research.google.com/notebooks/data_table.ipynb>data table notebook</a>'\n",
              "          + ' to learn more about interactive tables.';\n",
              "        element.innerHTML = '';\n",
              "        dataTable['output_type'] = 'display_data';\n",
              "        await google.colab.output.renderOutput(dataTable, element);\n",
              "        const docLink = document.createElement('div');\n",
              "        docLink.innerHTML = docLinkHtml;\n",
              "        element.appendChild(docLink);\n",
              "      }\n",
              "    </script>\n",
              "  </div>\n",
              "\n",
              "\n",
              "<div id=\"df-516662d7-7ab8-40c9-b210-eef4b8c29bfc\">\n",
              "  <button class=\"colab-df-quickchart\" onclick=\"quickchart('df-516662d7-7ab8-40c9-b210-eef4b8c29bfc')\"\n",
              "            title=\"Suggest charts\"\n",
              "            style=\"display:none;\">\n",
              "\n",
              "<svg xmlns=\"http://www.w3.org/2000/svg\" height=\"24px\"viewBox=\"0 0 24 24\"\n",
              "     width=\"24px\">\n",
              "    <g>\n",
              "        <path d=\"M19 3H5c-1.1 0-2 .9-2 2v14c0 1.1.9 2 2 2h14c1.1 0 2-.9 2-2V5c0-1.1-.9-2-2-2zM9 17H7v-7h2v7zm4 0h-2V7h2v10zm4 0h-2v-4h2v4z\"/>\n",
              "    </g>\n",
              "</svg>\n",
              "  </button>\n",
              "\n",
              "<style>\n",
              "  .colab-df-quickchart {\n",
              "      --bg-color: #E8F0FE;\n",
              "      --fill-color: #1967D2;\n",
              "      --hover-bg-color: #E2EBFA;\n",
              "      --hover-fill-color: #174EA6;\n",
              "      --disabled-fill-color: #AAA;\n",
              "      --disabled-bg-color: #DDD;\n",
              "  }\n",
              "\n",
              "  [theme=dark] .colab-df-quickchart {\n",
              "      --bg-color: #3B4455;\n",
              "      --fill-color: #D2E3FC;\n",
              "      --hover-bg-color: #434B5C;\n",
              "      --hover-fill-color: #FFFFFF;\n",
              "      --disabled-bg-color: #3B4455;\n",
              "      --disabled-fill-color: #666;\n",
              "  }\n",
              "\n",
              "  .colab-df-quickchart {\n",
              "    background-color: var(--bg-color);\n",
              "    border: none;\n",
              "    border-radius: 50%;\n",
              "    cursor: pointer;\n",
              "    display: none;\n",
              "    fill: var(--fill-color);\n",
              "    height: 32px;\n",
              "    padding: 0;\n",
              "    width: 32px;\n",
              "  }\n",
              "\n",
              "  .colab-df-quickchart:hover {\n",
              "    background-color: var(--hover-bg-color);\n",
              "    box-shadow: 0 1px 2px rgba(60, 64, 67, 0.3), 0 1px 3px 1px rgba(60, 64, 67, 0.15);\n",
              "    fill: var(--button-hover-fill-color);\n",
              "  }\n",
              "\n",
              "  .colab-df-quickchart-complete:disabled,\n",
              "  .colab-df-quickchart-complete:disabled:hover {\n",
              "    background-color: var(--disabled-bg-color);\n",
              "    fill: var(--disabled-fill-color);\n",
              "    box-shadow: none;\n",
              "  }\n",
              "\n",
              "  .colab-df-spinner {\n",
              "    border: 2px solid var(--fill-color);\n",
              "    border-color: transparent;\n",
              "    border-bottom-color: var(--fill-color);\n",
              "    animation:\n",
              "      spin 1s steps(1) infinite;\n",
              "  }\n",
              "\n",
              "  @keyframes spin {\n",
              "    0% {\n",
              "      border-color: transparent;\n",
              "      border-bottom-color: var(--fill-color);\n",
              "      border-left-color: var(--fill-color);\n",
              "    }\n",
              "    20% {\n",
              "      border-color: transparent;\n",
              "      border-left-color: var(--fill-color);\n",
              "      border-top-color: var(--fill-color);\n",
              "    }\n",
              "    30% {\n",
              "      border-color: transparent;\n",
              "      border-left-color: var(--fill-color);\n",
              "      border-top-color: var(--fill-color);\n",
              "      border-right-color: var(--fill-color);\n",
              "    }\n",
              "    40% {\n",
              "      border-color: transparent;\n",
              "      border-right-color: var(--fill-color);\n",
              "      border-top-color: var(--fill-color);\n",
              "    }\n",
              "    60% {\n",
              "      border-color: transparent;\n",
              "      border-right-color: var(--fill-color);\n",
              "    }\n",
              "    80% {\n",
              "      border-color: transparent;\n",
              "      border-right-color: var(--fill-color);\n",
              "      border-bottom-color: var(--fill-color);\n",
              "    }\n",
              "    90% {\n",
              "      border-color: transparent;\n",
              "      border-bottom-color: var(--fill-color);\n",
              "    }\n",
              "  }\n",
              "</style>\n",
              "\n",
              "  <script>\n",
              "    async function quickchart(key) {\n",
              "      const quickchartButtonEl =\n",
              "        document.querySelector('#' + key + ' button');\n",
              "      quickchartButtonEl.disabled = true;  // To prevent multiple clicks.\n",
              "      quickchartButtonEl.classList.add('colab-df-spinner');\n",
              "      try {\n",
              "        const charts = await google.colab.kernel.invokeFunction(\n",
              "            'suggestCharts', [key], {});\n",
              "      } catch (error) {\n",
              "        console.error('Error during call to suggestCharts:', error);\n",
              "      }\n",
              "      quickchartButtonEl.classList.remove('colab-df-spinner');\n",
              "      quickchartButtonEl.classList.add('colab-df-quickchart-complete');\n",
              "    }\n",
              "    (() => {\n",
              "      let quickchartButtonEl =\n",
              "        document.querySelector('#df-516662d7-7ab8-40c9-b210-eef4b8c29bfc button');\n",
              "      quickchartButtonEl.style.display =\n",
              "        google.colab.kernel.accessAllowed ? 'block' : 'none';\n",
              "    })();\n",
              "  </script>\n",
              "</div>\n",
              "\n",
              "    </div>\n",
              "  </div>\n"
            ],
            "application/vnd.google.colaboratory.intrinsic+json": {
              "type": "dataframe",
              "summary": "{\n  \"name\": \"df\",\n  \"rows\": 8,\n  \"fields\": [\n    {\n      \"column\": \"id\",\n      \"properties\": {\n        \"dtype\": \"number\",\n        \"std\": 377332.053394402,\n        \"min\": 193468.0,\n        \"max\": 1237181.0,\n        \"samples\": [\n          756768.8084386048,\n          729297.0,\n          193468.0\n        ],\n        \"num_unique_values\": 8,\n        \"semantic_type\": \"\",\n        \"description\": \"\"\n      }\n    },\n    {\n      \"column\": \"inning\",\n      \"properties\": {\n        \"dtype\": \"number\",\n        \"std\": 68400.8137232275,\n        \"min\": 0.49968190293373693,\n        \"max\": 193468.0,\n        \"samples\": [\n          1.4821314119130813,\n          2.0,\n          0.49968190293373693\n        ],\n        \"num_unique_values\": 5,\n        \"semantic_type\": \"\",\n        \"description\": \"\"\n      }\n    },\n    {\n      \"column\": \"over\",\n      \"properties\": {\n        \"dtype\": \"number\",\n        \"std\": 68398.19403859916,\n        \"min\": 0.0,\n        \"max\": 193468.0,\n        \"samples\": [\n          9.17702669175264,\n          9.0,\n          193468.0\n        ],\n        \"num_unique_values\": 8,\n        \"semantic_type\": \"\",\n        \"description\": \"\"\n      }\n    },\n    {\n      \"column\": \"ball\",\n      \"properties\": {\n        \"dtype\": \"number\",\n        \"std\": 68399.9328489932,\n        \"min\": 1.0,\n        \"max\": 193468.0,\n        \"samples\": [\n          3.615967498501044,\n          4.0,\n          193468.0\n        ],\n        \"num_unique_values\": 8,\n        \"semantic_type\": \"\",\n        \"description\": \"\"\n      }\n    },\n    {\n      \"column\": \"batsman_runs\",\n      \"properties\": {\n        \"dtype\": \"number\",\n        \"std\": 68400.71933454486,\n        \"min\": 0.0,\n        \"max\": 193468.0,\n        \"samples\": [\n          193468.0,\n          1.2402309425848201,\n          6.0\n        ],\n        \"num_unique_values\": 6,\n        \"semantic_type\": \"\",\n        \"description\": \"\"\n      }\n    },\n    {\n      \"column\": \"extra_runs\",\n      \"properties\": {\n        \"dtype\": \"number\",\n        \"std\": 68400.89333444639,\n        \"min\": 0.0,\n        \"max\": 193468.0,\n        \"samples\": [\n          0.06641408398288089,\n          7.0,\n          0.3399913362666674\n        ],\n        \"num_unique_values\": 5,\n        \"semantic_type\": \"\",\n        \"description\": \"\"\n      }\n    },\n    {\n      \"column\": \"total_runs\",\n      \"properties\": {\n        \"dtype\": \"number\",\n        \"std\": 68400.66609199594,\n        \"min\": 0.0,\n        \"max\": 193468.0,\n        \"samples\": [\n          193468.0,\n          1.3066450265677012,\n          7.0\n        ],\n        \"num_unique_values\": 6,\n        \"semantic_type\": \"\",\n        \"description\": \"\"\n      }\n    },\n    {\n      \"column\": \"non_boundary\",\n      \"properties\": {\n        \"dtype\": \"number\",\n        \"std\": 68401.21640108859,\n        \"min\": 0.0,\n        \"max\": 193468.0,\n        \"samples\": [\n          8.270101515496103e-05,\n          1.0,\n          0.009093657302209601\n        ],\n        \"num_unique_values\": 5,\n        \"semantic_type\": \"\",\n        \"description\": \"\"\n      }\n    },\n    {\n      \"column\": \"is_wicket\",\n      \"properties\": {\n        \"dtype\": \"number\",\n        \"std\": 68401.20347449744,\n        \"min\": 0.0,\n        \"max\": 193468.0,\n        \"samples\": [\n          0.049077883681022186,\n          1.0,\n          0.21603121589317198\n        ],\n        \"num_unique_values\": 5,\n        \"semantic_type\": \"\",\n        \"description\": \"\"\n      }\n    }\n  ]\n}"
            }
          },
          "metadata": {},
          "execution_count": 5
        }
      ]
    },
    {
      "cell_type": "markdown",
      "source": [
        "**Q 16. Which team has scored the most number of 200+ scores?**"
      ],
      "metadata": {
        "id": "NDWPLRG7_cO7"
      }
    },
    {
      "cell_type": "markdown",
      "source": [
        "Ans:\n",
        "\n",
        "Step1: Filter the data by inning == 1."
      ],
      "metadata": {
        "id": "3JplWCQy_oQC"
      }
    },
    {
      "cell_type": "code",
      "source": [
        "runs_inning1=df[df['inning']==1]"
      ],
      "metadata": {
        "id": "J_DUKU8wQD9d"
      },
      "execution_count": 6,
      "outputs": []
    },
    {
      "cell_type": "markdown",
      "source": [
        "Step2: Group the inning 1 data by match \"id\" and \"batting_team\" and obtain the total score in each match by each team."
      ],
      "metadata": {
        "id": "NFXl9hSoQ_Qd"
      }
    },
    {
      "cell_type": "code",
      "source": [
        "runs_batting_team=runs_inning1.groupby(['id','batting_team'])['total_runs'].sum()\n",
        "print(runs_batting_team)"
      ],
      "metadata": {
        "colab": {
          "base_uri": "https://localhost:8080/"
        },
        "id": "U8S3ZTvHREzz",
        "outputId": "ee94b117-d557-4901-ff6b-6f73b17617e4"
      },
      "execution_count": 7,
      "outputs": [
        {
          "output_type": "stream",
          "name": "stdout",
          "text": [
            "id       batting_team               \n",
            "335982   Kolkata Knight Riders          222\n",
            "335983   Chennai Super Kings            240\n",
            "335984   Rajasthan Royals               129\n",
            "335985   Mumbai Indians                 165\n",
            "335986   Deccan Chargers                110\n",
            "                                       ... \n",
            "1216547  Royal Challengers Bangalore    201\n",
            "1237177  Mumbai Indians                 200\n",
            "1237178  Royal Challengers Bangalore    131\n",
            "1237180  Delhi Capitals                 189\n",
            "1237181  Delhi Capitals                 156\n",
            "Name: total_runs, Length: 816, dtype: int64\n"
          ]
        }
      ]
    },
    {
      "cell_type": "markdown",
      "source": [
        "Step3: Extract the team who scored >200 runs"
      ],
      "metadata": {
        "id": "_dlUis_5RHjv"
      }
    },
    {
      "cell_type": "code",
      "source": [
        "runs_batting_team_200=runs_batting_team[runs_batting_team>200]\n",
        "print(runs_batting_team_200)"
      ],
      "metadata": {
        "colab": {
          "base_uri": "https://localhost:8080/"
        },
        "id": "fIwud06ZRZwd",
        "outputId": "f0383db6-24dd-4fa4-f0aa-14ab012ee459"
      },
      "execution_count": 8,
      "outputs": [
        {
          "output_type": "stream",
          "name": "stdout",
          "text": [
            "id       batting_team               \n",
            "335982   Kolkata Knight Riders          222\n",
            "335983   Chennai Super Kings            240\n",
            "335989   Chennai Super Kings            208\n",
            "335990   Deccan Chargers                214\n",
            "336014   Kolkata Knight Riders          204\n",
            "                                       ... \n",
            "1216524  Sunrisers Hyderabad            219\n",
            "1216527  Kings XI Punjab                223\n",
            "1216538  Mumbai Indians                 208\n",
            "1216542  Sunrisers Hyderabad            201\n",
            "1216547  Royal Challengers Bangalore    201\n",
            "Name: total_runs, Length: 73, dtype: int64\n"
          ]
        }
      ]
    },
    {
      "cell_type": "markdown",
      "source": [
        "Group the team who scored 200+ maximum times\n",
        "\n",
        "Apply the \"groupby\" code on the above output to group the batting team."
      ],
      "metadata": {
        "id": "t7QlQl3TSlWA"
      }
    },
    {
      "cell_type": "code",
      "source": [
        "batting_team_over_200=runs_batting_team_200.groupby('batting_team').size()\n",
        "print(batting_team_over_200)"
      ],
      "metadata": {
        "colab": {
          "base_uri": "https://localhost:8080/"
        },
        "id": "6PskSNWoSvAt",
        "outputId": "e7317acd-1b10-42b6-c953-63034c83dce2"
      },
      "execution_count": 9,
      "outputs": [
        {
          "output_type": "stream",
          "name": "stdout",
          "text": [
            "batting_team\n",
            "Chennai Super Kings            10\n",
            "Deccan Chargers                 1\n",
            "Delhi Capitals                  2\n",
            "Delhi Daredevils                4\n",
            "Gujarat Lions                   1\n",
            "Kings XI Punjab                 8\n",
            "Kolkata Knight Riders           6\n",
            "Mumbai Indians                 10\n",
            "Rajasthan Royals                5\n",
            "Royal Challengers Bangalore    16\n",
            "Sunrisers Hyderabad            10\n",
            "Name: total_runs, dtype: int64\n"
          ]
        }
      ]
    },
    {
      "cell_type": "markdown",
      "source": [
        "find the team who scored 200+ maximum times"
      ],
      "metadata": {
        "id": "PlD99kQPwUyC"
      }
    },
    {
      "cell_type": "code",
      "source": [
        "batting_team_max_200=runs_batting_team_200.groupby('batting_team').size().idxmax()\n",
        "print(batting_team_max_200)"
      ],
      "metadata": {
        "colab": {
          "base_uri": "https://localhost:8080/"
        },
        "id": "pHcADACswcfK",
        "outputId": "f4dcb6f8-cb6e-4bde-f5d0-75189049a9c8"
      },
      "execution_count": 10,
      "outputs": [
        {
          "output_type": "stream",
          "name": "stdout",
          "text": [
            "Royal Challengers Bangalore\n"
          ]
        }
      ]
    },
    {
      "cell_type": "markdown",
      "source": [
        "**Q 17. Which team has conceded 200+ scores the most?**"
      ],
      "metadata": {
        "id": "xDSEkYYREA6b"
      }
    },
    {
      "cell_type": "markdown",
      "source": [
        "Ans: performed the same steps as above for \"bowling_team\""
      ],
      "metadata": {
        "id": "2kqnh5TSEEu5"
      }
    },
    {
      "cell_type": "code",
      "source": [
        "runs_bowling_team=runs_inning1.groupby(['id','bowling_team'])['total_runs'].sum()\n",
        "runs_bowling_team_200=runs_bowling_team[runs_bowling_team>200]\n",
        "bowling_team_over_200_max=runs_bowling_team_200.groupby('bowling_team').size().idxmax()\n",
        "print(bowling_team_over_200_max)"
      ],
      "metadata": {
        "colab": {
          "base_uri": "https://localhost:8080/"
        },
        "id": "futui7N3-R1w",
        "outputId": "3aa52612-c7ee-425a-aafb-a2069a2bfe7b"
      },
      "execution_count": 11,
      "outputs": [
        {
          "output_type": "stream",
          "name": "stdout",
          "text": [
            "Kings XI Punjab\n"
          ]
        }
      ]
    },
    {
      "cell_type": "markdown",
      "source": [
        "**Q 18. What was the highest run scored by a team in a single match?**"
      ],
      "metadata": {
        "id": "xQbwpD6jGdcC"
      }
    },
    {
      "cell_type": "markdown",
      "source": [
        "Ans: Group the data by id, inning, batting team and find the total runs scored in each match.\n",
        "\n",
        "Find the max score by using max function. Also find the corresponding match id, inning and team who scored the maximum runs.\n",
        "\n",
        "The highest score was 263 runs made by 'Royal Challengers Bangalore' in first inning."
      ],
      "metadata": {
        "id": "cZ6F9lWh6OCh"
      }
    },
    {
      "cell_type": "code",
      "source": [
        "highest_score=df.groupby(['id','inning','batting_team'])['total_runs'].sum().max()\n",
        "team_highest_score=df.groupby(['id','inning','batting_team'])['total_runs'].sum().idxmax()\n",
        "print(f'Highest score: {highest_score}')\n",
        "print(f'Team name: {team_highest_score}')"
      ],
      "metadata": {
        "colab": {
          "base_uri": "https://localhost:8080/"
        },
        "id": "y5jNDb8ENpky",
        "outputId": "384f7404-2da7-4da6-d940-3b6dfcf73780"
      },
      "execution_count": 12,
      "outputs": [
        {
          "output_type": "stream",
          "name": "stdout",
          "text": [
            "Highest score: 263\n",
            "Team name: (598027, 1, 'Royal Challengers Bangalore')\n"
          ]
        }
      ]
    },
    {
      "cell_type": "markdown",
      "source": [
        "**Q 20. Which batsmen have played the most number of balls?**\n",
        "\n",
        "Ans: Group the data by batsman and used the idxmax and max function\n",
        "\n",
        "Name of batsman: V Kohli, Number of ball played: 4609"
      ],
      "metadata": {
        "id": "OAnuw8mx7ix1"
      }
    },
    {
      "cell_type": "code",
      "source": [
        "all_batsman=df.groupby('batsman')\n",
        "ball_played_batsman=all_batsman.size().idxmax()\n",
        "total_ball_played=all_batsman.size().max()\n",
        "print(f'Name of batsman: {ball_played_batsman}, Number of ball played: {total_ball_played}')"
      ],
      "metadata": {
        "colab": {
          "base_uri": "https://localhost:8080/"
        },
        "id": "6kYFyljkHfem",
        "outputId": "4e035535-c996-461e-b625-705300983ad6"
      },
      "execution_count": 13,
      "outputs": [
        {
          "output_type": "stream",
          "name": "stdout",
          "text": [
            "Name of batsman: V Kohli, Number of ball played: 4609\n"
          ]
        }
      ]
    },
    {
      "cell_type": "markdown",
      "source": [
        "Q 22. Who has hit the most number of 4's?"
      ],
      "metadata": {
        "id": "gKP_ibQcvBYB"
      }
    },
    {
      "cell_type": "markdown",
      "source": [
        "Filter the column \"total_runs\" by == 4.\n",
        "\n",
        "Group the data by batsman and find the batsman with idxmax function.\n",
        "\n"
      ],
      "metadata": {
        "id": "IJXv1mHaw-Eh"
      }
    },
    {
      "cell_type": "code",
      "source": [
        "total_4=df[df['total_runs']==4]"
      ],
      "metadata": {
        "id": "pTZ9MFcl8j5W"
      },
      "execution_count": 14,
      "outputs": []
    },
    {
      "cell_type": "code",
      "source": [
        "batsman_total_4=total_4.groupby('batsman').size().idxmax()\n",
        "print(batsman_total_4)"
      ],
      "metadata": {
        "colab": {
          "base_uri": "https://localhost:8080/"
        },
        "id": "aycdGhChvdJh",
        "outputId": "b89ab900-3ed3-4392-a4cb-e83f8f4ff398"
      },
      "execution_count": 15,
      "outputs": [
        {
          "output_type": "stream",
          "name": "stdout",
          "text": [
            "S Dhawan\n"
          ]
        }
      ]
    },
    {
      "cell_type": "markdown",
      "source": [
        "Q 23. Who has hit the most number of 6's?"
      ],
      "metadata": {
        "id": "1irtUPPLyD5W"
      }
    },
    {
      "cell_type": "code",
      "source": [
        "total_6=df[df['total_runs']==6]\n",
        "batsman_total_6=total_6.groupby('batsman').size().idxmax()\n",
        "print(batsman_total_6)"
      ],
      "metadata": {
        "colab": {
          "base_uri": "https://localhost:8080/"
        },
        "id": "BFvGPCqrwN9i",
        "outputId": "fb5b7245-53a9-4f2f-c394-c607b6f7e448"
      },
      "execution_count": 16,
      "outputs": [
        {
          "output_type": "stream",
          "name": "stdout",
          "text": [
            "CH Gayle\n"
          ]
        }
      ]
    },
    {
      "cell_type": "markdown",
      "source": [
        "Q 25. Who is the leading wicket-taker?"
      ],
      "metadata": {
        "id": "SbZ8_o7Q0Fy0"
      }
    },
    {
      "cell_type": "markdown",
      "source": [
        "Ans:\n",
        "Filteer the \"is_wicked\" column by ==1"
      ],
      "metadata": {
        "id": "6P0RqdMp0bsy"
      }
    },
    {
      "cell_type": "code",
      "source": [
        "wickets_total=df[df[\"is_wicket\"]==1]"
      ],
      "metadata": {
        "id": "MIyNADTKyYsn"
      },
      "execution_count": 17,
      "outputs": []
    },
    {
      "cell_type": "code",
      "source": [
        "bowler_wickets=wickets_total.groupby('batsman').size().idxmax()\n",
        "print(bowler_wickets)"
      ],
      "metadata": {
        "colab": {
          "base_uri": "https://localhost:8080/"
        },
        "id": "-owF4zZL02ol",
        "outputId": "6f8f3bd9-357a-4207-b9b9-3d9d30e19eb9"
      },
      "execution_count": 18,
      "outputs": [
        {
          "output_type": "stream",
          "name": "stdout",
          "text": [
            "RG Sharma\n"
          ]
        }
      ]
    },
    {
      "cell_type": "markdown",
      "source": [
        "Q 32. Which team has scored the most runs in the first 6 overs?"
      ],
      "metadata": {
        "id": "iQrjlLy6HjYg"
      }
    },
    {
      "cell_type": "markdown",
      "source": [
        "Ans:\n",
        "to filter the first 6 overs I applied filter >7 in column \"overs\".\n",
        "\n",
        "Then I used groupby function to group the matches and batting team, and obtained the total score.\n",
        "\n",
        "Team who scored maximum runs in first 6 overs was \"Chennai Super Kings who scored 107 runs against Mumbai Indians in match 829729."
      ],
      "metadata": {
        "id": "QVvcMBq_Khly"
      }
    },
    {
      "cell_type": "code",
      "source": [
        "first_6_overs=df[df['over']<7]"
      ],
      "metadata": {
        "id": "9RhW5F4m1IFy"
      },
      "execution_count": 19,
      "outputs": []
    },
    {
      "cell_type": "code",
      "source": [
        "runs_first_6_overs=first_6_overs.groupby(['id','batting_team'])['total_runs'].sum()\n",
        "print(runs_first_6_overs)"
      ],
      "metadata": {
        "colab": {
          "base_uri": "https://localhost:8080/"
        },
        "id": "ebRzYK75H5Mg",
        "outputId": "28624959-fe6e-4818-fca4-cd629a9467d0"
      },
      "execution_count": 20,
      "outputs": [
        {
          "output_type": "stream",
          "name": "stdout",
          "text": [
            "id       batting_team               \n",
            "335982   Kolkata Knight Riders          68\n",
            "         Royal Challengers Bangalore    33\n",
            "335983   Chennai Super Kings            62\n",
            "         Kings XI Punjab                69\n",
            "335984   Delhi Daredevils               59\n",
            "                                        ..\n",
            "1237178  Sunrisers Hyderabad            49\n",
            "1237180  Delhi Capitals                 76\n",
            "         Sunrisers Hyderabad            52\n",
            "1237181  Delhi Capitals                 46\n",
            "         Mumbai Indians                 65\n",
            "Name: total_runs, Length: 1630, dtype: int64\n"
          ]
        }
      ]
    },
    {
      "cell_type": "code",
      "source": [
        "max_run_first_6_overs=runs_first_6_overs.max()\n",
        "team_max_run_first_6_overs=runs_first_6_overs.idxmax()\n",
        "print(team_max_run_first_6_overs)\n",
        "print(max_run_first_6_overs)"
      ],
      "metadata": {
        "colab": {
          "base_uri": "https://localhost:8080/"
        },
        "id": "FSRn_cpsIcl4",
        "outputId": "3e01c7b2-ccfd-4818-9ce0-360339fae8b6"
      },
      "execution_count": 21,
      "outputs": [
        {
          "output_type": "stream",
          "name": "stdout",
          "text": [
            "(829729, 'Chennai Super Kings')\n",
            "107\n"
          ]
        }
      ]
    },
    {
      "cell_type": "markdown",
      "source": [
        "To find the bowling team I extracted the information corresponding to id:829729."
      ],
      "metadata": {
        "id": "znTLGeSZMFw-"
      }
    },
    {
      "cell_type": "code",
      "source": [
        "max_run_first_6_over_bowling_team=runs_first_6_overs.loc[829729]\n",
        "print(max_run_first_6_over_bowling_team)"
      ],
      "metadata": {
        "colab": {
          "base_uri": "https://localhost:8080/"
        },
        "id": "vg_mDpbRJtGL",
        "outputId": "7cd4feb3-46b5-4f0a-9d01-ccd00be18dee"
      },
      "execution_count": 22,
      "outputs": [
        {
          "output_type": "stream",
          "name": "stdout",
          "text": [
            "batting_team\n",
            "Chennai Super Kings    107\n",
            "Mumbai Indians          36\n",
            "Name: total_runs, dtype: int64\n"
          ]
        }
      ]
    },
    {
      "cell_type": "markdown",
      "source": [
        "Q 33. Which team has scored the most runs in the last 4 overs?"
      ],
      "metadata": {
        "id": "fyhinUDJUGed"
      }
    },
    {
      "cell_type": "markdown",
      "source": [
        "Ans: Repeat the above steps by filtering the data in column \"over\" by >16"
      ],
      "metadata": {
        "id": "JMRcghx8UJvP"
      }
    },
    {
      "cell_type": "code",
      "source": [
        "last_4_overs=df[df['over']>16]\n",
        "runs_last_4_overs=last_4_overs.groupby(['id','batting_team'])['total_runs'].sum()\n",
        "max_run_last_4_overs=runs_last_4_overs.max()\n",
        "team_max_run_last_4_overs=runs_last_4_overs.idxmax()\n",
        "print(team_max_run_last_4_overs)\n",
        "print(max_run_last_4_overs)\n"
      ],
      "metadata": {
        "colab": {
          "base_uri": "https://localhost:8080/"
        },
        "id": "7YgP0B32M40M",
        "outputId": "96c13e0a-db32-47f3-e077-ddeda8c5a10e"
      },
      "execution_count": 23,
      "outputs": [
        {
          "output_type": "stream",
          "name": "stdout",
          "text": [
            "(980987, 'Royal Challengers Bangalore')\n",
            "75\n"
          ]
        }
      ]
    },
    {
      "cell_type": "markdown",
      "source": [
        "find the bowling team"
      ],
      "metadata": {
        "id": "lyDUmmbYVZYE"
      }
    },
    {
      "cell_type": "code",
      "source": [
        "max_run_last_4_over_bowling_team=runs_last_4_overs.loc[980987]\n",
        "print(max_run_last_4_over_bowling_team)"
      ],
      "metadata": {
        "colab": {
          "base_uri": "https://localhost:8080/"
        },
        "id": "TEwS5W2hVRf0",
        "outputId": "7d561cc2-93dc-4d23-8ad8-8284201c20b3"
      },
      "execution_count": 24,
      "outputs": [
        {
          "output_type": "stream",
          "name": "stdout",
          "text": [
            "batting_team\n",
            "Gujarat Lions                   6\n",
            "Royal Challengers Bangalore    75\n",
            "Name: total_runs, dtype: int64\n"
          ]
        }
      ]
    },
    {
      "cell_type": "code",
      "source": [],
      "metadata": {
        "id": "KrxrXH4wVo67"
      },
      "execution_count": 24,
      "outputs": []
    }
  ]
}