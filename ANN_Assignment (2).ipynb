{
  "nbformat": 4,
  "nbformat_minor": 0,
  "metadata": {
    "colab": {
      "provenance": []
    },
    "kernelspec": {
      "name": "python3",
      "display_name": "Python 3"
    },
    "language_info": {
      "name": "python"
    }
  },
  "cells": [
    {
      "cell_type": "markdown",
      "source": [
        "Step 1 : EDA"
      ],
      "metadata": {
        "id": "bdLZERsLSOaj"
      }
    },
    {
      "cell_type": "markdown",
      "source": [
        "Load the liberaries"
      ],
      "metadata": {
        "id": "umErVtbNSms9"
      }
    },
    {
      "cell_type": "code",
      "execution_count": 90,
      "metadata": {
        "id": "NucGJgAiRpOG"
      },
      "outputs": [],
      "source": [
        "import pandas as pd\n",
        "import numpy as np\n",
        "import matplotlib.pyplot as plt\n",
        "%matplotlib inline"
      ]
    },
    {
      "cell_type": "code",
      "source": [
        "data=pd.read_csv(\"Heart_Disease_Prediction.csv\")"
      ],
      "metadata": {
        "id": "6mSvRJqBStBL"
      },
      "execution_count": 91,
      "outputs": []
    },
    {
      "cell_type": "markdown",
      "source": [
        "Explore the data type and structure"
      ],
      "metadata": {
        "id": "b5zAPuZ6UGUP"
      }
    },
    {
      "cell_type": "code",
      "source": [
        "data.head()"
      ],
      "metadata": {
        "colab": {
          "base_uri": "https://localhost:8080/",
          "height": 278
        },
        "id": "m69wQjhPTxEK",
        "outputId": "be3d3c30-449b-4bdb-ce6a-01c175c13345"
      },
      "execution_count": 92,
      "outputs": [
        {
          "output_type": "execute_result",
          "data": {
            "text/plain": [
              "   Age  Sex  Chest pain type   BP  Cholesterol  FBS over 120  EKG results  \\\n",
              "0   70    1                4  130          322             0            2   \n",
              "1   67    0                3  115          564             0            2   \n",
              "2   57    1                2  124          261             0            0   \n",
              "3   64    1                4  128          263             0            0   \n",
              "4   74    0                2  120          269             0            2   \n",
              "\n",
              "   Max HR  Exercise angina  ST depression  Slope of ST  \\\n",
              "0     109                0            2.4            2   \n",
              "1     160                0            1.6            2   \n",
              "2     141                0            0.3            1   \n",
              "3     105                1            0.2            2   \n",
              "4     121                1            0.2            1   \n",
              "\n",
              "   Number of vessels fluro  Thallium Heart Disease  \n",
              "0                        3         3      Presence  \n",
              "1                        0         7       Absence  \n",
              "2                        0         7      Presence  \n",
              "3                        1         7       Absence  \n",
              "4                        1         3       Absence  "
            ],
            "text/html": [
              "\n",
              "  <div id=\"df-0962a9a1-7073-4bac-92b4-84df1f389708\" class=\"colab-df-container\">\n",
              "    <div>\n",
              "<style scoped>\n",
              "    .dataframe tbody tr th:only-of-type {\n",
              "        vertical-align: middle;\n",
              "    }\n",
              "\n",
              "    .dataframe tbody tr th {\n",
              "        vertical-align: top;\n",
              "    }\n",
              "\n",
              "    .dataframe thead th {\n",
              "        text-align: right;\n",
              "    }\n",
              "</style>\n",
              "<table border=\"1\" class=\"dataframe\">\n",
              "  <thead>\n",
              "    <tr style=\"text-align: right;\">\n",
              "      <th></th>\n",
              "      <th>Age</th>\n",
              "      <th>Sex</th>\n",
              "      <th>Chest pain type</th>\n",
              "      <th>BP</th>\n",
              "      <th>Cholesterol</th>\n",
              "      <th>FBS over 120</th>\n",
              "      <th>EKG results</th>\n",
              "      <th>Max HR</th>\n",
              "      <th>Exercise angina</th>\n",
              "      <th>ST depression</th>\n",
              "      <th>Slope of ST</th>\n",
              "      <th>Number of vessels fluro</th>\n",
              "      <th>Thallium</th>\n",
              "      <th>Heart Disease</th>\n",
              "    </tr>\n",
              "  </thead>\n",
              "  <tbody>\n",
              "    <tr>\n",
              "      <th>0</th>\n",
              "      <td>70</td>\n",
              "      <td>1</td>\n",
              "      <td>4</td>\n",
              "      <td>130</td>\n",
              "      <td>322</td>\n",
              "      <td>0</td>\n",
              "      <td>2</td>\n",
              "      <td>109</td>\n",
              "      <td>0</td>\n",
              "      <td>2.4</td>\n",
              "      <td>2</td>\n",
              "      <td>3</td>\n",
              "      <td>3</td>\n",
              "      <td>Presence</td>\n",
              "    </tr>\n",
              "    <tr>\n",
              "      <th>1</th>\n",
              "      <td>67</td>\n",
              "      <td>0</td>\n",
              "      <td>3</td>\n",
              "      <td>115</td>\n",
              "      <td>564</td>\n",
              "      <td>0</td>\n",
              "      <td>2</td>\n",
              "      <td>160</td>\n",
              "      <td>0</td>\n",
              "      <td>1.6</td>\n",
              "      <td>2</td>\n",
              "      <td>0</td>\n",
              "      <td>7</td>\n",
              "      <td>Absence</td>\n",
              "    </tr>\n",
              "    <tr>\n",
              "      <th>2</th>\n",
              "      <td>57</td>\n",
              "      <td>1</td>\n",
              "      <td>2</td>\n",
              "      <td>124</td>\n",
              "      <td>261</td>\n",
              "      <td>0</td>\n",
              "      <td>0</td>\n",
              "      <td>141</td>\n",
              "      <td>0</td>\n",
              "      <td>0.3</td>\n",
              "      <td>1</td>\n",
              "      <td>0</td>\n",
              "      <td>7</td>\n",
              "      <td>Presence</td>\n",
              "    </tr>\n",
              "    <tr>\n",
              "      <th>3</th>\n",
              "      <td>64</td>\n",
              "      <td>1</td>\n",
              "      <td>4</td>\n",
              "      <td>128</td>\n",
              "      <td>263</td>\n",
              "      <td>0</td>\n",
              "      <td>0</td>\n",
              "      <td>105</td>\n",
              "      <td>1</td>\n",
              "      <td>0.2</td>\n",
              "      <td>2</td>\n",
              "      <td>1</td>\n",
              "      <td>7</td>\n",
              "      <td>Absence</td>\n",
              "    </tr>\n",
              "    <tr>\n",
              "      <th>4</th>\n",
              "      <td>74</td>\n",
              "      <td>0</td>\n",
              "      <td>2</td>\n",
              "      <td>120</td>\n",
              "      <td>269</td>\n",
              "      <td>0</td>\n",
              "      <td>2</td>\n",
              "      <td>121</td>\n",
              "      <td>1</td>\n",
              "      <td>0.2</td>\n",
              "      <td>1</td>\n",
              "      <td>1</td>\n",
              "      <td>3</td>\n",
              "      <td>Absence</td>\n",
              "    </tr>\n",
              "  </tbody>\n",
              "</table>\n",
              "</div>\n",
              "    <div class=\"colab-df-buttons\">\n",
              "\n",
              "  <div class=\"colab-df-container\">\n",
              "    <button class=\"colab-df-convert\" onclick=\"convertToInteractive('df-0962a9a1-7073-4bac-92b4-84df1f389708')\"\n",
              "            title=\"Convert this dataframe to an interactive table.\"\n",
              "            style=\"display:none;\">\n",
              "\n",
              "  <svg xmlns=\"http://www.w3.org/2000/svg\" height=\"24px\" viewBox=\"0 -960 960 960\">\n",
              "    <path d=\"M120-120v-720h720v720H120Zm60-500h600v-160H180v160Zm220 220h160v-160H400v160Zm0 220h160v-160H400v160ZM180-400h160v-160H180v160Zm440 0h160v-160H620v160ZM180-180h160v-160H180v160Zm440 0h160v-160H620v160Z\"/>\n",
              "  </svg>\n",
              "    </button>\n",
              "\n",
              "  <style>\n",
              "    .colab-df-container {\n",
              "      display:flex;\n",
              "      gap: 12px;\n",
              "    }\n",
              "\n",
              "    .colab-df-convert {\n",
              "      background-color: #E8F0FE;\n",
              "      border: none;\n",
              "      border-radius: 50%;\n",
              "      cursor: pointer;\n",
              "      display: none;\n",
              "      fill: #1967D2;\n",
              "      height: 32px;\n",
              "      padding: 0 0 0 0;\n",
              "      width: 32px;\n",
              "    }\n",
              "\n",
              "    .colab-df-convert:hover {\n",
              "      background-color: #E2EBFA;\n",
              "      box-shadow: 0px 1px 2px rgba(60, 64, 67, 0.3), 0px 1px 3px 1px rgba(60, 64, 67, 0.15);\n",
              "      fill: #174EA6;\n",
              "    }\n",
              "\n",
              "    .colab-df-buttons div {\n",
              "      margin-bottom: 4px;\n",
              "    }\n",
              "\n",
              "    [theme=dark] .colab-df-convert {\n",
              "      background-color: #3B4455;\n",
              "      fill: #D2E3FC;\n",
              "    }\n",
              "\n",
              "    [theme=dark] .colab-df-convert:hover {\n",
              "      background-color: #434B5C;\n",
              "      box-shadow: 0px 1px 3px 1px rgba(0, 0, 0, 0.15);\n",
              "      filter: drop-shadow(0px 1px 2px rgba(0, 0, 0, 0.3));\n",
              "      fill: #FFFFFF;\n",
              "    }\n",
              "  </style>\n",
              "\n",
              "    <script>\n",
              "      const buttonEl =\n",
              "        document.querySelector('#df-0962a9a1-7073-4bac-92b4-84df1f389708 button.colab-df-convert');\n",
              "      buttonEl.style.display =\n",
              "        google.colab.kernel.accessAllowed ? 'block' : 'none';\n",
              "\n",
              "      async function convertToInteractive(key) {\n",
              "        const element = document.querySelector('#df-0962a9a1-7073-4bac-92b4-84df1f389708');\n",
              "        const dataTable =\n",
              "          await google.colab.kernel.invokeFunction('convertToInteractive',\n",
              "                                                    [key], {});\n",
              "        if (!dataTable) return;\n",
              "\n",
              "        const docLinkHtml = 'Like what you see? Visit the ' +\n",
              "          '<a target=\"_blank\" href=https://colab.research.google.com/notebooks/data_table.ipynb>data table notebook</a>'\n",
              "          + ' to learn more about interactive tables.';\n",
              "        element.innerHTML = '';\n",
              "        dataTable['output_type'] = 'display_data';\n",
              "        await google.colab.output.renderOutput(dataTable, element);\n",
              "        const docLink = document.createElement('div');\n",
              "        docLink.innerHTML = docLinkHtml;\n",
              "        element.appendChild(docLink);\n",
              "      }\n",
              "    </script>\n",
              "  </div>\n",
              "\n",
              "\n",
              "<div id=\"df-72283eed-a794-4574-ac96-8f8c77376aa5\">\n",
              "  <button class=\"colab-df-quickchart\" onclick=\"quickchart('df-72283eed-a794-4574-ac96-8f8c77376aa5')\"\n",
              "            title=\"Suggest charts\"\n",
              "            style=\"display:none;\">\n",
              "\n",
              "<svg xmlns=\"http://www.w3.org/2000/svg\" height=\"24px\"viewBox=\"0 0 24 24\"\n",
              "     width=\"24px\">\n",
              "    <g>\n",
              "        <path d=\"M19 3H5c-1.1 0-2 .9-2 2v14c0 1.1.9 2 2 2h14c1.1 0 2-.9 2-2V5c0-1.1-.9-2-2-2zM9 17H7v-7h2v7zm4 0h-2V7h2v10zm4 0h-2v-4h2v4z\"/>\n",
              "    </g>\n",
              "</svg>\n",
              "  </button>\n",
              "\n",
              "<style>\n",
              "  .colab-df-quickchart {\n",
              "      --bg-color: #E8F0FE;\n",
              "      --fill-color: #1967D2;\n",
              "      --hover-bg-color: #E2EBFA;\n",
              "      --hover-fill-color: #174EA6;\n",
              "      --disabled-fill-color: #AAA;\n",
              "      --disabled-bg-color: #DDD;\n",
              "  }\n",
              "\n",
              "  [theme=dark] .colab-df-quickchart {\n",
              "      --bg-color: #3B4455;\n",
              "      --fill-color: #D2E3FC;\n",
              "      --hover-bg-color: #434B5C;\n",
              "      --hover-fill-color: #FFFFFF;\n",
              "      --disabled-bg-color: #3B4455;\n",
              "      --disabled-fill-color: #666;\n",
              "  }\n",
              "\n",
              "  .colab-df-quickchart {\n",
              "    background-color: var(--bg-color);\n",
              "    border: none;\n",
              "    border-radius: 50%;\n",
              "    cursor: pointer;\n",
              "    display: none;\n",
              "    fill: var(--fill-color);\n",
              "    height: 32px;\n",
              "    padding: 0;\n",
              "    width: 32px;\n",
              "  }\n",
              "\n",
              "  .colab-df-quickchart:hover {\n",
              "    background-color: var(--hover-bg-color);\n",
              "    box-shadow: 0 1px 2px rgba(60, 64, 67, 0.3), 0 1px 3px 1px rgba(60, 64, 67, 0.15);\n",
              "    fill: var(--button-hover-fill-color);\n",
              "  }\n",
              "\n",
              "  .colab-df-quickchart-complete:disabled,\n",
              "  .colab-df-quickchart-complete:disabled:hover {\n",
              "    background-color: var(--disabled-bg-color);\n",
              "    fill: var(--disabled-fill-color);\n",
              "    box-shadow: none;\n",
              "  }\n",
              "\n",
              "  .colab-df-spinner {\n",
              "    border: 2px solid var(--fill-color);\n",
              "    border-color: transparent;\n",
              "    border-bottom-color: var(--fill-color);\n",
              "    animation:\n",
              "      spin 1s steps(1) infinite;\n",
              "  }\n",
              "\n",
              "  @keyframes spin {\n",
              "    0% {\n",
              "      border-color: transparent;\n",
              "      border-bottom-color: var(--fill-color);\n",
              "      border-left-color: var(--fill-color);\n",
              "    }\n",
              "    20% {\n",
              "      border-color: transparent;\n",
              "      border-left-color: var(--fill-color);\n",
              "      border-top-color: var(--fill-color);\n",
              "    }\n",
              "    30% {\n",
              "      border-color: transparent;\n",
              "      border-left-color: var(--fill-color);\n",
              "      border-top-color: var(--fill-color);\n",
              "      border-right-color: var(--fill-color);\n",
              "    }\n",
              "    40% {\n",
              "      border-color: transparent;\n",
              "      border-right-color: var(--fill-color);\n",
              "      border-top-color: var(--fill-color);\n",
              "    }\n",
              "    60% {\n",
              "      border-color: transparent;\n",
              "      border-right-color: var(--fill-color);\n",
              "    }\n",
              "    80% {\n",
              "      border-color: transparent;\n",
              "      border-right-color: var(--fill-color);\n",
              "      border-bottom-color: var(--fill-color);\n",
              "    }\n",
              "    90% {\n",
              "      border-color: transparent;\n",
              "      border-bottom-color: var(--fill-color);\n",
              "    }\n",
              "  }\n",
              "</style>\n",
              "\n",
              "  <script>\n",
              "    async function quickchart(key) {\n",
              "      const quickchartButtonEl =\n",
              "        document.querySelector('#' + key + ' button');\n",
              "      quickchartButtonEl.disabled = true;  // To prevent multiple clicks.\n",
              "      quickchartButtonEl.classList.add('colab-df-spinner');\n",
              "      try {\n",
              "        const charts = await google.colab.kernel.invokeFunction(\n",
              "            'suggestCharts', [key], {});\n",
              "      } catch (error) {\n",
              "        console.error('Error during call to suggestCharts:', error);\n",
              "      }\n",
              "      quickchartButtonEl.classList.remove('colab-df-spinner');\n",
              "      quickchartButtonEl.classList.add('colab-df-quickchart-complete');\n",
              "    }\n",
              "    (() => {\n",
              "      let quickchartButtonEl =\n",
              "        document.querySelector('#df-72283eed-a794-4574-ac96-8f8c77376aa5 button');\n",
              "      quickchartButtonEl.style.display =\n",
              "        google.colab.kernel.accessAllowed ? 'block' : 'none';\n",
              "    })();\n",
              "  </script>\n",
              "</div>\n",
              "\n",
              "    </div>\n",
              "  </div>\n"
            ]
          },
          "metadata": {},
          "execution_count": 92
        }
      ]
    },
    {
      "cell_type": "code",
      "source": [
        "data.shape"
      ],
      "metadata": {
        "colab": {
          "base_uri": "https://localhost:8080/"
        },
        "id": "SG5KD8hBT0VP",
        "outputId": "716dde23-3a0d-48ab-c98a-7f70da9f64e6"
      },
      "execution_count": 93,
      "outputs": [
        {
          "output_type": "execute_result",
          "data": {
            "text/plain": [
              "(270, 14)"
            ]
          },
          "metadata": {},
          "execution_count": 93
        }
      ]
    },
    {
      "cell_type": "code",
      "source": [
        "data.dtypes"
      ],
      "metadata": {
        "colab": {
          "base_uri": "https://localhost:8080/"
        },
        "id": "As-_UVbFUU44",
        "outputId": "6bec25a2-ec67-48fd-8d67-92e8351efb3d"
      },
      "execution_count": 94,
      "outputs": [
        {
          "output_type": "execute_result",
          "data": {
            "text/plain": [
              "Age                          int64\n",
              "Sex                          int64\n",
              "Chest pain type              int64\n",
              "BP                           int64\n",
              "Cholesterol                  int64\n",
              "FBS over 120                 int64\n",
              "EKG results                  int64\n",
              "Max HR                       int64\n",
              "Exercise angina              int64\n",
              "ST depression              float64\n",
              "Slope of ST                  int64\n",
              "Number of vessels fluro      int64\n",
              "Thallium                     int64\n",
              "Heart Disease               object\n",
              "dtype: object"
            ]
          },
          "metadata": {},
          "execution_count": 94
        }
      ]
    },
    {
      "cell_type": "code",
      "source": [
        "data.info()"
      ],
      "metadata": {
        "colab": {
          "base_uri": "https://localhost:8080/"
        },
        "id": "i-uMJZpQUdMR",
        "outputId": "5c8e0e9b-4baa-4bc9-aac9-300e55490773"
      },
      "execution_count": 95,
      "outputs": [
        {
          "output_type": "stream",
          "name": "stdout",
          "text": [
            "<class 'pandas.core.frame.DataFrame'>\n",
            "RangeIndex: 270 entries, 0 to 269\n",
            "Data columns (total 14 columns):\n",
            " #   Column                   Non-Null Count  Dtype  \n",
            "---  ------                   --------------  -----  \n",
            " 0   Age                      270 non-null    int64  \n",
            " 1   Sex                      270 non-null    int64  \n",
            " 2   Chest pain type          270 non-null    int64  \n",
            " 3   BP                       270 non-null    int64  \n",
            " 4   Cholesterol              270 non-null    int64  \n",
            " 5   FBS over 120             270 non-null    int64  \n",
            " 6   EKG results              270 non-null    int64  \n",
            " 7   Max HR                   270 non-null    int64  \n",
            " 8   Exercise angina          270 non-null    int64  \n",
            " 9   ST depression            270 non-null    float64\n",
            " 10  Slope of ST              270 non-null    int64  \n",
            " 11  Number of vessels fluro  270 non-null    int64  \n",
            " 12  Thallium                 270 non-null    int64  \n",
            " 13  Heart Disease            270 non-null    object \n",
            "dtypes: float64(1), int64(12), object(1)\n",
            "memory usage: 29.7+ KB\n"
          ]
        }
      ]
    },
    {
      "cell_type": "markdown",
      "source": [
        "OneHote coding of column 12 (Heart disease)"
      ],
      "metadata": {
        "id": "Vtl2FgTUV0AH"
      }
    },
    {
      "cell_type": "markdown",
      "source": [
        "Inport liberary"
      ],
      "metadata": {
        "id": "o7OJoKr6ZWoD"
      }
    },
    {
      "cell_type": "code",
      "source": [
        "from sklearn.preprocessing import LabelEncoder\n",
        "labelencoder=LabelEncoder()"
      ],
      "metadata": {
        "id": "QC0ke6N3ZiMP"
      },
      "execution_count": 96,
      "outputs": []
    },
    {
      "cell_type": "code",
      "source": [
        "data[\"Heart Disease\"].unique()"
      ],
      "metadata": {
        "colab": {
          "base_uri": "https://localhost:8080/"
        },
        "id": "g4qPBtq-VIKO",
        "outputId": "3277514e-6737-4ce4-9594-2734e3b92f6d"
      },
      "execution_count": 97,
      "outputs": [
        {
          "output_type": "execute_result",
          "data": {
            "text/plain": [
              "array(['Presence', 'Absence'], dtype=object)"
            ]
          },
          "metadata": {},
          "execution_count": 97
        }
      ]
    },
    {
      "cell_type": "code",
      "source": [
        "data[\"Heart Disease\"]=labelencoder.fit_transform(data[\"Heart Disease\"])"
      ],
      "metadata": {
        "id": "SABmvxG6WFP3"
      },
      "execution_count": 98,
      "outputs": []
    },
    {
      "cell_type": "code",
      "source": [
        "data[\"Heart Disease\"].unique()"
      ],
      "metadata": {
        "colab": {
          "base_uri": "https://localhost:8080/"
        },
        "id": "S4woxUBIZ3UF",
        "outputId": "2a348d5d-adde-46ac-e56c-5b70623a6319"
      },
      "execution_count": 99,
      "outputs": [
        {
          "output_type": "execute_result",
          "data": {
            "text/plain": [
              "array([1, 0])"
            ]
          },
          "metadata": {},
          "execution_count": 99
        }
      ]
    },
    {
      "cell_type": "markdown",
      "source": [
        "Step2: Neural Network"
      ],
      "metadata": {
        "id": "0Z8FZ2PdaySq"
      }
    },
    {
      "cell_type": "code",
      "source": [
        "!pip install keras"
      ],
      "metadata": {
        "colab": {
          "base_uri": "https://localhost:8080/"
        },
        "id": "DZssS4aeaVSu",
        "outputId": "cd3980ab-d31c-4862-e19e-09ab20dfef26"
      },
      "execution_count": 100,
      "outputs": [
        {
          "output_type": "stream",
          "name": "stdout",
          "text": [
            "Requirement already satisfied: keras in /usr/local/lib/python3.10/dist-packages (2.15.0)\n"
          ]
        }
      ]
    },
    {
      "cell_type": "markdown",
      "source": [
        "Creat MLP inkeras"
      ],
      "metadata": {
        "id": "M3SdyY1wbCyl"
      }
    },
    {
      "cell_type": "code",
      "source": [
        "from keras.models import Sequential\n",
        "from keras.layers import Dense\n"
      ],
      "metadata": {
        "id": "CBGFTRgba7q1"
      },
      "execution_count": 101,
      "outputs": []
    },
    {
      "cell_type": "markdown",
      "source": [
        "Fix random seed for reproducibility"
      ],
      "metadata": {
        "id": "HiRDkuWdb30d"
      }
    },
    {
      "cell_type": "code",
      "source": [
        "seed=7\n",
        "np.random.seed(seed)"
      ],
      "metadata": {
        "id": "DYqbIaWybzGT"
      },
      "execution_count": 102,
      "outputs": []
    },
    {
      "cell_type": "markdown",
      "source": [
        "Split dataset into input (x) and input (y) variables"
      ],
      "metadata": {
        "id": "H6EhEXxAcJE3"
      }
    },
    {
      "cell_type": "code",
      "source": [
        "x=data.iloc[:, 0:13]\n",
        "y=data.iloc[:,13]"
      ],
      "metadata": {
        "id": "fAqp2agXcCia"
      },
      "execution_count": 103,
      "outputs": []
    },
    {
      "cell_type": "markdown",
      "source": [
        "I checked the colloumn assigned to x and y."
      ],
      "metadata": {
        "id": "XaJ-07uROj6x"
      }
    },
    {
      "cell_type": "code",
      "source": [
        "print(\"Columns in x:\", x.columns)\n",
        "print(\"Columns in y\", y.name)"
      ],
      "metadata": {
        "colab": {
          "base_uri": "https://localhost:8080/"
        },
        "id": "G-tp5CF_OdE2",
        "outputId": "b922503b-b7a4-4ad5-b733-2e9732fbf277"
      },
      "execution_count": 104,
      "outputs": [
        {
          "output_type": "stream",
          "name": "stdout",
          "text": [
            "Columns in x: Index(['Age', 'Sex', 'Chest pain type', 'BP', 'Cholesterol', 'FBS over 120',\n",
            "       'EKG results', 'Max HR', 'Exercise angina', 'ST depression',\n",
            "       'Slope of ST', 'Number of vessels fluro', 'Thallium'],\n",
            "      dtype='object')\n",
            "Columns in y Heart Disease\n"
          ]
        }
      ]
    },
    {
      "cell_type": "markdown",
      "source": [],
      "metadata": {
        "id": "9SttnuACOciC"
      }
    },
    {
      "cell_type": "markdown",
      "source": [
        "Create model"
      ],
      "metadata": {
        "id": "pz4isWbMfTua"
      }
    },
    {
      "cell_type": "code",
      "source": [
        "model=Sequential()\n",
        "model.add(Dense(13,input_dim=13,activation='relu')) #1st layer\n",
        "model.add(Dense(8,activation='relu')) #2nd layer\n",
        "model.add(Dense(1,activation='sigmoid')) #3rd layer or top layer"
      ],
      "metadata": {
        "id": "aFDabwIncpk3"
      },
      "execution_count": 105,
      "outputs": []
    },
    {
      "cell_type": "markdown",
      "source": [
        "Complete model"
      ],
      "metadata": {
        "id": "qYEHHPiHfrir"
      }
    },
    {
      "cell_type": "code",
      "source": [
        "model.compile(loss='binary_crossentropy', optimizer='adam', metrics=['accuracy'])"
      ],
      "metadata": {
        "id": "sxFDTU1Ufnfl"
      },
      "execution_count": 106,
      "outputs": []
    },
    {
      "cell_type": "markdown",
      "source": [
        "Fit the model"
      ],
      "metadata": {
        "id": "4wVEBWi3gmsP"
      }
    },
    {
      "cell_type": "code",
      "source": [
        "history=model.fit(x,y,validation_split=0.33,epochs=100,batch_size=100)"
      ],
      "metadata": {
        "colab": {
          "base_uri": "https://localhost:8080/"
        },
        "id": "5Y5McsLAgOuA",
        "outputId": "66ee7296-0ede-4d4f-ad8f-42292bdcd6dd"
      },
      "execution_count": 107,
      "outputs": [
        {
          "output_type": "stream",
          "name": "stdout",
          "text": [
            "Epoch 1/100\n",
            "2/2 [==============================] - 1s 462ms/step - loss: 60.1682 - accuracy: 0.5444 - val_loss: 54.0818 - val_accuracy: 0.5778\n",
            "Epoch 2/100\n",
            "2/2 [==============================] - 0s 36ms/step - loss: 56.6235 - accuracy: 0.5444 - val_loss: 50.7038 - val_accuracy: 0.5778\n",
            "Epoch 3/100\n",
            "2/2 [==============================] - 0s 35ms/step - loss: 53.0239 - accuracy: 0.5444 - val_loss: 47.2773 - val_accuracy: 0.5778\n",
            "Epoch 4/100\n",
            "2/2 [==============================] - 0s 35ms/step - loss: 49.3635 - accuracy: 0.5444 - val_loss: 43.8267 - val_accuracy: 0.5778\n",
            "Epoch 5/100\n",
            "2/2 [==============================] - 0s 53ms/step - loss: 45.9606 - accuracy: 0.5444 - val_loss: 40.3228 - val_accuracy: 0.5778\n",
            "Epoch 6/100\n",
            "2/2 [==============================] - 0s 51ms/step - loss: 42.2396 - accuracy: 0.5444 - val_loss: 36.8088 - val_accuracy: 0.5778\n",
            "Epoch 7/100\n",
            "2/2 [==============================] - 0s 37ms/step - loss: 38.4657 - accuracy: 0.5444 - val_loss: 33.2734 - val_accuracy: 0.5778\n",
            "Epoch 8/100\n",
            "2/2 [==============================] - 0s 35ms/step - loss: 34.8227 - accuracy: 0.5444 - val_loss: 29.6895 - val_accuracy: 0.5778\n",
            "Epoch 9/100\n",
            "2/2 [==============================] - 0s 35ms/step - loss: 31.1531 - accuracy: 0.5444 - val_loss: 26.0773 - val_accuracy: 0.5778\n",
            "Epoch 10/100\n",
            "2/2 [==============================] - 0s 52ms/step - loss: 27.5605 - accuracy: 0.5444 - val_loss: 22.4518 - val_accuracy: 0.5778\n",
            "Epoch 11/100\n",
            "2/2 [==============================] - 0s 37ms/step - loss: 23.7540 - accuracy: 0.5444 - val_loss: 18.8697 - val_accuracy: 0.5778\n",
            "Epoch 12/100\n",
            "2/2 [==============================] - 0s 37ms/step - loss: 20.1381 - accuracy: 0.5444 - val_loss: 15.3597 - val_accuracy: 0.5778\n",
            "Epoch 13/100\n",
            "2/2 [==============================] - 0s 64ms/step - loss: 16.3438 - accuracy: 0.5444 - val_loss: 11.9429 - val_accuracy: 0.5778\n",
            "Epoch 14/100\n",
            "2/2 [==============================] - 0s 54ms/step - loss: 12.6806 - accuracy: 0.5444 - val_loss: 8.6702 - val_accuracy: 0.5667\n",
            "Epoch 15/100\n",
            "2/2 [==============================] - 0s 65ms/step - loss: 9.2084 - accuracy: 0.5278 - val_loss: 5.7643 - val_accuracy: 0.4889\n",
            "Epoch 16/100\n",
            "2/2 [==============================] - 0s 36ms/step - loss: 6.2123 - accuracy: 0.4222 - val_loss: 4.7844 - val_accuracy: 0.3111\n",
            "Epoch 17/100\n",
            "2/2 [==============================] - 0s 54ms/step - loss: 5.3518 - accuracy: 0.3556 - val_loss: 5.5782 - val_accuracy: 0.3778\n",
            "Epoch 18/100\n",
            "2/2 [==============================] - 0s 41ms/step - loss: 5.6230 - accuracy: 0.3778 - val_loss: 6.5048 - val_accuracy: 0.3556\n",
            "Epoch 19/100\n",
            "2/2 [==============================] - 0s 54ms/step - loss: 6.0035 - accuracy: 0.3889 - val_loss: 6.8950 - val_accuracy: 0.3556\n",
            "Epoch 20/100\n",
            "2/2 [==============================] - 0s 36ms/step - loss: 5.9003 - accuracy: 0.3889 - val_loss: 6.5719 - val_accuracy: 0.3444\n",
            "Epoch 21/100\n",
            "2/2 [==============================] - 0s 57ms/step - loss: 5.4106 - accuracy: 0.4111 - val_loss: 5.6931 - val_accuracy: 0.3444\n",
            "Epoch 22/100\n",
            "2/2 [==============================] - 0s 61ms/step - loss: 4.5902 - accuracy: 0.4167 - val_loss: 4.3443 - val_accuracy: 0.3444\n",
            "Epoch 23/100\n",
            "2/2 [==============================] - 0s 54ms/step - loss: 3.4953 - accuracy: 0.4111 - val_loss: 2.9452 - val_accuracy: 0.3556\n",
            "Epoch 24/100\n",
            "2/2 [==============================] - 0s 58ms/step - loss: 2.5330 - accuracy: 0.3778 - val_loss: 2.3490 - val_accuracy: 0.3778\n",
            "Epoch 25/100\n",
            "2/2 [==============================] - 0s 36ms/step - loss: 2.3816 - accuracy: 0.3611 - val_loss: 2.5100 - val_accuracy: 0.5222\n",
            "Epoch 26/100\n",
            "2/2 [==============================] - 0s 45ms/step - loss: 2.6738 - accuracy: 0.4944 - val_loss: 2.6513 - val_accuracy: 0.5111\n",
            "Epoch 27/100\n",
            "2/2 [==============================] - 0s 37ms/step - loss: 2.7380 - accuracy: 0.5167 - val_loss: 2.4298 - val_accuracy: 0.5000\n",
            "Epoch 28/100\n",
            "2/2 [==============================] - 0s 35ms/step - loss: 2.4258 - accuracy: 0.4944 - val_loss: 2.0212 - val_accuracy: 0.4333\n",
            "Epoch 29/100\n",
            "2/2 [==============================] - 0s 36ms/step - loss: 1.9234 - accuracy: 0.3722 - val_loss: 1.8678 - val_accuracy: 0.3222\n",
            "Epoch 30/100\n",
            "2/2 [==============================] - 0s 57ms/step - loss: 1.7066 - accuracy: 0.3889 - val_loss: 2.0764 - val_accuracy: 0.3556\n",
            "Epoch 31/100\n",
            "2/2 [==============================] - 0s 52ms/step - loss: 1.8104 - accuracy: 0.4111 - val_loss: 2.2561 - val_accuracy: 0.3556\n",
            "Epoch 32/100\n",
            "2/2 [==============================] - 0s 61ms/step - loss: 1.8430 - accuracy: 0.4056 - val_loss: 2.0996 - val_accuracy: 0.3667\n",
            "Epoch 33/100\n",
            "2/2 [==============================] - 0s 52ms/step - loss: 1.6789 - accuracy: 0.4111 - val_loss: 1.7541 - val_accuracy: 0.3556\n",
            "Epoch 34/100\n",
            "2/2 [==============================] - 0s 55ms/step - loss: 1.4617 - accuracy: 0.4333 - val_loss: 1.5290 - val_accuracy: 0.3889\n",
            "Epoch 35/100\n",
            "2/2 [==============================] - 0s 84ms/step - loss: 1.3904 - accuracy: 0.3667 - val_loss: 1.5286 - val_accuracy: 0.4444\n",
            "Epoch 36/100\n",
            "2/2 [==============================] - 0s 75ms/step - loss: 1.3960 - accuracy: 0.4167 - val_loss: 1.4736 - val_accuracy: 0.4556\n",
            "Epoch 37/100\n",
            "2/2 [==============================] - 0s 71ms/step - loss: 1.2882 - accuracy: 0.4167 - val_loss: 1.3748 - val_accuracy: 0.3778\n",
            "Epoch 38/100\n",
            "2/2 [==============================] - 0s 68ms/step - loss: 1.1445 - accuracy: 0.4111 - val_loss: 1.3937 - val_accuracy: 0.3889\n",
            "Epoch 39/100\n",
            "2/2 [==============================] - 0s 68ms/step - loss: 1.1417 - accuracy: 0.4556 - val_loss: 1.4379 - val_accuracy: 0.3889\n",
            "Epoch 40/100\n",
            "2/2 [==============================] - 0s 57ms/step - loss: 1.1238 - accuracy: 0.4833 - val_loss: 1.3354 - val_accuracy: 0.4111\n",
            "Epoch 41/100\n",
            "2/2 [==============================] - 0s 55ms/step - loss: 1.0220 - accuracy: 0.4944 - val_loss: 1.2034 - val_accuracy: 0.4000\n",
            "Epoch 42/100\n",
            "2/2 [==============================] - 0s 54ms/step - loss: 0.9557 - accuracy: 0.4778 - val_loss: 1.1468 - val_accuracy: 0.4333\n",
            "Epoch 43/100\n",
            "2/2 [==============================] - 0s 60ms/step - loss: 0.9498 - accuracy: 0.5000 - val_loss: 1.1217 - val_accuracy: 0.4778\n",
            "Epoch 44/100\n",
            "2/2 [==============================] - 0s 55ms/step - loss: 0.9127 - accuracy: 0.5222 - val_loss: 1.0531 - val_accuracy: 0.4333\n",
            "Epoch 45/100\n",
            "2/2 [==============================] - 0s 40ms/step - loss: 0.8232 - accuracy: 0.5778 - val_loss: 1.0205 - val_accuracy: 0.4556\n",
            "Epoch 46/100\n",
            "2/2 [==============================] - 0s 65ms/step - loss: 0.8074 - accuracy: 0.5667 - val_loss: 1.0147 - val_accuracy: 0.4222\n",
            "Epoch 47/100\n",
            "2/2 [==============================] - 0s 45ms/step - loss: 0.7606 - accuracy: 0.5722 - val_loss: 0.9343 - val_accuracy: 0.4667\n",
            "Epoch 48/100\n",
            "2/2 [==============================] - 0s 58ms/step - loss: 0.6898 - accuracy: 0.6333 - val_loss: 0.8994 - val_accuracy: 0.5667\n",
            "Epoch 49/100\n",
            "2/2 [==============================] - 0s 38ms/step - loss: 0.6784 - accuracy: 0.6667 - val_loss: 0.8841 - val_accuracy: 0.5889\n",
            "Epoch 50/100\n",
            "2/2 [==============================] - 0s 56ms/step - loss: 0.6617 - accuracy: 0.6722 - val_loss: 0.8426 - val_accuracy: 0.5333\n",
            "Epoch 51/100\n",
            "2/2 [==============================] - 0s 37ms/step - loss: 0.6245 - accuracy: 0.7056 - val_loss: 0.8301 - val_accuracy: 0.5444\n",
            "Epoch 52/100\n",
            "2/2 [==============================] - 0s 60ms/step - loss: 0.6288 - accuracy: 0.6611 - val_loss: 0.8194 - val_accuracy: 0.5556\n",
            "Epoch 53/100\n",
            "2/2 [==============================] - 0s 55ms/step - loss: 0.6255 - accuracy: 0.6833 - val_loss: 0.7847 - val_accuracy: 0.5556\n",
            "Epoch 54/100\n",
            "2/2 [==============================] - 0s 53ms/step - loss: 0.5997 - accuracy: 0.7167 - val_loss: 0.7702 - val_accuracy: 0.6222\n",
            "Epoch 55/100\n",
            "2/2 [==============================] - 0s 71ms/step - loss: 0.5921 - accuracy: 0.7167 - val_loss: 0.7586 - val_accuracy: 0.6222\n",
            "Epoch 56/100\n",
            "2/2 [==============================] - 0s 74ms/step - loss: 0.5902 - accuracy: 0.7111 - val_loss: 0.7471 - val_accuracy: 0.6111\n",
            "Epoch 57/100\n",
            "2/2 [==============================] - 0s 57ms/step - loss: 0.5778 - accuracy: 0.7111 - val_loss: 0.7384 - val_accuracy: 0.6000\n",
            "Epoch 58/100\n",
            "2/2 [==============================] - 0s 68ms/step - loss: 0.5747 - accuracy: 0.7167 - val_loss: 0.7304 - val_accuracy: 0.5889\n",
            "Epoch 59/100\n",
            "2/2 [==============================] - 0s 66ms/step - loss: 0.5703 - accuracy: 0.7278 - val_loss: 0.7247 - val_accuracy: 0.5889\n",
            "Epoch 60/100\n",
            "2/2 [==============================] - 0s 67ms/step - loss: 0.5705 - accuracy: 0.7222 - val_loss: 0.7180 - val_accuracy: 0.6000\n",
            "Epoch 61/100\n",
            "2/2 [==============================] - 0s 72ms/step - loss: 0.5648 - accuracy: 0.7333 - val_loss: 0.7143 - val_accuracy: 0.5778\n",
            "Epoch 62/100\n",
            "2/2 [==============================] - 0s 78ms/step - loss: 0.5631 - accuracy: 0.7333 - val_loss: 0.7098 - val_accuracy: 0.5889\n",
            "Epoch 63/100\n",
            "2/2 [==============================] - 0s 72ms/step - loss: 0.5618 - accuracy: 0.7333 - val_loss: 0.7067 - val_accuracy: 0.5889\n",
            "Epoch 64/100\n",
            "2/2 [==============================] - 0s 68ms/step - loss: 0.5604 - accuracy: 0.7389 - val_loss: 0.7025 - val_accuracy: 0.6000\n",
            "Epoch 65/100\n",
            "2/2 [==============================] - 0s 63ms/step - loss: 0.5586 - accuracy: 0.7333 - val_loss: 0.6994 - val_accuracy: 0.6111\n",
            "Epoch 66/100\n",
            "2/2 [==============================] - 0s 70ms/step - loss: 0.5574 - accuracy: 0.7333 - val_loss: 0.6967 - val_accuracy: 0.6000\n",
            "Epoch 67/100\n",
            "2/2 [==============================] - 0s 54ms/step - loss: 0.5594 - accuracy: 0.7333 - val_loss: 0.6940 - val_accuracy: 0.6000\n",
            "Epoch 68/100\n",
            "2/2 [==============================] - 0s 67ms/step - loss: 0.5555 - accuracy: 0.7333 - val_loss: 0.6928 - val_accuracy: 0.6000\n",
            "Epoch 69/100\n",
            "2/2 [==============================] - 0s 66ms/step - loss: 0.5533 - accuracy: 0.7389 - val_loss: 0.6939 - val_accuracy: 0.6000\n",
            "Epoch 70/100\n",
            "2/2 [==============================] - 0s 71ms/step - loss: 0.5545 - accuracy: 0.7500 - val_loss: 0.6909 - val_accuracy: 0.6111\n",
            "Epoch 71/100\n",
            "2/2 [==============================] - 0s 67ms/step - loss: 0.5527 - accuracy: 0.7444 - val_loss: 0.6856 - val_accuracy: 0.6000\n",
            "Epoch 72/100\n",
            "2/2 [==============================] - 0s 73ms/step - loss: 0.5547 - accuracy: 0.7333 - val_loss: 0.6843 - val_accuracy: 0.6111\n",
            "Epoch 73/100\n",
            "2/2 [==============================] - 0s 76ms/step - loss: 0.5510 - accuracy: 0.7500 - val_loss: 0.6811 - val_accuracy: 0.6111\n",
            "Epoch 74/100\n",
            "2/2 [==============================] - 0s 82ms/step - loss: 0.5478 - accuracy: 0.7444 - val_loss: 0.6800 - val_accuracy: 0.6222\n",
            "Epoch 75/100\n",
            "2/2 [==============================] - 0s 73ms/step - loss: 0.5464 - accuracy: 0.7500 - val_loss: 0.6792 - val_accuracy: 0.6111\n",
            "Epoch 76/100\n",
            "2/2 [==============================] - 0s 69ms/step - loss: 0.5457 - accuracy: 0.7556 - val_loss: 0.6771 - val_accuracy: 0.6222\n",
            "Epoch 77/100\n",
            "2/2 [==============================] - 0s 55ms/step - loss: 0.5444 - accuracy: 0.7500 - val_loss: 0.6753 - val_accuracy: 0.6222\n",
            "Epoch 78/100\n",
            "2/2 [==============================] - 0s 53ms/step - loss: 0.5430 - accuracy: 0.7500 - val_loss: 0.6739 - val_accuracy: 0.6222\n",
            "Epoch 79/100\n",
            "2/2 [==============================] - 0s 70ms/step - loss: 0.5449 - accuracy: 0.7444 - val_loss: 0.6725 - val_accuracy: 0.6222\n",
            "Epoch 80/100\n",
            "2/2 [==============================] - 0s 55ms/step - loss: 0.5422 - accuracy: 0.7556 - val_loss: 0.6734 - val_accuracy: 0.6111\n",
            "Epoch 81/100\n",
            "2/2 [==============================] - 0s 74ms/step - loss: 0.5420 - accuracy: 0.7500 - val_loss: 0.6707 - val_accuracy: 0.6222\n",
            "Epoch 82/100\n",
            "2/2 [==============================] - 0s 67ms/step - loss: 0.5389 - accuracy: 0.7556 - val_loss: 0.6692 - val_accuracy: 0.6222\n",
            "Epoch 83/100\n",
            "2/2 [==============================] - 0s 35ms/step - loss: 0.5392 - accuracy: 0.7611 - val_loss: 0.6683 - val_accuracy: 0.6222\n",
            "Epoch 84/100\n",
            "2/2 [==============================] - 0s 51ms/step - loss: 0.5421 - accuracy: 0.7500 - val_loss: 0.6670 - val_accuracy: 0.6444\n",
            "Epoch 85/100\n",
            "2/2 [==============================] - 0s 52ms/step - loss: 0.5357 - accuracy: 0.7556 - val_loss: 0.6657 - val_accuracy: 0.6222\n",
            "Epoch 86/100\n",
            "2/2 [==============================] - 0s 52ms/step - loss: 0.5362 - accuracy: 0.7556 - val_loss: 0.6665 - val_accuracy: 0.6222\n",
            "Epoch 87/100\n",
            "2/2 [==============================] - 0s 70ms/step - loss: 0.5334 - accuracy: 0.7667 - val_loss: 0.6635 - val_accuracy: 0.6222\n",
            "Epoch 88/100\n",
            "2/2 [==============================] - 0s 39ms/step - loss: 0.5317 - accuracy: 0.7556 - val_loss: 0.6620 - val_accuracy: 0.6333\n",
            "Epoch 89/100\n",
            "2/2 [==============================] - 0s 36ms/step - loss: 0.5312 - accuracy: 0.7611 - val_loss: 0.6610 - val_accuracy: 0.6444\n",
            "Epoch 90/100\n",
            "2/2 [==============================] - 0s 53ms/step - loss: 0.5307 - accuracy: 0.7667 - val_loss: 0.6596 - val_accuracy: 0.6333\n",
            "Epoch 91/100\n",
            "2/2 [==============================] - 0s 39ms/step - loss: 0.5304 - accuracy: 0.7556 - val_loss: 0.6582 - val_accuracy: 0.6222\n",
            "Epoch 92/100\n",
            "2/2 [==============================] - 0s 38ms/step - loss: 0.5277 - accuracy: 0.7722 - val_loss: 0.6569 - val_accuracy: 0.6333\n",
            "Epoch 93/100\n",
            "2/2 [==============================] - 0s 88ms/step - loss: 0.5267 - accuracy: 0.7611 - val_loss: 0.6561 - val_accuracy: 0.6222\n",
            "Epoch 94/100\n",
            "2/2 [==============================] - 0s 105ms/step - loss: 0.5255 - accuracy: 0.7611 - val_loss: 0.6549 - val_accuracy: 0.6222\n",
            "Epoch 95/100\n",
            "2/2 [==============================] - 0s 79ms/step - loss: 0.5266 - accuracy: 0.7667 - val_loss: 0.6537 - val_accuracy: 0.6333\n",
            "Epoch 96/100\n",
            "2/2 [==============================] - 0s 80ms/step - loss: 0.5235 - accuracy: 0.7667 - val_loss: 0.6526 - val_accuracy: 0.6222\n",
            "Epoch 97/100\n",
            "2/2 [==============================] - 0s 71ms/step - loss: 0.5220 - accuracy: 0.7667 - val_loss: 0.6528 - val_accuracy: 0.6222\n",
            "Epoch 98/100\n",
            "2/2 [==============================] - 0s 121ms/step - loss: 0.5219 - accuracy: 0.7722 - val_loss: 0.6510 - val_accuracy: 0.6222\n",
            "Epoch 99/100\n",
            "2/2 [==============================] - 0s 96ms/step - loss: 0.5262 - accuracy: 0.7667 - val_loss: 0.6488 - val_accuracy: 0.6333\n",
            "Epoch 100/100\n",
            "2/2 [==============================] - 0s 121ms/step - loss: 0.5206 - accuracy: 0.7722 - val_loss: 0.6496 - val_accuracy: 0.6222\n"
          ]
        }
      ]
    },
    {
      "cell_type": "markdown",
      "source": [
        "Evaluate the model"
      ],
      "metadata": {
        "id": "2fnjX-Uvimvg"
      }
    },
    {
      "cell_type": "code",
      "source": [
        "scores=model.evaluate(x,y)"
      ],
      "metadata": {
        "colab": {
          "base_uri": "https://localhost:8080/"
        },
        "id": "AsyWv6PkhPZ9",
        "outputId": "b67aeaea-b4d1-4b65-9a15-9e6767ba49e6"
      },
      "execution_count": 108,
      "outputs": [
        {
          "output_type": "stream",
          "name": "stdout",
          "text": [
            "9/9 [==============================] - 0s 4ms/step - loss: 0.5626 - accuracy: 0.7222\n"
          ]
        }
      ]
    },
    {
      "cell_type": "code",
      "source": [
        "print(\"%s,%.2f%%\"%(model.metrics_names[1],scores[1]*100))"
      ],
      "metadata": {
        "colab": {
          "base_uri": "https://localhost:8080/"
        },
        "id": "y1vJFQ3Mizkm",
        "outputId": "e57e54c3-3fb8-40a8-a8c9-ce78eff839e6"
      },
      "execution_count": 109,
      "outputs": [
        {
          "output_type": "stream",
          "name": "stdout",
          "text": [
            "accuracy,72.22%\n"
          ]
        }
      ]
    },
    {
      "cell_type": "markdown",
      "source": [
        "Visaulize the training history\n",
        "\n",
        "List all data in history"
      ],
      "metadata": {
        "id": "_kYXXvAlkLcy"
      }
    },
    {
      "cell_type": "code",
      "source": [
        "history.history.keys()"
      ],
      "metadata": {
        "colab": {
          "base_uri": "https://localhost:8080/"
        },
        "id": "AMOagag6jjjM",
        "outputId": "cd7321c4-e0ea-4fcd-a182-b1a06bbab000"
      },
      "execution_count": 110,
      "outputs": [
        {
          "output_type": "execute_result",
          "data": {
            "text/plain": [
              "dict_keys(['loss', 'accuracy', 'val_loss', 'val_accuracy'])"
            ]
          },
          "metadata": {},
          "execution_count": 110
        }
      ]
    },
    {
      "cell_type": "markdown",
      "source": [
        "Summarize history for accuracy"
      ],
      "metadata": {
        "id": "1OtEmCcwkdSi"
      }
    },
    {
      "cell_type": "code",
      "source": [
        "plt.plot(history.history['accuracy'])\n",
        "plt.plot(history.history[\"val_accuracy\"])\n",
        "plt.title('model accuracy')\n",
        "plt.ylabel('accuracy')\n",
        "plt.xlabel('epoch')\n",
        "plt.legend(['train,test'],loc='upper left')\n",
        "plt.show()"
      ],
      "metadata": {
        "colab": {
          "base_uri": "https://localhost:8080/",
          "height": 472
        },
        "id": "wAPUW7fukUyc",
        "outputId": "f17cd68c-6cb8-418a-bc06-5c366d9068be"
      },
      "execution_count": 111,
      "outputs": [
        {
          "output_type": "display_data",
          "data": {
            "text/plain": [
              "<Figure size 640x480 with 1 Axes>"
            ],
            "image/png": "[encoded data removed]"
          },
          "metadata": {}
        }
      ]
    },
    {
      "cell_type": "markdown",
      "source": [
        "Summarize history for loss"
      ],
      "metadata": {
        "id": "B46KKVy4k6ce"
      }
    },
    {
      "cell_type": "code",
      "source": [
        "plt.plot(history.history['loss'])\n",
        "plt.plot(history.history['val_loss'])\n",
        "plt.title('model loss')\n",
        "plt.ylabel('loss')\n",
        "plt.xlabel('epoch')\n",
        "plt.legend(['train','test'],loc='upper left')\n",
        "plt.show()"
      ],
      "metadata": {
        "colab": {
          "base_uri": "https://localhost:8080/",
          "height": 472
        },
        "id": "iSB8k1YykyWe",
        "outputId": "e1f47fd6-80bb-4126-a089-0fd8782114f0"
      },
      "execution_count": 112,
      "outputs": [
        {
          "output_type": "display_data",
          "data": {
            "text/plain": [
              "<Figure size 640x480 with 1 Axes>"
            ],
            "image/png": "[encoded data removed]"
          },
          "metadata": {}
        }
      ]
    },
    {
      "cell_type": "code",
      "source": [],
      "metadata": {
        "id": "ga8ZigZhlBWG"
      },
      "execution_count": 112,
      "outputs": []
    }
  ]
}